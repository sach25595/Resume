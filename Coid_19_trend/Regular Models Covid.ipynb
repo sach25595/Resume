{
 "cells": [
  {
   "cell_type": "code",
   "execution_count": 70,
   "id": "1a992473",
   "metadata": {},
   "outputs": [],
   "source": [
    "import numpy as np\n",
    "import pandas as pd\n",
    "from sklearn.model_selection import train_test_split\n",
    "import warnings\n",
    "import seaborn as sns\n",
    "warnings.filterwarnings('ignore')\n",
    "import sklearn\n",
    "import matplotlib.pyplot as plt"
   ]
  },
  {
   "cell_type": "code",
   "execution_count": 71,
   "id": "8de157dd",
   "metadata": {},
   "outputs": [],
   "source": [
    "df = pd.read_excel('Golbal_combined4.xlsx')"
   ]
  },
  {
   "cell_type": "code",
   "execution_count": 72,
   "id": "e1a8b0d5",
   "metadata": {},
   "outputs": [
    {
     "data": {
      "text/plain": [
       "Index(['Date', 'Confirmed'], dtype='object')"
      ]
     },
     "execution_count": 72,
     "metadata": {},
     "output_type": "execute_result"
    }
   ],
   "source": [
    "df.columns"
   ]
  },
  {
   "cell_type": "code",
   "execution_count": 73,
   "id": "ff2f0862",
   "metadata": {},
   "outputs": [],
   "source": [
    "df_train, df_test = sklearn.model_selection.train_test_split(df, train_size = 0.7,random_state = 2022)"
   ]
  },
  {
   "cell_type": "code",
   "execution_count": 74,
   "id": "a04f652f",
   "metadata": {},
   "outputs": [],
   "source": [
    "from sklearn.preprocessing import StandardScaler\n",
    "scaler = StandardScaler()\n",
    "df_train[['Date', 'Confirmed']] =scaler.fit_transform(df_train[['Date', 'Confirmed']])\n",
    "df_test[['Date', 'Confirmed']] = scaler.transform(df_test[['Date', 'Confirmed']])"
   ]
  },
  {
   "cell_type": "code",
   "execution_count": 75,
   "id": "83ca027f",
   "metadata": {},
   "outputs": [],
   "source": [
    "df_final = df_train.append(df_test)"
   ]
  },
  {
   "cell_type": "code",
   "execution_count": 76,
   "id": "1ec16833",
   "metadata": {},
   "outputs": [],
   "source": [
    "y_train = df_train['Confirmed']\n",
    "x_train = df_train[['Date']]\n",
    "y_test = df_test['Confirmed']\n",
    "x_test = df_test[['Date']]"
   ]
  },
  {
   "cell_type": "code",
   "execution_count": 77,
   "id": "5a80360c",
   "metadata": {},
   "outputs": [],
   "source": [
    "# Initializing the R2 scores, mse, mae lists\n",
    "R2_scores = []\n",
    "mse = []\n",
    "mae = []"
   ]
  },
  {
   "cell_type": "markdown",
   "id": "14810da4",
   "metadata": {},
   "source": [
    "Utilizing the optimized models from the libraries and calculating the R2 Scores for each model on default hyper parameters"
   ]
  },
  {
   "cell_type": "markdown",
   "id": "c346bdb3",
   "metadata": {},
   "source": [
    "# 1. Linear Regression"
   ]
  },
  {
   "cell_type": "code",
   "execution_count": 78,
   "id": "1abb4077",
   "metadata": {},
   "outputs": [],
   "source": [
    "from sklearn.linear_model import LinearRegression\n",
    "regressor = LinearRegression()             #object creation\n",
    "regressor.fit(x_train,y_train)\n",
    "y_pred = regressor.predict(x_test)"
   ]
  },
  {
   "cell_type": "code",
   "execution_count": 79,
   "id": "2144b663",
   "metadata": {},
   "outputs": [
    {
     "name": "stdout",
     "output_type": "stream",
     "text": [
      " r2_score 0.526147960363551\n",
      "Mean Square Error 0.47517965279223306\n",
      "Mean Absolute Error 0.5407320834999719\n"
     ]
    }
   ],
   "source": [
    "from sklearn.metrics import explained_variance_score, r2_score, mean_squared_error, mean_absolute_error\n",
    "print(' r2_score',r2_score(y_test,y_pred))\n",
    "print('Mean Square Error',mean_squared_error(y_test,y_pred))\n",
    "print('Mean Absolute Error',mean_absolute_error(y_test,y_pred))"
   ]
  },
  {
   "cell_type": "code",
   "execution_count": 80,
   "id": "6fbd6103",
   "metadata": {},
   "outputs": [],
   "source": [
    "R2_scores.append(r2_score(y_test,y_pred))\n",
    "mse.append(mean_squared_error(y_test,y_pred))\n",
    "mae.append(mean_absolute_error(y_test,y_pred))"
   ]
  },
  {
   "cell_type": "code",
   "execution_count": 81,
   "id": "3ed5cbb6",
   "metadata": {},
   "outputs": [
    {
     "name": "stderr",
     "output_type": "stream",
     "text": [
      "No artists with labels found to put in legend.  Note that artists whose label start with an underscore are ignored when legend() is called with no argument.\n"
     ]
    },
    {
     "data": {
      "text/plain": [
       "Text(0.5, 1.0, 'Actual vs predicted covid cases')"
      ]
     },
     "execution_count": 81,
     "metadata": {},
     "output_type": "execute_result"
    },
    {
     "data": {
      "image/png": "[encoded data removed]",
      "text/plain": [
       "<Figure size 432x288 with 1 Axes>"
      ]
     },
     "metadata": {
      "needs_background": "light"
     },
     "output_type": "display_data"
    }
   ],
   "source": [
    "sns.regplot(y_test,y_pred)\n",
    "plt.legend()\n",
    "plt.xlabel('Actual')\n",
    "plt.ylabel('Predicted')\n",
    "plt.title('Actual vs predicted covid cases')"
   ]
  },
  {
   "cell_type": "markdown",
   "id": "ef62be0a",
   "metadata": {},
   "source": [
    "# 2. SVR"
   ]
  },
  {
   "cell_type": "code",
   "execution_count": 82,
   "id": "1d422177",
   "metadata": {},
   "outputs": [
    {
     "name": "stdout",
     "output_type": "stream",
     "text": [
      " r2_score 0.8887227567980412\n",
      "Mean Square Error 0.11158901379627267\n",
      "Mean Absolute Error 0.2518293773409412\n"
     ]
    }
   ],
   "source": [
    "from sklearn.svm import SVR\n",
    "svr_regressor = SVR(kernel = 'rbf',C = 100,gamma =100)\n",
    "svr_regressor.fit(x_train,y_train)\n",
    "y_pred = svr_regressor.predict(x_test)\n",
    "from sklearn.metrics import explained_variance_score, r2_score, mean_squared_error, mean_absolute_error\n",
    "print(' r2_score',r2_score(y_test,y_pred))\n",
    "print('Mean Square Error',mean_squared_error(y_test,y_pred))\n",
    "print('Mean Absolute Error',mean_absolute_error(y_test,y_pred))\n"
   ]
  },
  {
   "cell_type": "code",
   "execution_count": 83,
   "id": "4132e56f",
   "metadata": {},
   "outputs": [],
   "source": [
    "R2_scores.append(r2_score(y_test,svr_regressor.predict(x_test)))\n",
    "mse.append(mean_squared_error(y_test,svr_regressor.predict(x_test)))\n",
    "mae.append(mean_absolute_error(y_test,svr_regressor.predict(x_test)))"
   ]
  },
  {
   "cell_type": "code",
   "execution_count": 84,
   "id": "530987d4",
   "metadata": {},
   "outputs": [
    {
     "name": "stderr",
     "output_type": "stream",
     "text": [
      "No artists with labels found to put in legend.  Note that artists whose label start with an underscore are ignored when legend() is called with no argument.\n"
     ]
    },
    {
     "data": {
      "text/plain": [
       "Text(0.5, 1.0, 'Actual vs predicted covid cases')"
      ]
     },
     "execution_count": 84,
     "metadata": {},
     "output_type": "execute_result"
    },
    {
     "data": {
      "image/png": "[encoded data removed]",
      "text/plain": [
       "<Figure size 432x288 with 1 Axes>"
      ]
     },
     "metadata": {
      "needs_background": "light"
     },
     "output_type": "display_data"
    }
   ],
   "source": [
    "sns.regplot(y_test,y_pred)\n",
    "plt.legend()\n",
    "plt.xlabel('Actual')\n",
    "plt.ylabel('Predicted')\n",
    "plt.title('Actual vs predicted covid cases')"
   ]
  },
  {
   "cell_type": "markdown",
   "id": "dd88abea",
   "metadata": {},
   "source": [
    "# 3. XGBoosting"
   ]
  },
  {
   "cell_type": "code",
   "execution_count": 85,
   "id": "129594ea",
   "metadata": {},
   "outputs": [
    {
     "name": "stdout",
     "output_type": "stream",
     "text": [
      " r2_score 0.8883583957022162\n",
      "Mean Square Error 0.11195439573941675\n",
      "Mean Absolute Error 0.22773523646302632\n"
     ]
    }
   ],
   "source": [
    "import xgboost as xgb\n",
    "from sklearn.model_selection import train_test_split\n",
    "from sklearn.metrics import explained_variance_score, r2_score, mean_squared_error, mean_absolute_error\n",
    "xgb_model = xgb.XGBRegressor()\n",
    "xgb_model.fit(x_train,y_train)\n",
    "print(' r2_score',r2_score(y_test,xgb_model.predict(x_test)))\n",
    "print('Mean Square Error',mean_squared_error(y_test,xgb_model.predict(x_test)))\n",
    "print('Mean Absolute Error',mean_absolute_error(y_test,xgb_model.predict(x_test)))\n",
    "#print('Train r2 Score',r2_score(y_train,xgb_model.predict(x_train)))"
   ]
  },
  {
   "cell_type": "code",
   "execution_count": 86,
   "id": "e99b89cb",
   "metadata": {},
   "outputs": [],
   "source": [
    "R2_scores.append(r2_score(y_test,xgb_model.predict(x_test)))\n",
    "mse.append(mean_squared_error(y_test,xgb_model.predict(x_test)))\n",
    "mae.append(mean_absolute_error(y_test,xgb_model.predict(x_test)))"
   ]
  },
  {
   "cell_type": "code",
   "execution_count": 87,
   "id": "4eaabec1",
   "metadata": {},
   "outputs": [
    {
     "name": "stderr",
     "output_type": "stream",
     "text": [
      "No artists with labels found to put in legend.  Note that artists whose label start with an underscore are ignored when legend() is called with no argument.\n"
     ]
    },
    {
     "data": {
      "text/plain": [
       "Text(0.5, 1.0, 'Actual vs predicted covid cases')"
      ]
     },
     "execution_count": 87,
     "metadata": {},
     "output_type": "execute_result"
    },
    {
     "data": {
      "image/png": "[encoded data removed]",
      "text/plain": [
       "<Figure size 432x288 with 1 Axes>"
      ]
     },
     "metadata": {
      "needs_background": "light"
     },
     "output_type": "display_data"
    }
   ],
   "source": [
    "sns.regplot(y_test,y_pred)\n",
    "plt.legend()\n",
    "plt.xlabel('Actual')\n",
    "plt.ylabel('Predicted')\n",
    "plt.title('Actual vs predicted covid cases')"
   ]
  },
  {
   "cell_type": "markdown",
   "id": "79ddf333",
   "metadata": {},
   "source": [
    "# 4. RandomForest"
   ]
  },
  {
   "cell_type": "code",
   "execution_count": 88,
   "id": "66c11798",
   "metadata": {},
   "outputs": [
    {
     "name": "stdout",
     "output_type": "stream",
     "text": [
      "r2_score 0.9202072999605172\n",
      "Mean Square Error 0.0800162589343421\n",
      "Mean Absolute Error 0.20488063276260915\n"
     ]
    }
   ],
   "source": [
    "from sklearn.ensemble import RandomForestRegressor\n",
    "rf_model = RandomForestRegressor()\n",
    "rf_model.fit(x_train,y_train)\n",
    "print('r2_score',r2_score(y_test,rf_model.predict(x_test)))\n",
    "print('Mean Square Error',mean_squared_error(y_test,rf_model.predict(x_test)))\n",
    "print('Mean Absolute Error',mean_absolute_error(y_test,rf_model.predict(x_test)))\n",
    "#print('Train r2 Score',r2_score(y_train,rf_model.predict(x_train)))"
   ]
  },
  {
   "cell_type": "code",
   "execution_count": 89,
   "id": "8d3ddf96",
   "metadata": {},
   "outputs": [
    {
     "name": "stderr",
     "output_type": "stream",
     "text": [
      "No artists with labels found to put in legend.  Note that artists whose label start with an underscore are ignored when legend() is called with no argument.\n"
     ]
    },
    {
     "data": {
      "text/plain": [
       "Text(0.5, 1.0, 'Actual vs predicted covid cases')"
      ]
     },
     "execution_count": 89,
     "metadata": {},
     "output_type": "execute_result"
    },
    {
     "data": {
      "image/png": "[encoded data removed]",
      "text/plain": [
       "<Figure size 432x288 with 1 Axes>"
      ]
     },
     "metadata": {
      "needs_background": "light"
     },
     "output_type": "display_data"
    }
   ],
   "source": [
    "sns.regplot(y_test,rf_model.predict(x_test))\n",
    "plt.legend()\n",
    "plt.xlabel('Actual')\n",
    "plt.ylabel('Predicted')\n",
    "plt.title('Actual vs predicted covid cases')"
   ]
  },
  {
   "cell_type": "code",
   "execution_count": 90,
   "id": "c2a3cc8c",
   "metadata": {},
   "outputs": [],
   "source": [
    "R2_scores.append(r2_score(y_test,rf_model.predict(x_test)))\n",
    "mse.append(mean_squared_error(y_test,rf_model.predict(x_test)))\n",
    "mae.append(mean_absolute_error(y_test,rf_model.predict(x_test)))"
   ]
  },
  {
   "cell_type": "markdown",
   "id": "9a50a989",
   "metadata": {},
   "source": [
    "# 5. Knearest Neighbor"
   ]
  },
  {
   "cell_type": "code",
   "execution_count": 91,
   "id": "cccc12cf",
   "metadata": {},
   "outputs": [
    {
     "name": "stdout",
     "output_type": "stream",
     "text": [
      "r2_score 0.9087500876781229\n",
      "Mean Square Error 0.09150557141781689\n",
      "Mean Absolute Error 0.2182907325136611\n"
     ]
    }
   ],
   "source": [
    "from sklearn.neighbors import KNeighborsRegressor\n",
    "ex_model = KNeighborsRegressor(n_neighbors = 3)\n",
    "ex_model.fit(x_train,y_train)\n",
    "print('r2_score',r2_score(y_test,ex_model.predict(x_test)))\n",
    "print('Mean Square Error',mean_squared_error(y_test,ex_model.predict(x_test)))\n",
    "print('Mean Absolute Error',mean_absolute_error(y_test,ex_model.predict(x_test)))\n"
   ]
  },
  {
   "cell_type": "code",
   "execution_count": 92,
   "id": "7a38835f",
   "metadata": {},
   "outputs": [
    {
     "name": "stderr",
     "output_type": "stream",
     "text": [
      "No artists with labels found to put in legend.  Note that artists whose label start with an underscore are ignored when legend() is called with no argument.\n"
     ]
    },
    {
     "data": {
      "text/plain": [
       "Text(0.5, 1.0, 'Actual vs predicted covid cases')"
      ]
     },
     "execution_count": 92,
     "metadata": {},
     "output_type": "execute_result"
    },
    {
     "data": {
      "image/png": "[encoded data removed]",
      "text/plain": [
       "<Figure size 432x288 with 1 Axes>"
      ]
     },
     "metadata": {
      "needs_background": "light"
     },
     "output_type": "display_data"
    }
   ],
   "source": [
    "sns.regplot(y_test,ex_model.predict(x_test))\n",
    "plt.legend()\n",
    "plt.xlabel('Actual')\n",
    "plt.ylabel('Predicted')\n",
    "plt.title('Actual vs predicted covid cases')"
   ]
  },
  {
   "cell_type": "code",
   "execution_count": 93,
   "id": "8ee1b6dc",
   "metadata": {},
   "outputs": [],
   "source": [
    "R2_scores.append(r2_score(y_test,ex_model.predict(x_test)))\n",
    "mse.append(mean_squared_error(y_test,ex_model.predict(x_test)))\n",
    "mae.append(mean_absolute_error(y_test,ex_model.predict(x_test)))"
   ]
  },
  {
   "cell_type": "markdown",
   "id": "dc4567c9",
   "metadata": {},
   "source": [
    "# 6. Decision Tree"
   ]
  },
  {
   "cell_type": "code",
   "execution_count": 94,
   "id": "be5ecccc",
   "metadata": {},
   "outputs": [
    {
     "name": "stdout",
     "output_type": "stream",
     "text": [
      "r2_score 0.896814463169587\n",
      "Mean Square Error 0.10347463651707423\n",
      "Mean Absolute Error 0.23813580542207957\n"
     ]
    }
   ],
   "source": [
    "from sklearn.tree import DecisionTreeRegressor\n",
    "dt_model = DecisionTreeRegressor(max_depth = 6)\n",
    "dt_model.fit(x_train,y_train)\n",
    "print('r2_score',r2_score(y_test,dt_model.predict(x_test)))\n",
    "print('Mean Square Error',mean_squared_error(y_test,dt_model.predict(x_test)))\n",
    "print('Mean Absolute Error',mean_absolute_error(y_test,dt_model.predict(x_test)))"
   ]
  },
  {
   "cell_type": "code",
   "execution_count": 95,
   "id": "fdaa64a4",
   "metadata": {},
   "outputs": [
    {
     "name": "stderr",
     "output_type": "stream",
     "text": [
      "No artists with labels found to put in legend.  Note that artists whose label start with an underscore are ignored when legend() is called with no argument.\n"
     ]
    },
    {
     "data": {
      "text/plain": [
       "Text(0.5, 1.0, 'Actual vs Predicted Covid cases')"
      ]
     },
     "execution_count": 95,
     "metadata": {},
     "output_type": "execute_result"
    },
    {
     "data": {
      "image/png": "[encoded data removed]",
      "text/plain": [
       "<Figure size 432x288 with 1 Axes>"
      ]
     },
     "metadata": {
      "needs_background": "light"
     },
     "output_type": "display_data"
    }
   ],
   "source": [
    "sns.regplot(y_test,dt_model.predict(x_test))\n",
    "plt.legend()\n",
    "plt.xlabel('Actual')\n",
    "plt.ylabel('Predicted')\n",
    "plt.title('Actual vs Predicted Covid cases')"
   ]
  },
  {
   "cell_type": "code",
   "execution_count": 96,
   "id": "c121dffe",
   "metadata": {},
   "outputs": [],
   "source": [
    "R2_scores.append(r2_score(y_test,dt_model.predict(x_test)))\n",
    "mse.append(mean_squared_error(y_test,dt_model.predict(x_test)))\n",
    "mae.append(mean_absolute_error(y_test,dt_model.predict(x_test)))"
   ]
  },
  {
   "cell_type": "markdown",
   "id": "2e76f115",
   "metadata": {},
   "source": [
    "As the R2 scores for XGB are better than other algorithms, we plot the importance plot for XGB Model."
   ]
  },
  {
   "cell_type": "code",
   "execution_count": 97,
   "id": "720265ad",
   "metadata": {},
   "outputs": [
    {
     "data": {
      "image/png": "[encoded data removed]",
      "text/plain": [
       "<Figure size 432x288 with 1 Axes>"
      ]
     },
     "metadata": {
      "needs_background": "light"
     },
     "output_type": "display_data"
    }
   ],
   "source": [
    "from xgboost import plot_importance\n",
    "import matplotlib.pyplot as plt\n",
    "#reduction in mse\n",
    "plot_importance(xgb_model)\n",
    "plt.show()"
   ]
  },
  {
   "cell_type": "code",
   "execution_count": 98,
   "id": "a4caab48",
   "metadata": {},
   "outputs": [],
   "source": [
    "import optuna\n",
    "def xgb_objective(trial):\n",
    "    param = {\n",
    "        'silent': 1,\n",
    "        'random_state': 0,\n",
    "        'objective': 'reg:linear',\n",
    "        'booster': trial.suggest_categorical('booster', ['gbtree', 'gblinear', 'dart']),\n",
    "        'reg_lambda': trial.suggest_loguniform('reg_lambda', 1e-4, 1.0),\n",
    "        'reg_alpha': trial.suggest_loguniform('reg_alpha', 1e-4, 1.0),\n",
    "        'n_estimators': trial.suggest_int('n_estimators',10,100),\n",
    "        'learning_rate': trial.suggest_loguniform('learning_rste', 1e-4, 0.1),\n",
    "        'max_depth':trial.suggest_int('max_depth',3,6)\n",
    "    }\n",
    "    bst = xgb.XGBRegressor(**param)\n",
    "    bst.fit(x_train,y_train)\n",
    "    return math.sqrt(mean_squared_error(y_test,bst.predict(x_test)))"
   ]
  },
  {
   "cell_type": "code",
   "execution_count": 99,
   "id": "8aa8efb2",
   "metadata": {},
   "outputs": [
    {
     "name": "stderr",
     "output_type": "stream",
     "text": [
      "\u001b[32m[I 2022-04-04 04:03:25,960]\u001b[0m A new study created in memory with name: no-name-fb7a1ce6-3496-4c4e-86b8-905c5960540e\u001b[0m\n",
      "\u001b[32m[I 2022-04-04 04:03:26,010]\u001b[0m Trial 0 finished with value: 1.022231222690214 and parameters: {'booster': 'gblinear', 'reg_lambda': 0.024810409748678097, 'reg_alpha': 0.00042079886696066364, 'n_estimators': 24, 'learning_rste': 0.00014936568554617635, 'max_depth': 6}. Best is trial 0 with value: 1.022231222690214.\u001b[0m\n",
      "\u001b[32m[I 2022-04-04 04:03:26,076]\u001b[0m Trial 1 finished with value: 1.0212963808428743 and parameters: {'booster': 'gblinear', 'reg_lambda': 0.7579479953348001, 'reg_alpha': 0.21368329072358744, 'n_estimators': 29, 'learning_rste': 0.0003511356313970409, 'max_depth': 3}. Best is trial 1 with value: 1.0212963808428743.\u001b[0m\n",
      "\u001b[32m[I 2022-04-04 04:03:26,134]\u001b[0m Trial 2 finished with value: 1.0151308397053163 and parameters: {'booster': 'gblinear', 'reg_lambda': 0.0014618962793704966, 'reg_alpha': 0.0280163515871626, 'n_estimators': 22, 'learning_rste': 0.0007523742884534858, 'max_depth': 4}. Best is trial 2 with value: 1.0151308397053163.\u001b[0m\n",
      "\u001b[32m[I 2022-04-04 04:03:26,177]\u001b[0m Trial 3 finished with value: 0.9757497485030452 and parameters: {'booster': 'gblinear', 'reg_lambda': 0.011400863701127324, 'reg_alpha': 0.0234238498471129, 'n_estimators': 14, 'learning_rste': 0.006647135865318032, 'max_depth': 3}. Best is trial 3 with value: 0.9757497485030452.\u001b[0m\n"
     ]
    },
    {
     "name": "stdout",
     "output_type": "stream",
     "text": [
      "[04:03:25] WARNING: C:/Users/Administrator/workspace/xgboost-win64_release_1.5.1/src/objective/regression_obj.cu:188: reg:linear is now deprecated in favor of reg:squarederror.\n",
      "[04:03:25] WARNING: C:/Users/Administrator/workspace/xgboost-win64_release_1.5.1/src/learner.cc:576: \n",
      "Parameters: { \"max_depth\", \"silent\" } might not be used.\n",
      "\n",
      "  This could be a false alarm, with some parameters getting used by language bindings but\n",
      "  then being mistakenly passed down to XGBoost core, or some parameter actually being used\n",
      "  but getting flagged wrongly here. Please open an issue if you find any such cases.\n",
      "\n",
      "\n",
      "[04:03:26] WARNING: C:/Users/Administrator/workspace/xgboost-win64_release_1.5.1/src/objective/regression_obj.cu:188: reg:linear is now deprecated in favor of reg:squarederror.\n",
      "[04:03:26] WARNING: C:/Users/Administrator/workspace/xgboost-win64_release_1.5.1/src/learner.cc:576: \n",
      "Parameters: { \"max_depth\", \"silent\" } might not be used.\n",
      "\n",
      "  This could be a false alarm, with some parameters getting used by language bindings but\n",
      "  then being mistakenly passed down to XGBoost core, or some parameter actually being used\n",
      "  but getting flagged wrongly here. Please open an issue if you find any such cases.\n",
      "\n",
      "\n",
      "[04:03:26] WARNING: C:/Users/Administrator/workspace/xgboost-win64_release_1.5.1/src/objective/regression_obj.cu:188: reg:linear is now deprecated in favor of reg:squarederror.\n",
      "[04:03:26] WARNING: C:/Users/Administrator/workspace/xgboost-win64_release_1.5.1/src/learner.cc:576: \n",
      "Parameters: { \"max_depth\", \"silent\" } might not be used.\n",
      "\n",
      "  This could be a false alarm, with some parameters getting used by language bindings but\n",
      "  then being mistakenly passed down to XGBoost core, or some parameter actually being used\n",
      "  but getting flagged wrongly here. Please open an issue if you find any such cases.\n",
      "\n",
      "\n",
      "[04:03:26] WARNING: C:/Users/Administrator/workspace/xgboost-win64_release_1.5.1/src/objective/regression_obj.cu:188: reg:linear is now deprecated in favor of reg:squarederror.\n",
      "[04:03:26] WARNING: C:/Users/Administrator/workspace/xgboost-win64_release_1.5.1/src/learner.cc:576: \n",
      "Parameters: { \"max_depth\", \"silent\" } might not be used.\n",
      "\n",
      "  This could be a false alarm, with some parameters getting used by language bindings but\n",
      "  then being mistakenly passed down to XGBoost core, or some parameter actually being used\n",
      "  but getting flagged wrongly here. Please open an issue if you find any such cases.\n",
      "\n",
      "\n"
     ]
    },
    {
     "name": "stderr",
     "output_type": "stream",
     "text": [
      "\u001b[32m[I 2022-04-04 04:03:26,259]\u001b[0m Trial 4 finished with value: 0.8597572674606412 and parameters: {'booster': 'dart', 'reg_lambda': 0.17123375973163968, 'reg_alpha': 0.001653693718282443, 'n_estimators': 18, 'learning_rste': 0.01129013355909268, 'max_depth': 4}. Best is trial 4 with value: 0.8597572674606412.\u001b[0m\n",
      "\u001b[32m[I 2022-04-04 04:03:26,343]\u001b[0m Trial 5 finished with value: 0.9992391076728151 and parameters: {'booster': 'gblinear', 'reg_lambda': 0.43379206974909373, 'reg_alpha': 0.0010842262717330165, 'n_estimators': 70, 'learning_rste': 0.0008612579192594886, 'max_depth': 5}. Best is trial 4 with value: 0.8597572674606412.\u001b[0m\n"
     ]
    },
    {
     "name": "stdout",
     "output_type": "stream",
     "text": [
      "[04:03:26] WARNING: C:/Users/Administrator/workspace/xgboost-win64_release_1.5.1/src/objective/regression_obj.cu:188: reg:linear is now deprecated in favor of reg:squarederror.\n",
      "[04:03:26] WARNING: C:/Users/Administrator/workspace/xgboost-win64_release_1.5.1/src/learner.cc:576: \n",
      "Parameters: { \"silent\" } might not be used.\n",
      "\n",
      "  This could be a false alarm, with some parameters getting used by language bindings but\n",
      "  then being mistakenly passed down to XGBoost core, or some parameter actually being used\n",
      "  but getting flagged wrongly here. Please open an issue if you find any such cases.\n",
      "\n",
      "\n",
      "[04:03:26] WARNING: C:/Users/Administrator/workspace/xgboost-win64_release_1.5.1/src/objective/regression_obj.cu:188: reg:linear is now deprecated in favor of reg:squarederror.\n",
      "[04:03:26] WARNING: C:/Users/Administrator/workspace/xgboost-win64_release_1.5.1/src/learner.cc:576: \n",
      "Parameters: { \"max_depth\", \"silent\" } might not be used.\n",
      "\n",
      "  This could be a false alarm, with some parameters getting used by language bindings but\n",
      "  then being mistakenly passed down to XGBoost core, or some parameter actually being used\n",
      "  but getting flagged wrongly here. Please open an issue if you find any such cases.\n",
      "\n",
      "\n",
      "[04:03:26] WARNING: C:/Users/Administrator/workspace/xgboost-win64_release_1.5.1/src/objective/regression_obj.cu:188: reg:linear is now deprecated in favor of reg:squarederror.\n",
      "[04:03:26] WARNING: C:/Users/Administrator/workspace/xgboost-win64_release_1.5.1/src/learner.cc:576: \n",
      "Parameters: { \"silent\" } might not be used.\n",
      "\n",
      "  This could be a false alarm, with some parameters getting used by language bindings but\n",
      "  then being mistakenly passed down to XGBoost core, or some parameter actually being used\n",
      "  but getting flagged wrongly here. Please open an issue if you find any such cases.\n",
      "\n",
      "\n"
     ]
    },
    {
     "name": "stderr",
     "output_type": "stream",
     "text": [
      "\u001b[32m[I 2022-04-04 04:03:26,803]\u001b[0m Trial 6 finished with value: 0.6370861871187684 and parameters: {'booster': 'dart', 'reg_lambda': 0.12604664585649453, 'reg_alpha': 0.5727904470799616, 'n_estimators': 91, 'learning_rste': 0.00621870472776908, 'max_depth': 6}. Best is trial 6 with value: 0.6370861871187684.\u001b[0m\n",
      "\u001b[32m[I 2022-04-04 04:03:26,862]\u001b[0m Trial 7 finished with value: 0.7339521106416342 and parameters: {'booster': 'gblinear', 'reg_lambda': 0.0020013420622879987, 'reg_alpha': 0.0035868164986275516, 'n_estimators': 34, 'learning_rste': 0.030634622106220845, 'max_depth': 4}. Best is trial 6 with value: 0.6370861871187684.\u001b[0m\n",
      "\u001b[32m[I 2022-04-04 04:03:26,979]\u001b[0m Trial 8 finished with value: 0.7194962657572036 and parameters: {'booster': 'gblinear', 'reg_lambda': 0.16172900811143134, 'reg_alpha': 0.00019870215385428647, 'n_estimators': 99, 'learning_rste': 0.020736445177905044, 'max_depth': 3}. Best is trial 6 with value: 0.6370861871187684.\u001b[0m\n",
      "\u001b[32m[I 2022-04-04 04:03:27,023]\u001b[0m Trial 9 finished with value: 1.0154957473243555 and parameters: {'booster': 'gblinear', 'reg_lambda': 0.08241925264876443, 'reg_alpha': 0.12164139351417062, 'n_estimators': 16, 'learning_rste': 0.0011895896737553553, 'max_depth': 3}. Best is trial 6 with value: 0.6370861871187684.\u001b[0m\n"
     ]
    },
    {
     "name": "stdout",
     "output_type": "stream",
     "text": [
      "[04:03:26] WARNING: C:/Users/Administrator/workspace/xgboost-win64_release_1.5.1/src/objective/regression_obj.cu:188: reg:linear is now deprecated in favor of reg:squarederror.\n",
      "[04:03:26] WARNING: C:/Users/Administrator/workspace/xgboost-win64_release_1.5.1/src/learner.cc:576: \n",
      "Parameters: { \"max_depth\", \"silent\" } might not be used.\n",
      "\n",
      "  This could be a false alarm, with some parameters getting used by language bindings but\n",
      "  then being mistakenly passed down to XGBoost core, or some parameter actually being used\n",
      "  but getting flagged wrongly here. Please open an issue if you find any such cases.\n",
      "\n",
      "\n",
      "[04:03:26] WARNING: C:/Users/Administrator/workspace/xgboost-win64_release_1.5.1/src/objective/regression_obj.cu:188: reg:linear is now deprecated in favor of reg:squarederror.\n",
      "[04:03:26] WARNING: C:/Users/Administrator/workspace/xgboost-win64_release_1.5.1/src/learner.cc:576: \n",
      "Parameters: { \"max_depth\", \"silent\" } might not be used.\n",
      "\n",
      "  This could be a false alarm, with some parameters getting used by language bindings but\n",
      "  then being mistakenly passed down to XGBoost core, or some parameter actually being used\n",
      "  but getting flagged wrongly here. Please open an issue if you find any such cases.\n",
      "\n",
      "\n",
      "[04:03:26] WARNING: C:/Users/Administrator/workspace/xgboost-win64_release_1.5.1/src/objective/regression_obj.cu:188: reg:linear is now deprecated in favor of reg:squarederror.\n",
      "[04:03:26] WARNING: C:/Users/Administrator/workspace/xgboost-win64_release_1.5.1/src/learner.cc:576: \n",
      "Parameters: { \"max_depth\", \"silent\" } might not be used.\n",
      "\n",
      "  This could be a false alarm, with some parameters getting used by language bindings but\n",
      "  then being mistakenly passed down to XGBoost core, or some parameter actually being used\n",
      "  but getting flagged wrongly here. Please open an issue if you find any such cases.\n",
      "\n",
      "\n",
      "[04:03:27] WARNING: C:/Users/Administrator/workspace/xgboost-win64_release_1.5.1/src/objective/regression_obj.cu:188: reg:linear is now deprecated in favor of reg:squarederror.\n",
      "[04:03:27] WARNING: C:/Users/Administrator/workspace/xgboost-win64_release_1.5.1/src/learner.cc:576: \n",
      "Parameters: { \"silent\" } might not be used.\n",
      "\n",
      "  This could be a false alarm, with some parameters getting used by language bindings but\n",
      "  then being mistakenly passed down to XGBoost core, or some parameter actually being used\n",
      "  but getting flagged wrongly here. Please open an issue if you find any such cases.\n",
      "\n",
      "\n"
     ]
    },
    {
     "name": "stderr",
     "output_type": "stream",
     "text": [
      "\u001b[32m[I 2022-04-04 04:03:27,289]\u001b[0m Trial 10 finished with value: 0.2970412323287939 and parameters: {'booster': 'gbtree', 'reg_lambda': 0.00010567900894501651, 'reg_alpha': 0.7553503645583217, 'n_estimators': 96, 'learning_rste': 0.0773715247338927, 'max_depth': 6}. Best is trial 10 with value: 0.2970412323287939.\u001b[0m\n"
     ]
    },
    {
     "name": "stdout",
     "output_type": "stream",
     "text": [
      "[04:03:27] WARNING: C:/Users/Administrator/workspace/xgboost-win64_release_1.5.1/src/objective/regression_obj.cu:188: reg:linear is now deprecated in favor of reg:squarederror.\n",
      "[04:03:27] WARNING: C:/Users/Administrator/workspace/xgboost-win64_release_1.5.1/src/learner.cc:576: \n",
      "Parameters: { \"silent\" } might not be used.\n",
      "\n",
      "  This could be a false alarm, with some parameters getting used by language bindings but\n",
      "  then being mistakenly passed down to XGBoost core, or some parameter actually being used\n",
      "  but getting flagged wrongly here. Please open an issue if you find any such cases.\n",
      "\n",
      "\n"
     ]
    },
    {
     "name": "stderr",
     "output_type": "stream",
     "text": [
      "\u001b[32m[I 2022-04-04 04:03:27,548]\u001b[0m Trial 11 finished with value: 0.29676415681506885 and parameters: {'booster': 'gbtree', 'reg_lambda': 0.00014654488856579196, 'reg_alpha': 0.7600495686501338, 'n_estimators': 100, 'learning_rste': 0.09576095771652622, 'max_depth': 6}. Best is trial 11 with value: 0.29676415681506885.\u001b[0m\n",
      "\u001b[32m[I 2022-04-04 04:03:27,772]\u001b[0m Trial 12 finished with value: 0.2951924119470243 and parameters: {'booster': 'gbtree', 'reg_lambda': 0.00013495827625574575, 'reg_alpha': 0.9462889472525593, 'n_estimators': 80, 'learning_rste': 0.0967085494371802, 'max_depth': 6}. Best is trial 12 with value: 0.2951924119470243.\u001b[0m\n"
     ]
    },
    {
     "name": "stdout",
     "output_type": "stream",
     "text": [
      "[04:03:27] WARNING: C:/Users/Administrator/workspace/xgboost-win64_release_1.5.1/src/objective/regression_obj.cu:188: reg:linear is now deprecated in favor of reg:squarederror.\n",
      "[04:03:27] WARNING: C:/Users/Administrator/workspace/xgboost-win64_release_1.5.1/src/learner.cc:576: \n",
      "Parameters: { \"silent\" } might not be used.\n",
      "\n",
      "  This could be a false alarm, with some parameters getting used by language bindings but\n",
      "  then being mistakenly passed down to XGBoost core, or some parameter actually being used\n",
      "  but getting flagged wrongly here. Please open an issue if you find any such cases.\n",
      "\n",
      "\n"
     ]
    },
    {
     "name": "stderr",
     "output_type": "stream",
     "text": [
      "\u001b[32m[I 2022-04-04 04:03:27,998]\u001b[0m Trial 13 finished with value: 0.30800703405743673 and parameters: {'booster': 'gbtree', 'reg_lambda': 0.00010359101658570359, 'reg_alpha': 0.11902935309442393, 'n_estimators': 73, 'learning_rste': 0.09807763993530157, 'max_depth': 5}. Best is trial 12 with value: 0.2951924119470243.\u001b[0m\n"
     ]
    },
    {
     "name": "stdout",
     "output_type": "stream",
     "text": [
      "[04:03:27] WARNING: C:/Users/Administrator/workspace/xgboost-win64_release_1.5.1/src/objective/regression_obj.cu:188: reg:linear is now deprecated in favor of reg:squarederror.\n",
      "[04:03:27] WARNING: C:/Users/Administrator/workspace/xgboost-win64_release_1.5.1/src/learner.cc:576: \n",
      "Parameters: { \"silent\" } might not be used.\n",
      "\n",
      "  This could be a false alarm, with some parameters getting used by language bindings but\n",
      "  then being mistakenly passed down to XGBoost core, or some parameter actually being used\n",
      "  but getting flagged wrongly here. Please open an issue if you find any such cases.\n",
      "\n",
      "\n"
     ]
    },
    {
     "name": "stderr",
     "output_type": "stream",
     "text": [
      "\u001b[32m[I 2022-04-04 04:03:28,257]\u001b[0m Trial 14 finished with value: 0.3064034031184932 and parameters: {'booster': 'gbtree', 'reg_lambda': 0.0004558330288703637, 'reg_alpha': 0.9292916966794738, 'n_estimators': 74, 'learning_rste': 0.03475268550073201, 'max_depth': 5}. Best is trial 12 with value: 0.2951924119470243.\u001b[0m\n"
     ]
    },
    {
     "name": "stdout",
     "output_type": "stream",
     "text": [
      "[04:03:28] WARNING: C:/Users/Administrator/workspace/xgboost-win64_release_1.5.1/src/objective/regression_obj.cu:188: reg:linear is now deprecated in favor of reg:squarederror.\n",
      "[04:03:28] WARNING: C:/Users/Administrator/workspace/xgboost-win64_release_1.5.1/src/learner.cc:576: \n",
      "Parameters: { \"silent\" } might not be used.\n",
      "\n",
      "  This could be a false alarm, with some parameters getting used by language bindings but\n",
      "  then being mistakenly passed down to XGBoost core, or some parameter actually being used\n",
      "  but getting flagged wrongly here. Please open an issue if you find any such cases.\n",
      "\n",
      "\n",
      "[04:03:28] WARNING: C:/Users/Administrator/workspace/xgboost-win64_release_1.5.1/src/objective/regression_obj.cu:188: reg:linear is now deprecated in favor of reg:squarederror.\n",
      "[04:03:28] WARNING: C:/Users/Administrator/workspace/xgboost-win64_release_1.5.1/src/learner.cc:576: \n",
      "Parameters: { \"silent\" } might not be used.\n",
      "\n",
      "  This could be a false alarm, with some parameters getting used by language bindings but\n",
      "  then being mistakenly passed down to XGBoost core, or some parameter actually being used\n",
      "  but getting flagged wrongly here. Please open an issue if you find any such cases.\n",
      "\n",
      "\n"
     ]
    },
    {
     "name": "stderr",
     "output_type": "stream",
     "text": [
      "\u001b[32m[I 2022-04-04 04:03:28,530]\u001b[0m Trial 15 finished with value: 0.30743710612535874 and parameters: {'booster': 'gbtree', 'reg_lambda': 0.00048434919515198736, 'reg_alpha': 0.04054540146674726, 'n_estimators': 84, 'learning_rste': 0.05524180294993796, 'max_depth': 6}. Best is trial 12 with value: 0.2951924119470243.\u001b[0m\n",
      "\u001b[32m[I 2022-04-04 04:03:28,707]\u001b[0m Trial 16 finished with value: 0.5302628524709216 and parameters: {'booster': 'gbtree', 'reg_lambda': 0.0004327289360016383, 'reg_alpha': 0.26091673620149664, 'n_estimators': 51, 'learning_rste': 0.01574458583727996, 'max_depth': 5}. Best is trial 12 with value: 0.2951924119470243.\u001b[0m\n"
     ]
    },
    {
     "name": "stdout",
     "output_type": "stream",
     "text": [
      "[04:03:28] WARNING: C:/Users/Administrator/workspace/xgboost-win64_release_1.5.1/src/objective/regression_obj.cu:188: reg:linear is now deprecated in favor of reg:squarederror.\n",
      "[04:03:28] WARNING: C:/Users/Administrator/workspace/xgboost-win64_release_1.5.1/src/learner.cc:576: \n",
      "Parameters: { \"silent\" } might not be used.\n",
      "\n",
      "  This could be a false alarm, with some parameters getting used by language bindings but\n",
      "  then being mistakenly passed down to XGBoost core, or some parameter actually being used\n",
      "  but getting flagged wrongly here. Please open an issue if you find any such cases.\n",
      "\n",
      "\n",
      "[04:03:28] WARNING: C:/Users/Administrator/workspace/xgboost-win64_release_1.5.1/src/objective/regression_obj.cu:188: reg:linear is now deprecated in favor of reg:squarederror.\n",
      "[04:03:28] WARNING: C:/Users/Administrator/workspace/xgboost-win64_release_1.5.1/src/learner.cc:576: \n",
      "Parameters: { \"silent\" } might not be used.\n",
      "\n",
      "  This could be a false alarm, with some parameters getting used by language bindings but\n",
      "  then being mistakenly passed down to XGBoost core, or some parameter actually being used\n",
      "  but getting flagged wrongly here. Please open an issue if you find any such cases.\n",
      "\n",
      "\n"
     ]
    },
    {
     "name": "stderr",
     "output_type": "stream",
     "text": [
      "\u001b[32m[I 2022-04-04 04:03:29,198]\u001b[0m Trial 17 finished with value: 0.9003026291086396 and parameters: {'booster': 'gbtree', 'reg_lambda': 0.002157439303708459, 'reg_alpha': 0.0077497527460463666, 'n_estimators': 60, 'learning_rste': 0.00232278666450748, 'max_depth': 6}. Best is trial 12 with value: 0.2951924119470243.\u001b[0m\n"
     ]
    },
    {
     "name": "stdout",
     "output_type": "stream",
     "text": [
      "[04:03:29] WARNING: C:/Users/Administrator/workspace/xgboost-win64_release_1.5.1/src/objective/regression_obj.cu:188: reg:linear is now deprecated in favor of reg:squarederror.\n",
      "[04:03:29] WARNING: C:/Users/Administrator/workspace/xgboost-win64_release_1.5.1/src/learner.cc:576: \n",
      "Parameters: { \"silent\" } might not be used.\n",
      "\n",
      "  This could be a false alarm, with some parameters getting used by language bindings but\n",
      "  then being mistakenly passed down to XGBoost core, or some parameter actually being used\n",
      "  but getting flagged wrongly here. Please open an issue if you find any such cases.\n",
      "\n",
      "\n"
     ]
    },
    {
     "name": "stderr",
     "output_type": "stream",
     "text": [
      "\u001b[32m[I 2022-04-04 04:03:29,904]\u001b[0m Trial 18 finished with value: 0.30396235044032377 and parameters: {'booster': 'gbtree', 'reg_lambda': 0.00026813969162630574, 'reg_alpha': 0.07229899040907187, 'n_estimators': 85, 'learning_rste': 0.05009263412247017, 'max_depth': 6}. Best is trial 12 with value: 0.2951924119470243.\u001b[0m\n"
     ]
    },
    {
     "name": "stdout",
     "output_type": "stream",
     "text": [
      "[04:03:30] WARNING: C:/Users/Administrator/workspace/xgboost-win64_release_1.5.1/src/objective/regression_obj.cu:188: reg:linear is now deprecated in favor of reg:squarederror.\n",
      "[04:03:30] WARNING: C:/Users/Administrator/workspace/xgboost-win64_release_1.5.1/src/learner.cc:576: \n",
      "Parameters: { \"silent\" } might not be used.\n",
      "\n",
      "  This could be a false alarm, with some parameters getting used by language bindings but\n",
      "  then being mistakenly passed down to XGBoost core, or some parameter actually being used\n",
      "  but getting flagged wrongly here. Please open an issue if you find any such cases.\n",
      "\n",
      "\n"
     ]
    },
    {
     "name": "stderr",
     "output_type": "stream",
     "text": [
      "\u001b[32m[I 2022-04-04 04:03:30,439]\u001b[0m Trial 19 finished with value: 0.828976141818006 and parameters: {'booster': 'gbtree', 'reg_lambda': 0.004656492842026578, 'reg_alpha': 0.3711944089797271, 'n_estimators': 49, 'learning_rste': 0.0048701077622321, 'max_depth': 5}. Best is trial 12 with value: 0.2951924119470243.\u001b[0m\n"
     ]
    },
    {
     "name": "stdout",
     "output_type": "stream",
     "text": [
      "[04:03:30] WARNING: C:/Users/Administrator/workspace/xgboost-win64_release_1.5.1/src/objective/regression_obj.cu:188: reg:linear is now deprecated in favor of reg:squarederror.\n",
      "[04:03:30] WARNING: C:/Users/Administrator/workspace/xgboost-win64_release_1.5.1/src/learner.cc:576: \n",
      "Parameters: { \"silent\" } might not be used.\n",
      "\n",
      "  This could be a false alarm, with some parameters getting used by language bindings but\n",
      "  then being mistakenly passed down to XGBoost core, or some parameter actually being used\n",
      "  but getting flagged wrongly here. Please open an issue if you find any such cases.\n",
      "\n",
      "\n"
     ]
    },
    {
     "name": "stderr",
     "output_type": "stream",
     "text": [
      "\u001b[32m[I 2022-04-04 04:03:31,016]\u001b[0m Trial 20 finished with value: 0.8462455899950514 and parameters: {'booster': 'dart', 'reg_lambda': 0.0012304832900727196, 'reg_alpha': 0.011002625645769976, 'n_estimators': 84, 'learning_rste': 0.0024804044355650782, 'max_depth': 6}. Best is trial 12 with value: 0.2951924119470243.\u001b[0m\n",
      "\u001b[32m[I 2022-04-04 04:03:31,264]\u001b[0m Trial 21 finished with value: 0.2950213020378293 and parameters: {'booster': 'gbtree', 'reg_lambda': 0.000104894685343914, 'reg_alpha': 0.9926726958080919, 'n_estimators': 98, 'learning_rste': 0.09957976246676332, 'max_depth': 6}. Best is trial 21 with value: 0.2950213020378293.\u001b[0m\n"
     ]
    },
    {
     "name": "stdout",
     "output_type": "stream",
     "text": [
      "[04:03:31] WARNING: C:/Users/Administrator/workspace/xgboost-win64_release_1.5.1/src/objective/regression_obj.cu:188: reg:linear is now deprecated in favor of reg:squarederror.\n",
      "[04:03:31] WARNING: C:/Users/Administrator/workspace/xgboost-win64_release_1.5.1/src/learner.cc:576: \n",
      "Parameters: { \"silent\" } might not be used.\n",
      "\n",
      "  This could be a false alarm, with some parameters getting used by language bindings but\n",
      "  then being mistakenly passed down to XGBoost core, or some parameter actually being used\n",
      "  but getting flagged wrongly here. Please open an issue if you find any such cases.\n",
      "\n",
      "\n",
      "[04:03:31] WARNING: C:/Users/Administrator/workspace/xgboost-win64_release_1.5.1/src/objective/regression_obj.cu:188: reg:linear is now deprecated in favor of reg:squarederror.\n",
      "[04:03:31] WARNING: C:/Users/Administrator/workspace/xgboost-win64_release_1.5.1/src/learner.cc:576: \n",
      "Parameters: { \"silent\" } might not be used.\n",
      "\n",
      "  This could be a false alarm, with some parameters getting used by language bindings but\n",
      "  then being mistakenly passed down to XGBoost core, or some parameter actually being used\n",
      "  but getting flagged wrongly here. Please open an issue if you find any such cases.\n",
      "\n",
      "\n"
     ]
    },
    {
     "name": "stderr",
     "output_type": "stream",
     "text": [
      "\u001b[32m[I 2022-04-04 04:03:31,514]\u001b[0m Trial 22 finished with value: 0.29715604267266227 and parameters: {'booster': 'gbtree', 'reg_lambda': 0.00020372530585647744, 'reg_alpha': 0.893585752829508, 'n_estimators': 92, 'learning_rste': 0.03913283952531621, 'max_depth': 6}. Best is trial 21 with value: 0.2950213020378293.\u001b[0m\n",
      "\u001b[32m[I 2022-04-04 04:03:31,771]\u001b[0m Trial 23 finished with value: 0.30788855423659395 and parameters: {'booster': 'gbtree', 'reg_lambda': 0.00017282534578637782, 'reg_alpha': 0.3091465625975471, 'n_estimators': 100, 'learning_rste': 0.09555372879126642, 'max_depth': 5}. Best is trial 21 with value: 0.2950213020378293.\u001b[0m\n"
     ]
    },
    {
     "name": "stdout",
     "output_type": "stream",
     "text": [
      "[04:03:31] WARNING: C:/Users/Administrator/workspace/xgboost-win64_release_1.5.1/src/objective/regression_obj.cu:188: reg:linear is now deprecated in favor of reg:squarederror.\n",
      "[04:03:31] WARNING: C:/Users/Administrator/workspace/xgboost-win64_release_1.5.1/src/learner.cc:576: \n",
      "Parameters: { \"silent\" } might not be used.\n",
      "\n",
      "  This could be a false alarm, with some parameters getting used by language bindings but\n",
      "  then being mistakenly passed down to XGBoost core, or some parameter actually being used\n",
      "  but getting flagged wrongly here. Please open an issue if you find any such cases.\n",
      "\n",
      "\n"
     ]
    },
    {
     "name": "stderr",
     "output_type": "stream",
     "text": [
      "\u001b[32m[I 2022-04-04 04:03:32,032]\u001b[0m Trial 24 finished with value: 0.3262815819415893 and parameters: {'booster': 'gbtree', 'reg_lambda': 0.0007790835794327984, 'reg_alpha': 0.11911894160477472, 'n_estimators': 79, 'learning_rste': 0.0262953515042532, 'max_depth': 6}. Best is trial 21 with value: 0.2950213020378293.\u001b[0m\n"
     ]
    },
    {
     "name": "stdout",
     "output_type": "stream",
     "text": [
      "[04:03:31] WARNING: C:/Users/Administrator/workspace/xgboost-win64_release_1.5.1/src/objective/regression_obj.cu:188: reg:linear is now deprecated in favor of reg:squarederror.\n",
      "[04:03:31] WARNING: C:/Users/Administrator/workspace/xgboost-win64_release_1.5.1/src/learner.cc:576: \n",
      "Parameters: { \"silent\" } might not be used.\n",
      "\n",
      "  This could be a false alarm, with some parameters getting used by language bindings but\n",
      "  then being mistakenly passed down to XGBoost core, or some parameter actually being used\n",
      "  but getting flagged wrongly here. Please open an issue if you find any such cases.\n",
      "\n",
      "\n"
     ]
    },
    {
     "name": "stderr",
     "output_type": "stream",
     "text": [
      "\u001b[32m[I 2022-04-04 04:03:32,253]\u001b[0m Trial 25 finished with value: 0.49601769513799876 and parameters: {'booster': 'gbtree', 'reg_lambda': 0.00010233066854931308, 'reg_alpha': 0.39790876026317334, 'n_estimators': 65, 'learning_rste': 0.013905070400115092, 'max_depth': 6}. Best is trial 21 with value: 0.2950213020378293.\u001b[0m\n"
     ]
    },
    {
     "name": "stdout",
     "output_type": "stream",
     "text": [
      "[04:03:32] WARNING: C:/Users/Administrator/workspace/xgboost-win64_release_1.5.1/src/objective/regression_obj.cu:188: reg:linear is now deprecated in favor of reg:squarederror.\n",
      "[04:03:32] WARNING: C:/Users/Administrator/workspace/xgboost-win64_release_1.5.1/src/learner.cc:576: \n",
      "Parameters: { \"silent\" } might not be used.\n",
      "\n",
      "  This could be a false alarm, with some parameters getting used by language bindings but\n",
      "  then being mistakenly passed down to XGBoost core, or some parameter actually being used\n",
      "  but getting flagged wrongly here. Please open an issue if you find any such cases.\n",
      "\n",
      "\n",
      "[04:03:32] WARNING: C:/Users/Administrator/workspace/xgboost-win64_release_1.5.1/src/objective/regression_obj.cu:188: reg:linear is now deprecated in favor of reg:squarederror.\n",
      "[04:03:32] WARNING: C:/Users/Administrator/workspace/xgboost-win64_release_1.5.1/src/learner.cc:576: \n",
      "Parameters: { \"silent\" } might not be used.\n",
      "\n",
      "  This could be a false alarm, with some parameters getting used by language bindings but\n",
      "  then being mistakenly passed down to XGBoost core, or some parameter actually being used\n",
      "  but getting flagged wrongly here. Please open an issue if you find any such cases.\n",
      "\n",
      "\n"
     ]
    },
    {
     "name": "stderr",
     "output_type": "stream",
     "text": [
      "\u001b[32m[I 2022-04-04 04:03:32,501]\u001b[0m Trial 26 finished with value: 0.304120812809433 and parameters: {'booster': 'gbtree', 'reg_lambda': 0.0002618607613834516, 'reg_alpha': 0.19435795792301194, 'n_estimators': 89, 'learning_rste': 0.07087934389620701, 'max_depth': 5}. Best is trial 21 with value: 0.2950213020378293.\u001b[0m\n",
      "\u001b[32m[I 2022-04-04 04:03:32,721]\u001b[0m Trial 27 finished with value: 0.3250975736351855 and parameters: {'booster': 'dart', 'reg_lambda': 0.00524684501226499, 'reg_alpha': 0.5148506147661761, 'n_estimators': 41, 'learning_rste': 0.04939789372530136, 'max_depth': 6}. Best is trial 21 with value: 0.2950213020378293.\u001b[0m\n"
     ]
    },
    {
     "name": "stdout",
     "output_type": "stream",
     "text": [
      "[04:03:32] WARNING: C:/Users/Administrator/workspace/xgboost-win64_release_1.5.1/src/objective/regression_obj.cu:188: reg:linear is now deprecated in favor of reg:squarederror.\n",
      "[04:03:32] WARNING: C:/Users/Administrator/workspace/xgboost-win64_release_1.5.1/src/learner.cc:576: \n",
      "Parameters: { \"silent\" } might not be used.\n",
      "\n",
      "  This could be a false alarm, with some parameters getting used by language bindings but\n",
      "  then being mistakenly passed down to XGBoost core, or some parameter actually being used\n",
      "  but getting flagged wrongly here. Please open an issue if you find any such cases.\n",
      "\n",
      "\n",
      "[04:03:32] WARNING: C:/Users/Administrator/workspace/xgboost-win64_release_1.5.1/src/objective/regression_obj.cu:188: reg:linear is now deprecated in favor of reg:squarederror.\n",
      "[04:03:32] WARNING: C:/Users/Administrator/workspace/xgboost-win64_release_1.5.1/src/learner.cc:576: \n",
      "Parameters: { \"silent\" } might not be used.\n",
      "\n",
      "  This could be a false alarm, with some parameters getting used by language bindings but\n",
      "  then being mistakenly passed down to XGBoost core, or some parameter actually being used\n",
      "  but getting flagged wrongly here. Please open an issue if you find any such cases.\n",
      "\n",
      "\n"
     ]
    },
    {
     "name": "stderr",
     "output_type": "stream",
     "text": [
      "\u001b[32m[I 2022-04-04 04:03:33,271]\u001b[0m Trial 28 finished with value: 0.3676059687394312 and parameters: {'booster': 'gbtree', 'reg_lambda': 0.0008739087592252265, 'reg_alpha': 0.9933823111476064, 'n_estimators': 79, 'learning_rste': 0.019953337278581878, 'max_depth': 5}. Best is trial 21 with value: 0.2950213020378293.\u001b[0m\n"
     ]
    },
    {
     "name": "stdout",
     "output_type": "stream",
     "text": [
      "[04:03:33] WARNING: C:/Users/Administrator/workspace/xgboost-win64_release_1.5.1/src/objective/regression_obj.cu:188: reg:linear is now deprecated in favor of reg:squarederror.\n",
      "[04:03:33] WARNING: C:/Users/Administrator/workspace/xgboost-win64_release_1.5.1/src/learner.cc:576: \n",
      "Parameters: { \"silent\" } might not be used.\n",
      "\n",
      "  This could be a false alarm, with some parameters getting used by language bindings but\n",
      "  then being mistakenly passed down to XGBoost core, or some parameter actually being used\n",
      "  but getting flagged wrongly here. Please open an issue if you find any such cases.\n",
      "\n",
      "\n"
     ]
    },
    {
     "name": "stderr",
     "output_type": "stream",
     "text": [
      "\u001b[32m[I 2022-04-04 04:03:34,099]\u001b[0m Trial 29 finished with value: 0.9970105680082018 and parameters: {'booster': 'gbtree', 'reg_lambda': 0.03056058157685999, 'reg_alpha': 0.04762045836981665, 'n_estimators': 93, 'learning_rste': 0.00031119381558033723, 'max_depth': 6}. Best is trial 21 with value: 0.2950213020378293.\u001b[0m\n"
     ]
    },
    {
     "name": "stdout",
     "output_type": "stream",
     "text": [
      "[04:03:34] WARNING: C:/Users/Administrator/workspace/xgboost-win64_release_1.5.1/src/objective/regression_obj.cu:188: reg:linear is now deprecated in favor of reg:squarederror.\n",
      "[04:03:34] WARNING: C:/Users/Administrator/workspace/xgboost-win64_release_1.5.1/src/learner.cc:576: \n",
      "Parameters: { \"silent\" } might not be used.\n",
      "\n",
      "  This could be a false alarm, with some parameters getting used by language bindings but\n",
      "  then being mistakenly passed down to XGBoost core, or some parameter actually being used\n",
      "  but getting flagged wrongly here. Please open an issue if you find any such cases.\n",
      "\n",
      "\n"
     ]
    },
    {
     "name": "stderr",
     "output_type": "stream",
     "text": [
      "\u001b[32m[I 2022-04-04 04:03:34,695]\u001b[0m Trial 30 finished with value: 1.0137430942138423 and parameters: {'booster': 'gbtree', 'reg_lambda': 0.0036532060661616478, 'reg_alpha': 0.08418530809777723, 'n_estimators': 100, 'learning_rste': 0.00011045407954753514, 'max_depth': 6}. Best is trial 21 with value: 0.2950213020378293.\u001b[0m\n",
      "\u001b[32m[I 2022-04-04 04:03:34,964]\u001b[0m Trial 31 finished with value: 0.30023929729127274 and parameters: {'booster': 'gbtree', 'reg_lambda': 0.00010077895142288526, 'reg_alpha': 0.6264959390304443, 'n_estimators': 95, 'learning_rste': 0.09729388955009481, 'max_depth': 6}. Best is trial 21 with value: 0.2950213020378293.\u001b[0m\n"
     ]
    },
    {
     "name": "stdout",
     "output_type": "stream",
     "text": [
      "[04:03:34] WARNING: C:/Users/Administrator/workspace/xgboost-win64_release_1.5.1/src/objective/regression_obj.cu:188: reg:linear is now deprecated in favor of reg:squarederror.\n",
      "[04:03:34] WARNING: C:/Users/Administrator/workspace/xgboost-win64_release_1.5.1/src/learner.cc:576: \n",
      "Parameters: { \"silent\" } might not be used.\n",
      "\n",
      "  This could be a false alarm, with some parameters getting used by language bindings but\n",
      "  then being mistakenly passed down to XGBoost core, or some parameter actually being used\n",
      "  but getting flagged wrongly here. Please open an issue if you find any such cases.\n",
      "\n",
      "\n",
      "[04:03:35] WARNING: C:/Users/Administrator/workspace/xgboost-win64_release_1.5.1/src/objective/regression_obj.cu:188: reg:linear is now deprecated in favor of reg:squarederror.\n",
      "[04:03:35] WARNING: C:/Users/Administrator/workspace/xgboost-win64_release_1.5.1/src/learner.cc:576: \n",
      "Parameters: { \"silent\" } might not be used.\n",
      "\n",
      "  This could be a false alarm, with some parameters getting used by language bindings but\n",
      "  then being mistakenly passed down to XGBoost core, or some parameter actually being used\n",
      "  but getting flagged wrongly here. Please open an issue if you find any such cases.\n",
      "\n",
      "\n"
     ]
    },
    {
     "name": "stderr",
     "output_type": "stream",
     "text": [
      "\u001b[32m[I 2022-04-04 04:03:35,241]\u001b[0m Trial 32 finished with value: 0.3046185747891767 and parameters: {'booster': 'gbtree', 'reg_lambda': 0.0001714071028586381, 'reg_alpha': 0.23029313790182557, 'n_estimators': 95, 'learning_rste': 0.06432342091679043, 'max_depth': 6}. Best is trial 21 with value: 0.2950213020378293.\u001b[0m\n",
      "\u001b[32m[I 2022-04-04 04:03:35,493]\u001b[0m Trial 33 finished with value: 0.29917636639615147 and parameters: {'booster': 'gbtree', 'reg_lambda': 0.00034370388957158924, 'reg_alpha': 0.5959153661015044, 'n_estimators': 87, 'learning_rste': 0.07217876313117297, 'max_depth': 6}. Best is trial 21 with value: 0.2950213020378293.\u001b[0m\n"
     ]
    },
    {
     "name": "stdout",
     "output_type": "stream",
     "text": [
      "[04:03:35] WARNING: C:/Users/Administrator/workspace/xgboost-win64_release_1.5.1/src/objective/regression_obj.cu:188: reg:linear is now deprecated in favor of reg:squarederror.\n",
      "[04:03:35] WARNING: C:/Users/Administrator/workspace/xgboost-win64_release_1.5.1/src/learner.cc:576: \n",
      "Parameters: { \"silent\" } might not be used.\n",
      "\n",
      "  This could be a false alarm, with some parameters getting used by language bindings but\n",
      "  then being mistakenly passed down to XGBoost core, or some parameter actually being used\n",
      "  but getting flagged wrongly here. Please open an issue if you find any such cases.\n",
      "\n",
      "\n",
      "[04:03:35] WARNING: C:/Users/Administrator/workspace/xgboost-win64_release_1.5.1/src/objective/regression_obj.cu:188: reg:linear is now deprecated in favor of reg:squarederror.\n",
      "[04:03:35] WARNING: C:/Users/Administrator/workspace/xgboost-win64_release_1.5.1/src/learner.cc:576: \n",
      "Parameters: { \"silent\" } might not be used.\n",
      "\n",
      "  This could be a false alarm, with some parameters getting used by language bindings but\n",
      "  then being mistakenly passed down to XGBoost core, or some parameter actually being used\n",
      "  but getting flagged wrongly here. Please open an issue if you find any such cases.\n",
      "\n",
      "\n"
     ]
    },
    {
     "name": "stderr",
     "output_type": "stream",
     "text": [
      "\u001b[32m[I 2022-04-04 04:03:35,800]\u001b[0m Trial 34 finished with value: 0.30694108360321265 and parameters: {'booster': 'gbtree', 'reg_lambda': 0.0006418535884433322, 'reg_alpha': 0.20593758867690232, 'n_estimators': 80, 'learning_rste': 0.04078633553319246, 'max_depth': 6}. Best is trial 21 with value: 0.2950213020378293.\u001b[0m\n"
     ]
    },
    {
     "name": "stdout",
     "output_type": "stream",
     "text": [
      "[04:03:35] WARNING: C:/Users/Administrator/workspace/xgboost-win64_release_1.5.1/src/objective/regression_obj.cu:188: reg:linear is now deprecated in favor of reg:squarederror.\n",
      "[04:03:35] WARNING: C:/Users/Administrator/workspace/xgboost-win64_release_1.5.1/src/learner.cc:576: \n",
      "Parameters: { \"silent\" } might not be used.\n",
      "\n",
      "  This could be a false alarm, with some parameters getting used by language bindings but\n",
      "  then being mistakenly passed down to XGBoost core, or some parameter actually being used\n",
      "  but getting flagged wrongly here. Please open an issue if you find any such cases.\n",
      "\n",
      "\n"
     ]
    },
    {
     "name": "stderr",
     "output_type": "stream",
     "text": [
      "\u001b[32m[I 2022-04-04 04:03:36,369]\u001b[0m Trial 35 finished with value: 0.489476396089582 and parameters: {'booster': 'dart', 'reg_lambda': 0.00017693848129310207, 'reg_alpha': 0.3757236496127797, 'n_estimators': 94, 'learning_rste': 0.009846829900095545, 'max_depth': 6}. Best is trial 21 with value: 0.2950213020378293.\u001b[0m\n",
      "\u001b[32m[I 2022-04-04 04:03:36,575]\u001b[0m Trial 36 finished with value: 0.35600292822214546 and parameters: {'booster': 'gbtree', 'reg_lambda': 0.00014572071983982323, 'reg_alpha': 0.8537075789359361, 'n_estimators': 66, 'learning_rste': 0.02505496789253707, 'max_depth': 5}. Best is trial 21 with value: 0.2950213020378293.\u001b[0m\n"
     ]
    },
    {
     "name": "stdout",
     "output_type": "stream",
     "text": [
      "[04:03:36] WARNING: C:/Users/Administrator/workspace/xgboost-win64_release_1.5.1/src/objective/regression_obj.cu:188: reg:linear is now deprecated in favor of reg:squarederror.\n",
      "[04:03:36] WARNING: C:/Users/Administrator/workspace/xgboost-win64_release_1.5.1/src/learner.cc:576: \n",
      "Parameters: { \"silent\" } might not be used.\n",
      "\n",
      "  This could be a false alarm, with some parameters getting used by language bindings but\n",
      "  then being mistakenly passed down to XGBoost core, or some parameter actually being used\n",
      "  but getting flagged wrongly here. Please open an issue if you find any such cases.\n",
      "\n",
      "\n",
      "[04:03:36] WARNING: C:/Users/Administrator/workspace/xgboost-win64_release_1.5.1/src/objective/regression_obj.cu:188: reg:linear is now deprecated in favor of reg:squarederror.\n",
      "[04:03:36] WARNING: C:/Users/Administrator/workspace/xgboost-win64_release_1.5.1/src/learner.cc:576: \n",
      "Parameters: { \"silent\" } might not be used.\n",
      "\n",
      "  This could be a false alarm, with some parameters getting used by language bindings but\n",
      "  then being mistakenly passed down to XGBoost core, or some parameter actually being used\n",
      "  but getting flagged wrongly here. Please open an issue if you find any such cases.\n",
      "\n",
      "\n"
     ]
    },
    {
     "name": "stderr",
     "output_type": "stream",
     "text": [
      "\u001b[32m[I 2022-04-04 04:03:36,896]\u001b[0m Trial 37 finished with value: 0.29595568145683837 and parameters: {'booster': 'gbtree', 'reg_lambda': 0.0002604094556452956, 'reg_alpha': 0.00011117385617276468, 'n_estimators': 97, 'learning_rste': 0.06992097672408937, 'max_depth': 4}. Best is trial 21 with value: 0.2950213020378293.\u001b[0m\n"
     ]
    },
    {
     "name": "stdout",
     "output_type": "stream",
     "text": [
      "[04:03:37] WARNING: C:/Users/Administrator/workspace/xgboost-win64_release_1.5.1/src/objective/regression_obj.cu:188: reg:linear is now deprecated in favor of reg:squarederror.\n",
      "[04:03:37] WARNING: C:/Users/Administrator/workspace/xgboost-win64_release_1.5.1/src/learner.cc:576: \n",
      "Parameters: { \"silent\" } might not be used.\n",
      "\n",
      "  This could be a false alarm, with some parameters getting used by language bindings but\n",
      "  then being mistakenly passed down to XGBoost core, or some parameter actually being used\n",
      "  but getting flagged wrongly here. Please open an issue if you find any such cases.\n",
      "\n",
      "\n"
     ]
    },
    {
     "name": "stderr",
     "output_type": "stream",
     "text": [
      "\u001b[32m[I 2022-04-04 04:03:38,233]\u001b[0m Trial 38 finished with value: 0.29212080751532477 and parameters: {'booster': 'dart', 'reg_lambda': 0.015043997611277973, 'reg_alpha': 0.0009507184155456567, 'n_estimators': 89, 'learning_rste': 0.05283102407263582, 'max_depth': 4}. Best is trial 38 with value: 0.29212080751532477.\u001b[0m\n"
     ]
    },
    {
     "name": "stdout",
     "output_type": "stream",
     "text": [
      "[04:03:38] WARNING: C:/Users/Administrator/workspace/xgboost-win64_release_1.5.1/src/objective/regression_obj.cu:188: reg:linear is now deprecated in favor of reg:squarederror.\n",
      "[04:03:38] WARNING: C:/Users/Administrator/workspace/xgboost-win64_release_1.5.1/src/learner.cc:576: \n",
      "Parameters: { \"silent\" } might not be used.\n",
      "\n",
      "  This could be a false alarm, with some parameters getting used by language bindings but\n",
      "  then being mistakenly passed down to XGBoost core, or some parameter actually being used\n",
      "  but getting flagged wrongly here. Please open an issue if you find any such cases.\n",
      "\n",
      "\n"
     ]
    },
    {
     "name": "stderr",
     "output_type": "stream",
     "text": [
      "\u001b[32m[I 2022-04-04 04:03:38,898]\u001b[0m Trial 39 finished with value: 0.29045981010189154 and parameters: {'booster': 'dart', 'reg_lambda': 0.027424916373056867, 'reg_alpha': 0.00010235188724361691, 'n_estimators': 89, 'learning_rste': 0.04243393300155089, 'max_depth': 4}. Best is trial 39 with value: 0.29045981010189154.\u001b[0m\n"
     ]
    },
    {
     "name": "stdout",
     "output_type": "stream",
     "text": [
      "[04:03:38] WARNING: C:/Users/Administrator/workspace/xgboost-win64_release_1.5.1/src/objective/regression_obj.cu:188: reg:linear is now deprecated in favor of reg:squarederror.\n",
      "[04:03:38] WARNING: C:/Users/Administrator/workspace/xgboost-win64_release_1.5.1/src/learner.cc:576: \n",
      "Parameters: { \"silent\" } might not be used.\n",
      "\n",
      "  This could be a false alarm, with some parameters getting used by language bindings but\n",
      "  then being mistakenly passed down to XGBoost core, or some parameter actually being used\n",
      "  but getting flagged wrongly here. Please open an issue if you find any such cases.\n",
      "\n",
      "\n"
     ]
    },
    {
     "name": "stderr",
     "output_type": "stream",
     "text": [
      "\u001b[32m[I 2022-04-04 04:03:39,302]\u001b[0m Trial 40 finished with value: 0.5597321149416222 and parameters: {'booster': 'dart', 'reg_lambda': 0.022604073905378084, 'reg_alpha': 0.0009493022249976294, 'n_estimators': 74, 'learning_rste': 0.010472517019057173, 'max_depth': 4}. Best is trial 39 with value: 0.29045981010189154.\u001b[0m\n"
     ]
    },
    {
     "name": "stdout",
     "output_type": "stream",
     "text": [
      "[04:03:39] WARNING: C:/Users/Administrator/workspace/xgboost-win64_release_1.5.1/src/objective/regression_obj.cu:188: reg:linear is now deprecated in favor of reg:squarederror.\n",
      "[04:03:39] WARNING: C:/Users/Administrator/workspace/xgboost-win64_release_1.5.1/src/learner.cc:576: \n",
      "Parameters: { \"silent\" } might not be used.\n",
      "\n",
      "  This could be a false alarm, with some parameters getting used by language bindings but\n",
      "  then being mistakenly passed down to XGBoost core, or some parameter actually being used\n",
      "  but getting flagged wrongly here. Please open an issue if you find any such cases.\n",
      "\n",
      "\n"
     ]
    },
    {
     "name": "stderr",
     "output_type": "stream",
     "text": [
      "\u001b[32m[I 2022-04-04 04:03:39,799]\u001b[0m Trial 41 finished with value: 0.29206695134500116 and parameters: {'booster': 'dart', 'reg_lambda': 0.018090666668967435, 'reg_alpha': 0.00010890420647926675, 'n_estimators': 88, 'learning_rste': 0.04763398503785148, 'max_depth': 4}. Best is trial 39 with value: 0.29045981010189154.\u001b[0m\n"
     ]
    },
    {
     "name": "stdout",
     "output_type": "stream",
     "text": [
      "[04:03:40] WARNING: C:/Users/Administrator/workspace/xgboost-win64_release_1.5.1/src/objective/regression_obj.cu:188: reg:linear is now deprecated in favor of reg:squarederror.\n",
      "[04:03:40] WARNING: C:/Users/Administrator/workspace/xgboost-win64_release_1.5.1/src/learner.cc:576: \n",
      "Parameters: { \"silent\" } might not be used.\n",
      "\n",
      "  This could be a false alarm, with some parameters getting used by language bindings but\n",
      "  then being mistakenly passed down to XGBoost core, or some parameter actually being used\n",
      "  but getting flagged wrongly here. Please open an issue if you find any such cases.\n",
      "\n",
      "\n"
     ]
    },
    {
     "name": "stderr",
     "output_type": "stream",
     "text": [
      "\u001b[32m[I 2022-04-04 04:03:41,198]\u001b[0m Trial 42 finished with value: 0.29486050823381615 and parameters: {'booster': 'dart', 'reg_lambda': 0.013125212337293649, 'reg_alpha': 0.00046337326045142193, 'n_estimators': 89, 'learning_rste': 0.03518366007186601, 'max_depth': 4}. Best is trial 39 with value: 0.29045981010189154.\u001b[0m\n"
     ]
    },
    {
     "name": "stdout",
     "output_type": "stream",
     "text": [
      "[04:03:41] WARNING: C:/Users/Administrator/workspace/xgboost-win64_release_1.5.1/src/objective/regression_obj.cu:188: reg:linear is now deprecated in favor of reg:squarederror.\n",
      "[04:03:41] WARNING: C:/Users/Administrator/workspace/xgboost-win64_release_1.5.1/src/learner.cc:576: \n",
      "Parameters: { \"silent\" } might not be used.\n",
      "\n",
      "  This could be a false alarm, with some parameters getting used by language bindings but\n",
      "  then being mistakenly passed down to XGBoost core, or some parameter actually being used\n",
      "  but getting flagged wrongly here. Please open an issue if you find any such cases.\n",
      "\n",
      "\n"
     ]
    },
    {
     "name": "stderr",
     "output_type": "stream",
     "text": [
      "\u001b[32m[I 2022-04-04 04:03:41,683]\u001b[0m Trial 43 finished with value: 0.2992137282701827 and parameters: {'booster': 'dart', 'reg_lambda': 0.013235068766334013, 'reg_alpha': 0.00039038674765338023, 'n_estimators': 87, 'learning_rste': 0.03132826420310933, 'max_depth': 4}. Best is trial 39 with value: 0.29045981010189154.\u001b[0m\n"
     ]
    },
    {
     "name": "stdout",
     "output_type": "stream",
     "text": [
      "[04:03:41] WARNING: C:/Users/Administrator/workspace/xgboost-win64_release_1.5.1/src/objective/regression_obj.cu:188: reg:linear is now deprecated in favor of reg:squarederror.\n",
      "[04:03:41] WARNING: C:/Users/Administrator/workspace/xgboost-win64_release_1.5.1/src/learner.cc:576: \n",
      "Parameters: { \"silent\" } might not be used.\n",
      "\n",
      "  This could be a false alarm, with some parameters getting used by language bindings but\n",
      "  then being mistakenly passed down to XGBoost core, or some parameter actually being used\n",
      "  but getting flagged wrongly here. Please open an issue if you find any such cases.\n",
      "\n",
      "\n"
     ]
    },
    {
     "name": "stderr",
     "output_type": "stream",
     "text": [
      "\u001b[32m[I 2022-04-04 04:03:42,231]\u001b[0m Trial 44 finished with value: 0.35026772795136907 and parameters: {'booster': 'dart', 'reg_lambda': 0.05561402383017123, 'reg_alpha': 0.00030047512492481336, 'n_estimators': 89, 'learning_rste': 0.019752096932664727, 'max_depth': 4}. Best is trial 39 with value: 0.29045981010189154.\u001b[0m\n"
     ]
    },
    {
     "name": "stdout",
     "output_type": "stream",
     "text": [
      "[04:03:42] WARNING: C:/Users/Administrator/workspace/xgboost-win64_release_1.5.1/src/objective/regression_obj.cu:188: reg:linear is now deprecated in favor of reg:squarederror.\n",
      "[04:03:42] WARNING: C:/Users/Administrator/workspace/xgboost-win64_release_1.5.1/src/learner.cc:576: \n",
      "Parameters: { \"silent\" } might not be used.\n",
      "\n",
      "  This could be a false alarm, with some parameters getting used by language bindings but\n",
      "  then being mistakenly passed down to XGBoost core, or some parameter actually being used\n",
      "  but getting flagged wrongly here. Please open an issue if you find any such cases.\n",
      "\n",
      "\n"
     ]
    },
    {
     "name": "stderr",
     "output_type": "stream",
     "text": [
      "\u001b[32m[I 2022-04-04 04:03:42,661]\u001b[0m Trial 45 finished with value: 0.29811624687187765 and parameters: {'booster': 'dart', 'reg_lambda': 0.008399859182280964, 'reg_alpha': 0.00010556108423924819, 'n_estimators': 83, 'learning_rste': 0.04741360487327923, 'max_depth': 3}. Best is trial 39 with value: 0.29045981010189154.\u001b[0m\n"
     ]
    },
    {
     "name": "stdout",
     "output_type": "stream",
     "text": [
      "[04:03:42] WARNING: C:/Users/Administrator/workspace/xgboost-win64_release_1.5.1/src/objective/regression_obj.cu:188: reg:linear is now deprecated in favor of reg:squarederror.\n",
      "[04:03:42] WARNING: C:/Users/Administrator/workspace/xgboost-win64_release_1.5.1/src/learner.cc:576: \n",
      "Parameters: { \"silent\" } might not be used.\n",
      "\n",
      "  This could be a false alarm, with some parameters getting used by language bindings but\n",
      "  then being mistakenly passed down to XGBoost core, or some parameter actually being used\n",
      "  but getting flagged wrongly here. Please open an issue if you find any such cases.\n",
      "\n",
      "\n"
     ]
    },
    {
     "name": "stderr",
     "output_type": "stream",
     "text": [
      "\u001b[32m[I 2022-04-04 04:03:43,022]\u001b[0m Trial 46 finished with value: 0.3389563376058804 and parameters: {'booster': 'dart', 'reg_lambda': 0.0196249677086306, 'reg_alpha': 0.0006610087288629816, 'n_estimators': 69, 'learning_rste': 0.027193606664556606, 'max_depth': 4}. Best is trial 39 with value: 0.29045981010189154.\u001b[0m\n"
     ]
    },
    {
     "name": "stdout",
     "output_type": "stream",
     "text": [
      "[04:03:43] WARNING: C:/Users/Administrator/workspace/xgboost-win64_release_1.5.1/src/objective/regression_obj.cu:188: reg:linear is now deprecated in favor of reg:squarederror.\n",
      "[04:03:43] WARNING: C:/Users/Administrator/workspace/xgboost-win64_release_1.5.1/src/learner.cc:576: \n",
      "Parameters: { \"silent\" } might not be used.\n",
      "\n",
      "  This could be a false alarm, with some parameters getting used by language bindings but\n",
      "  then being mistakenly passed down to XGBoost core, or some parameter actually being used\n",
      "  but getting flagged wrongly here. Please open an issue if you find any such cases.\n",
      "\n",
      "\n"
     ]
    },
    {
     "name": "stderr",
     "output_type": "stream",
     "text": [
      "\u001b[32m[I 2022-04-04 04:03:43,557]\u001b[0m Trial 47 finished with value: 0.5913489327343 and parameters: {'booster': 'dart', 'reg_lambda': 0.04093811184309807, 'reg_alpha': 0.00019543082118445108, 'n_estimators': 91, 'learning_rste': 0.007645206222192097, 'max_depth': 4}. Best is trial 39 with value: 0.29045981010189154.\u001b[0m\n"
     ]
    },
    {
     "name": "stdout",
     "output_type": "stream",
     "text": [
      "[04:03:43] WARNING: C:/Users/Administrator/workspace/xgboost-win64_release_1.5.1/src/objective/regression_obj.cu:188: reg:linear is now deprecated in favor of reg:squarederror.\n",
      "[04:03:43] WARNING: C:/Users/Administrator/workspace/xgboost-win64_release_1.5.1/src/learner.cc:576: \n",
      "Parameters: { \"silent\" } might not be used.\n",
      "\n",
      "  This could be a false alarm, with some parameters getting used by language bindings but\n",
      "  then being mistakenly passed down to XGBoost core, or some parameter actually being used\n",
      "  but getting flagged wrongly here. Please open an issue if you find any such cases.\n",
      "\n",
      "\n"
     ]
    },
    {
     "name": "stderr",
     "output_type": "stream",
     "text": [
      "\u001b[32m[I 2022-04-04 04:03:44,308]\u001b[0m Trial 48 finished with value: 0.2967030891665018 and parameters: {'booster': 'dart', 'reg_lambda': 0.47453956185304164, 'reg_alpha': 0.002200879033380886, 'n_estimators': 76, 'learning_rste': 0.03993424518736036, 'max_depth': 4}. Best is trial 39 with value: 0.29045981010189154.\u001b[0m\n"
     ]
    },
    {
     "name": "stdout",
     "output_type": "stream",
     "text": [
      "[04:03:44] WARNING: C:/Users/Administrator/workspace/xgboost-win64_release_1.5.1/src/objective/regression_obj.cu:188: reg:linear is now deprecated in favor of reg:squarederror.\n",
      "[04:03:44] WARNING: C:/Users/Administrator/workspace/xgboost-win64_release_1.5.1/src/learner.cc:576: \n",
      "Parameters: { \"silent\" } might not be used.\n",
      "\n",
      "  This could be a false alarm, with some parameters getting used by language bindings but\n",
      "  then being mistakenly passed down to XGBoost core, or some parameter actually being used\n",
      "  but getting flagged wrongly here. Please open an issue if you find any such cases.\n",
      "\n",
      "\n"
     ]
    },
    {
     "name": "stderr",
     "output_type": "stream",
     "text": [
      "\u001b[32m[I 2022-04-04 04:03:45,310]\u001b[0m Trial 49 finished with value: 0.4578532463636556 and parameters: {'booster': 'dart', 'reg_lambda': 0.014935942092569088, 'reg_alpha': 0.00018269376098819511, 'n_estimators': 89, 'learning_rste': 0.014819947598248664, 'max_depth': 3}. Best is trial 39 with value: 0.29045981010189154.\u001b[0m\n",
      "\u001b[32m[I 2022-04-04 04:03:45,434]\u001b[0m Trial 50 finished with value: 1.013896586894559 and parameters: {'booster': 'gblinear', 'reg_lambda': 0.08089429152531155, 'reg_alpha': 0.0005369982907150643, 'n_estimators': 59, 'learning_rste': 0.000328888089220176, 'max_depth': 4}. Best is trial 39 with value: 0.29045981010189154.\u001b[0m\n",
      "\u001b[32m[I 2022-04-04 04:03:45,546]\u001b[0m Trial 51 finished with value: 0.6374480037321801 and parameters: {'booster': 'dart', 'reg_lambda': 0.008110969567986029, 'reg_alpha': 0.0002641497494727352, 'n_estimators': 10, 'learning_rste': 0.057241628583678886, 'max_depth': 4}. Best is trial 39 with value: 0.29045981010189154.\u001b[0m\n"
     ]
    },
    {
     "name": "stdout",
     "output_type": "stream",
     "text": [
      "[04:03:45] WARNING: C:/Users/Administrator/workspace/xgboost-win64_release_1.5.1/src/objective/regression_obj.cu:188: reg:linear is now deprecated in favor of reg:squarederror.\n",
      "[04:03:45] WARNING: C:/Users/Administrator/workspace/xgboost-win64_release_1.5.1/src/learner.cc:576: \n",
      "Parameters: { \"max_depth\", \"silent\" } might not be used.\n",
      "\n",
      "  This could be a false alarm, with some parameters getting used by language bindings but\n",
      "  then being mistakenly passed down to XGBoost core, or some parameter actually being used\n",
      "  but getting flagged wrongly here. Please open an issue if you find any such cases.\n",
      "\n",
      "\n",
      "[04:03:45] WARNING: C:/Users/Administrator/workspace/xgboost-win64_release_1.5.1/src/objective/regression_obj.cu:188: reg:linear is now deprecated in favor of reg:squarederror.\n",
      "[04:03:45] WARNING: C:/Users/Administrator/workspace/xgboost-win64_release_1.5.1/src/learner.cc:576: \n",
      "Parameters: { \"silent\" } might not be used.\n",
      "\n",
      "  This could be a false alarm, with some parameters getting used by language bindings but\n",
      "  then being mistakenly passed down to XGBoost core, or some parameter actually being used\n",
      "  but getting flagged wrongly here. Please open an issue if you find any such cases.\n",
      "\n",
      "\n",
      "[04:03:45] WARNING: C:/Users/Administrator/workspace/xgboost-win64_release_1.5.1/src/objective/regression_obj.cu:188: reg:linear is now deprecated in favor of reg:squarederror.\n",
      "[04:03:45] WARNING: C:/Users/Administrator/workspace/xgboost-win64_release_1.5.1/src/learner.cc:576: \n",
      "Parameters: { \"silent\" } might not be used.\n",
      "\n",
      "  This could be a false alarm, with some parameters getting used by language bindings but\n",
      "  then being mistakenly passed down to XGBoost core, or some parameter actually being used\n",
      "  but getting flagged wrongly here. Please open an issue if you find any such cases.\n",
      "\n",
      "\n"
     ]
    },
    {
     "name": "stderr",
     "output_type": "stream",
     "text": [
      "\u001b[32m[I 2022-04-04 04:03:46,003]\u001b[0m Trial 52 finished with value: 0.2970702405245115 and parameters: {'booster': 'dart', 'reg_lambda': 0.03466813959138749, 'reg_alpha': 0.002158964925054906, 'n_estimators': 82, 'learning_rste': 0.07999604770033833, 'max_depth': 4}. Best is trial 39 with value: 0.29045981010189154.\u001b[0m\n"
     ]
    },
    {
     "name": "stdout",
     "output_type": "stream",
     "text": [
      "[04:03:46] WARNING: C:/Users/Administrator/workspace/xgboost-win64_release_1.5.1/src/objective/regression_obj.cu:188: reg:linear is now deprecated in favor of reg:squarederror.\n",
      "[04:03:46] WARNING: C:/Users/Administrator/workspace/xgboost-win64_release_1.5.1/src/learner.cc:576: \n",
      "Parameters: { \"silent\" } might not be used.\n",
      "\n",
      "  This could be a false alarm, with some parameters getting used by language bindings but\n",
      "  then being mistakenly passed down to XGBoost core, or some parameter actually being used\n",
      "  but getting flagged wrongly here. Please open an issue if you find any such cases.\n",
      "\n",
      "\n"
     ]
    },
    {
     "name": "stderr",
     "output_type": "stream",
     "text": [
      "\u001b[32m[I 2022-04-04 04:03:46,440]\u001b[0m Trial 53 finished with value: 0.3014227010810906 and parameters: {'booster': 'dart', 'reg_lambda': 0.009639681399018558, 'reg_alpha': 0.0009865750928416727, 'n_estimators': 77, 'learning_rste': 0.03406235284301414, 'max_depth': 4}. Best is trial 39 with value: 0.29045981010189154.\u001b[0m\n",
      "\u001b[32m[I 2022-04-04 04:03:46,589]\u001b[0m Trial 54 finished with value: 0.6912624364681298 and parameters: {'booster': 'gblinear', 'reg_lambda': 0.018280517929723357, 'reg_alpha': 0.00014877495797326108, 'n_estimators': 86, 'learning_rste': 0.05646235123440307, 'max_depth': 4}. Best is trial 39 with value: 0.29045981010189154.\u001b[0m\n"
     ]
    },
    {
     "name": "stdout",
     "output_type": "stream",
     "text": [
      "[04:03:46] WARNING: C:/Users/Administrator/workspace/xgboost-win64_release_1.5.1/src/objective/regression_obj.cu:188: reg:linear is now deprecated in favor of reg:squarederror.\n",
      "[04:03:46] WARNING: C:/Users/Administrator/workspace/xgboost-win64_release_1.5.1/src/learner.cc:576: \n",
      "Parameters: { \"max_depth\", \"silent\" } might not be used.\n",
      "\n",
      "  This could be a false alarm, with some parameters getting used by language bindings but\n",
      "  then being mistakenly passed down to XGBoost core, or some parameter actually being used\n",
      "  but getting flagged wrongly here. Please open an issue if you find any such cases.\n",
      "\n",
      "\n",
      "[04:03:46] WARNING: C:/Users/Administrator/workspace/xgboost-win64_release_1.5.1/src/objective/regression_obj.cu:188: reg:linear is now deprecated in favor of reg:squarederror.\n",
      "[04:03:46] WARNING: C:/Users/Administrator/workspace/xgboost-win64_release_1.5.1/src/learner.cc:576: \n",
      "Parameters: { \"silent\" } might not be used.\n",
      "\n",
      "  This could be a false alarm, with some parameters getting used by language bindings but\n",
      "  then being mistakenly passed down to XGBoost core, or some parameter actually being used\n",
      "  but getting flagged wrongly here. Please open an issue if you find any such cases.\n",
      "\n",
      "\n"
     ]
    },
    {
     "name": "stderr",
     "output_type": "stream",
     "text": [
      "\u001b[32m[I 2022-04-04 04:03:46,747]\u001b[0m Trial 55 finished with value: 0.47763378545870516 and parameters: {'booster': 'dart', 'reg_lambda': 0.05365056609476269, 'reg_alpha': 0.0044979098485808475, 'n_estimators': 27, 'learning_rste': 0.04417543178787304, 'max_depth': 3}. Best is trial 39 with value: 0.29045981010189154.\u001b[0m\n"
     ]
    },
    {
     "name": "stdout",
     "output_type": "stream",
     "text": [
      "[04:03:46] WARNING: C:/Users/Administrator/workspace/xgboost-win64_release_1.5.1/src/objective/regression_obj.cu:188: reg:linear is now deprecated in favor of reg:squarederror.\n",
      "[04:03:46] WARNING: C:/Users/Administrator/workspace/xgboost-win64_release_1.5.1/src/learner.cc:576: \n",
      "Parameters: { \"silent\" } might not be used.\n",
      "\n",
      "  This could be a false alarm, with some parameters getting used by language bindings but\n",
      "  then being mistakenly passed down to XGBoost core, or some parameter actually being used\n",
      "  but getting flagged wrongly here. Please open an issue if you find any such cases.\n",
      "\n",
      "\n"
     ]
    },
    {
     "name": "stderr",
     "output_type": "stream",
     "text": [
      "\u001b[32m[I 2022-04-04 04:03:47,324]\u001b[0m Trial 56 finished with value: 0.7514773510189148 and parameters: {'booster': 'dart', 'reg_lambda': 0.13701800464256034, 'reg_alpha': 0.0003221754949644049, 'n_estimators': 97, 'learning_rste': 0.0038557425912445135, 'max_depth': 4}. Best is trial 39 with value: 0.29045981010189154.\u001b[0m\n"
     ]
    },
    {
     "name": "stdout",
     "output_type": "stream",
     "text": [
      "[04:03:47] WARNING: C:/Users/Administrator/workspace/xgboost-win64_release_1.5.1/src/objective/regression_obj.cu:188: reg:linear is now deprecated in favor of reg:squarederror.\n",
      "[04:03:47] WARNING: C:/Users/Administrator/workspace/xgboost-win64_release_1.5.1/src/learner.cc:576: \n",
      "Parameters: { \"silent\" } might not be used.\n",
      "\n",
      "  This could be a false alarm, with some parameters getting used by language bindings but\n",
      "  then being mistakenly passed down to XGBoost core, or some parameter actually being used\n",
      "  but getting flagged wrongly here. Please open an issue if you find any such cases.\n",
      "\n",
      "\n"
     ]
    },
    {
     "name": "stderr",
     "output_type": "stream",
     "text": [
      "\u001b[32m[I 2022-04-04 04:03:47,804]\u001b[0m Trial 57 finished with value: 0.9531940928397407 and parameters: {'booster': 'dart', 'reg_lambda': 0.0063868780856028195, 'reg_alpha': 0.021333933364049214, 'n_estimators': 81, 'learning_rste': 0.0010063467021526361, 'max_depth': 4}. Best is trial 39 with value: 0.29045981010189154.\u001b[0m\n"
     ]
    },
    {
     "name": "stdout",
     "output_type": "stream",
     "text": [
      "[04:03:47] WARNING: C:/Users/Administrator/workspace/xgboost-win64_release_1.5.1/src/objective/regression_obj.cu:188: reg:linear is now deprecated in favor of reg:squarederror.\n",
      "[04:03:47] WARNING: C:/Users/Administrator/workspace/xgboost-win64_release_1.5.1/src/learner.cc:576: \n",
      "Parameters: { \"silent\" } might not be used.\n",
      "\n",
      "  This could be a false alarm, with some parameters getting used by language bindings but\n",
      "  then being mistakenly passed down to XGBoost core, or some parameter actually being used\n",
      "  but getting flagged wrongly here. Please open an issue if you find any such cases.\n",
      "\n",
      "\n"
     ]
    },
    {
     "name": "stderr",
     "output_type": "stream",
     "text": [
      "\u001b[32m[I 2022-04-04 04:03:49,115]\u001b[0m Trial 58 finished with value: 0.2950335162405607 and parameters: {'booster': 'dart', 'reg_lambda': 0.20987781299309682, 'reg_alpha': 0.0006361593085496838, 'n_estimators': 92, 'learning_rste': 0.08233915197440883, 'max_depth': 3}. Best is trial 39 with value: 0.29045981010189154.\u001b[0m\n"
     ]
    },
    {
     "name": "stdout",
     "output_type": "stream",
     "text": [
      "[04:03:49] WARNING: C:/Users/Administrator/workspace/xgboost-win64_release_1.5.1/src/objective/regression_obj.cu:188: reg:linear is now deprecated in favor of reg:squarederror.\n",
      "[04:03:49] WARNING: C:/Users/Administrator/workspace/xgboost-win64_release_1.5.1/src/learner.cc:576: \n",
      "Parameters: { \"silent\" } might not be used.\n",
      "\n",
      "  This could be a false alarm, with some parameters getting used by language bindings but\n",
      "  then being mistakenly passed down to XGBoost core, or some parameter actually being used\n",
      "  but getting flagged wrongly here. Please open an issue if you find any such cases.\n",
      "\n",
      "\n"
     ]
    },
    {
     "name": "stderr",
     "output_type": "stream",
     "text": [
      "\u001b[32m[I 2022-04-04 04:03:49,576]\u001b[0m Trial 59 finished with value: 0.9042763859174023 and parameters: {'booster': 'dart', 'reg_lambda': 0.3425417837711249, 'reg_alpha': 0.00055958705637915, 'n_estimators': 91, 'learning_rste': 0.001756392515342083, 'max_depth': 3}. Best is trial 39 with value: 0.29045981010189154.\u001b[0m\n"
     ]
    },
    {
     "name": "stdout",
     "output_type": "stream",
     "text": [
      "[04:03:49] WARNING: C:/Users/Administrator/workspace/xgboost-win64_release_1.5.1/src/objective/regression_obj.cu:188: reg:linear is now deprecated in favor of reg:squarederror.\n",
      "[04:03:49] WARNING: C:/Users/Administrator/workspace/xgboost-win64_release_1.5.1/src/learner.cc:576: \n",
      "Parameters: { \"silent\" } might not be used.\n",
      "\n",
      "  This could be a false alarm, with some parameters getting used by language bindings but\n",
      "  then being mistakenly passed down to XGBoost core, or some parameter actually being used\n",
      "  but getting flagged wrongly here. Please open an issue if you find any such cases.\n",
      "\n",
      "\n"
     ]
    },
    {
     "name": "stderr",
     "output_type": "stream",
     "text": [
      "\u001b[32m[I 2022-04-04 04:03:50,275]\u001b[0m Trial 60 finished with value: 0.34629693425540203 and parameters: {'booster': 'dart', 'reg_lambda': 0.0028909466760801746, 'reg_alpha': 0.0015653253473363004, 'n_estimators': 98, 'learning_rste': 0.02311141017163987, 'max_depth': 3}. Best is trial 39 with value: 0.29045981010189154.\u001b[0m\n"
     ]
    },
    {
     "name": "stdout",
     "output_type": "stream",
     "text": [
      "[04:03:50] WARNING: C:/Users/Administrator/workspace/xgboost-win64_release_1.5.1/src/objective/regression_obj.cu:188: reg:linear is now deprecated in favor of reg:squarederror.\n",
      "[04:03:50] WARNING: C:/Users/Administrator/workspace/xgboost-win64_release_1.5.1/src/learner.cc:576: \n",
      "Parameters: { \"silent\" } might not be used.\n",
      "\n",
      "  This could be a false alarm, with some parameters getting used by language bindings but\n",
      "  then being mistakenly passed down to XGBoost core, or some parameter actually being used\n",
      "  but getting flagged wrongly here. Please open an issue if you find any such cases.\n",
      "\n",
      "\n"
     ]
    },
    {
     "name": "stderr",
     "output_type": "stream",
     "text": [
      "\u001b[32m[I 2022-04-04 04:03:52,283]\u001b[0m Trial 61 finished with value: 0.30717443204581313 and parameters: {'booster': 'dart', 'reg_lambda': 0.6925998327505788, 'reg_alpha': 0.00015086686247709597, 'n_estimators': 92, 'learning_rste': 0.08300231859061166, 'max_depth': 5}. Best is trial 39 with value: 0.29045981010189154.\u001b[0m\n",
      "\u001b[32m[I 2022-04-04 04:03:52,453]\u001b[0m Trial 62 finished with value: 0.7007474900039741 and parameters: {'booster': 'gblinear', 'reg_lambda': 0.09294830441820505, 'reg_alpha': 0.00023768663753838434, 'n_estimators': 86, 'learning_rste': 0.05799023126071954, 'max_depth': 3}. Best is trial 39 with value: 0.29045981010189154.\u001b[0m\n"
     ]
    },
    {
     "name": "stdout",
     "output_type": "stream",
     "text": [
      "[04:03:52] WARNING: C:/Users/Administrator/workspace/xgboost-win64_release_1.5.1/src/objective/regression_obj.cu:188: reg:linear is now deprecated in favor of reg:squarederror.\n",
      "[04:03:52] WARNING: C:/Users/Administrator/workspace/xgboost-win64_release_1.5.1/src/learner.cc:576: \n",
      "Parameters: { \"max_depth\", \"silent\" } might not be used.\n",
      "\n",
      "  This could be a false alarm, with some parameters getting used by language bindings but\n",
      "  then being mistakenly passed down to XGBoost core, or some parameter actually being used\n",
      "  but getting flagged wrongly here. Please open an issue if you find any such cases.\n",
      "\n",
      "\n",
      "[04:03:52] WARNING: C:/Users/Administrator/workspace/xgboost-win64_release_1.5.1/src/objective/regression_obj.cu:188: reg:linear is now deprecated in favor of reg:squarederror.\n",
      "[04:03:52] WARNING: C:/Users/Administrator/workspace/xgboost-win64_release_1.5.1/src/learner.cc:576: \n",
      "Parameters: { \"silent\" } might not be used.\n",
      "\n",
      "  This could be a false alarm, with some parameters getting used by language bindings but\n",
      "  then being mistakenly passed down to XGBoost core, or some parameter actually being used\n",
      "  but getting flagged wrongly here. Please open an issue if you find any such cases.\n",
      "\n",
      "\n"
     ]
    },
    {
     "name": "stderr",
     "output_type": "stream",
     "text": [
      "\u001b[32m[I 2022-04-04 04:03:53,061]\u001b[0m Trial 63 finished with value: 0.2998896402696497 and parameters: {'booster': 'dart', 'reg_lambda': 0.28597682933328167, 'reg_alpha': 0.0004072568554987834, 'n_estimators': 89, 'learning_rste': 0.0942358304733745, 'max_depth': 4}. Best is trial 39 with value: 0.29045981010189154.\u001b[0m\n"
     ]
    },
    {
     "name": "stdout",
     "output_type": "stream",
     "text": [
      "[04:03:53] WARNING: C:/Users/Administrator/workspace/xgboost-win64_release_1.5.1/src/objective/regression_obj.cu:188: reg:linear is now deprecated in favor of reg:squarederror.\n",
      "[04:03:53] WARNING: C:/Users/Administrator/workspace/xgboost-win64_release_1.5.1/src/learner.cc:576: \n",
      "Parameters: { \"silent\" } might not be used.\n",
      "\n",
      "  This could be a false alarm, with some parameters getting used by language bindings but\n",
      "  then being mistakenly passed down to XGBoost core, or some parameter actually being used\n",
      "  but getting flagged wrongly here. Please open an issue if you find any such cases.\n",
      "\n",
      "\n"
     ]
    },
    {
     "name": "stderr",
     "output_type": "stream",
     "text": [
      "\u001b[32m[I 2022-04-04 04:03:53,719]\u001b[0m Trial 64 finished with value: 0.3053738754492303 and parameters: {'booster': 'dart', 'reg_lambda': 0.01198803019798901, 'reg_alpha': 0.0038097670898932937, 'n_estimators': 94, 'learning_rste': 0.06625875176039066, 'max_depth': 5}. Best is trial 39 with value: 0.29045981010189154.\u001b[0m\n"
     ]
    },
    {
     "name": "stdout",
     "output_type": "stream",
     "text": [
      "[04:03:53] WARNING: C:/Users/Administrator/workspace/xgboost-win64_release_1.5.1/src/objective/regression_obj.cu:188: reg:linear is now deprecated in favor of reg:squarederror.\n",
      "[04:03:53] WARNING: C:/Users/Administrator/workspace/xgboost-win64_release_1.5.1/src/learner.cc:576: \n",
      "Parameters: { \"silent\" } might not be used.\n",
      "\n",
      "  This could be a false alarm, with some parameters getting used by language bindings but\n",
      "  then being mistakenly passed down to XGBoost core, or some parameter actually being used\n",
      "  but getting flagged wrongly here. Please open an issue if you find any such cases.\n",
      "\n",
      "\n"
     ]
    },
    {
     "name": "stderr",
     "output_type": "stream",
     "text": [
      "\u001b[32m[I 2022-04-04 04:03:54,374]\u001b[0m Trial 65 finished with value: 0.32244412262622113 and parameters: {'booster': 'dart', 'reg_lambda': 0.0016161220270818906, 'reg_alpha': 0.0007917429594423075, 'n_estimators': 83, 'learning_rste': 0.033666086586297855, 'max_depth': 3}. Best is trial 39 with value: 0.29045981010189154.\u001b[0m\n"
     ]
    },
    {
     "name": "stdout",
     "output_type": "stream",
     "text": [
      "[04:03:54] WARNING: C:/Users/Administrator/workspace/xgboost-win64_release_1.5.1/src/objective/regression_obj.cu:188: reg:linear is now deprecated in favor of reg:squarederror.\n",
      "[04:03:54] WARNING: C:/Users/Administrator/workspace/xgboost-win64_release_1.5.1/src/learner.cc:576: \n",
      "Parameters: { \"silent\" } might not be used.\n",
      "\n",
      "  This could be a false alarm, with some parameters getting used by language bindings but\n",
      "  then being mistakenly passed down to XGBoost core, or some parameter actually being used\n",
      "  but getting flagged wrongly here. Please open an issue if you find any such cases.\n",
      "\n",
      "\n"
     ]
    },
    {
     "name": "stderr",
     "output_type": "stream",
     "text": [
      "\u001b[32m[I 2022-04-04 04:03:56,154]\u001b[0m Trial 66 finished with value: 0.9746386949657703 and parameters: {'booster': 'dart', 'reg_lambda': 0.9747697911636747, 'reg_alpha': 0.00138163037739191, 'n_estimators': 97, 'learning_rste': 0.0006036479620723733, 'max_depth': 4}. Best is trial 39 with value: 0.29045981010189154.\u001b[0m\n",
      "\u001b[32m[I 2022-04-04 04:03:56,398]\u001b[0m Trial 67 finished with value: 0.5695807569796997 and parameters: {'booster': 'dart', 'reg_lambda': 0.026819167643295228, 'reg_alpha': 0.0064616484696568, 'n_estimators': 43, 'learning_rste': 0.017353832661671374, 'max_depth': 4}. Best is trial 39 with value: 0.29045981010189154.\u001b[0m\n"
     ]
    },
    {
     "name": "stdout",
     "output_type": "stream",
     "text": [
      "[04:03:56] WARNING: C:/Users/Administrator/workspace/xgboost-win64_release_1.5.1/src/objective/regression_obj.cu:188: reg:linear is now deprecated in favor of reg:squarederror.\n",
      "[04:03:56] WARNING: C:/Users/Administrator/workspace/xgboost-win64_release_1.5.1/src/learner.cc:576: \n",
      "Parameters: { \"silent\" } might not be used.\n",
      "\n",
      "  This could be a false alarm, with some parameters getting used by language bindings but\n",
      "  then being mistakenly passed down to XGBoost core, or some parameter actually being used\n",
      "  but getting flagged wrongly here. Please open an issue if you find any such cases.\n",
      "\n",
      "\n"
     ]
    },
    {
     "name": "stderr",
     "output_type": "stream",
     "text": [
      "\u001b[32m[I 2022-04-04 04:03:56,552]\u001b[0m Trial 68 finished with value: 0.6925736235516631 and parameters: {'booster': 'gblinear', 'reg_lambda': 0.005646851702371258, 'reg_alpha': 0.015560880775356216, 'n_estimators': 72, 'learning_rste': 0.045498010183550576, 'max_depth': 5}. Best is trial 39 with value: 0.29045981010189154.\u001b[0m\n"
     ]
    },
    {
     "name": "stdout",
     "output_type": "stream",
     "text": [
      "[04:03:56] WARNING: C:/Users/Administrator/workspace/xgboost-win64_release_1.5.1/src/objective/regression_obj.cu:188: reg:linear is now deprecated in favor of reg:squarederror.\n",
      "[04:03:56] WARNING: C:/Users/Administrator/workspace/xgboost-win64_release_1.5.1/src/learner.cc:576: \n",
      "Parameters: { \"max_depth\", \"silent\" } might not be used.\n",
      "\n",
      "  This could be a false alarm, with some parameters getting used by language bindings but\n",
      "  then being mistakenly passed down to XGBoost core, or some parameter actually being used\n",
      "  but getting flagged wrongly here. Please open an issue if you find any such cases.\n",
      "\n",
      "\n",
      "[04:03:56] WARNING: C:/Users/Administrator/workspace/xgboost-win64_release_1.5.1/src/objective/regression_obj.cu:188: reg:linear is now deprecated in favor of reg:squarederror.\n",
      "[04:03:56] WARNING: C:/Users/Administrator/workspace/xgboost-win64_release_1.5.1/src/learner.cc:576: \n",
      "Parameters: { \"silent\" } might not be used.\n",
      "\n",
      "  This could be a false alarm, with some parameters getting used by language bindings but\n",
      "  then being mistakenly passed down to XGBoost core, or some parameter actually being used\n",
      "  but getting flagged wrongly here. Please open an issue if you find any such cases.\n",
      "\n",
      "\n"
     ]
    },
    {
     "name": "stderr",
     "output_type": "stream",
     "text": [
      "\u001b[32m[I 2022-04-04 04:03:57,163]\u001b[0m Trial 69 finished with value: 0.3011609091207284 and parameters: {'booster': 'dart', 'reg_lambda': 0.01617410308665357, 'reg_alpha': 0.0005576302207495893, 'n_estimators': 100, 'learning_rste': 0.07748395154269333, 'max_depth': 3}. Best is trial 39 with value: 0.29045981010189154.\u001b[0m\n"
     ]
    },
    {
     "name": "stdout",
     "output_type": "stream",
     "text": [
      "[04:03:57] WARNING: C:/Users/Administrator/workspace/xgboost-win64_release_1.5.1/src/objective/regression_obj.cu:188: reg:linear is now deprecated in favor of reg:squarederror.\n",
      "[04:03:57] WARNING: C:/Users/Administrator/workspace/xgboost-win64_release_1.5.1/src/learner.cc:576: \n",
      "Parameters: { \"silent\" } might not be used.\n",
      "\n",
      "  This could be a false alarm, with some parameters getting used by language bindings but\n",
      "  then being mistakenly passed down to XGBoost core, or some parameter actually being used\n",
      "  but getting flagged wrongly here. Please open an issue if you find any such cases.\n",
      "\n",
      "\n"
     ]
    },
    {
     "name": "stderr",
     "output_type": "stream",
     "text": [
      "\u001b[32m[I 2022-04-04 04:03:57,577]\u001b[0m Trial 70 finished with value: 0.29409009076355747 and parameters: {'booster': 'dart', 'reg_lambda': 0.22154160434514983, 'reg_alpha': 0.002730914042960194, 'n_estimators': 77, 'learning_rste': 0.06182245722194605, 'max_depth': 4}. Best is trial 39 with value: 0.29045981010189154.\u001b[0m\n"
     ]
    },
    {
     "name": "stdout",
     "output_type": "stream",
     "text": [
      "[04:03:57] WARNING: C:/Users/Administrator/workspace/xgboost-win64_release_1.5.1/src/objective/regression_obj.cu:188: reg:linear is now deprecated in favor of reg:squarederror.\n",
      "[04:03:57] WARNING: C:/Users/Administrator/workspace/xgboost-win64_release_1.5.1/src/learner.cc:576: \n",
      "Parameters: { \"silent\" } might not be used.\n",
      "\n",
      "  This could be a false alarm, with some parameters getting used by language bindings but\n",
      "  then being mistakenly passed down to XGBoost core, or some parameter actually being used\n",
      "  but getting flagged wrongly here. Please open an issue if you find any such cases.\n",
      "\n",
      "\n"
     ]
    },
    {
     "name": "stderr",
     "output_type": "stream",
     "text": [
      "\u001b[32m[I 2022-04-04 04:03:57,999]\u001b[0m Trial 71 finished with value: 0.2920648941157918 and parameters: {'booster': 'dart', 'reg_lambda': 0.1920918366560576, 'reg_alpha': 0.002134158569176906, 'n_estimators': 77, 'learning_rste': 0.055649068272167236, 'max_depth': 4}. Best is trial 39 with value: 0.29045981010189154.\u001b[0m\n"
     ]
    },
    {
     "name": "stdout",
     "output_type": "stream",
     "text": [
      "[04:03:58] WARNING: C:/Users/Administrator/workspace/xgboost-win64_release_1.5.1/src/objective/regression_obj.cu:188: reg:linear is now deprecated in favor of reg:squarederror.\n",
      "[04:03:58] WARNING: C:/Users/Administrator/workspace/xgboost-win64_release_1.5.1/src/learner.cc:576: \n",
      "Parameters: { \"silent\" } might not be used.\n",
      "\n",
      "  This could be a false alarm, with some parameters getting used by language bindings but\n",
      "  then being mistakenly passed down to XGBoost core, or some parameter actually being used\n",
      "  but getting flagged wrongly here. Please open an issue if you find any such cases.\n",
      "\n",
      "\n"
     ]
    },
    {
     "name": "stderr",
     "output_type": "stream",
     "text": [
      "\u001b[32m[I 2022-04-04 04:03:58,842]\u001b[0m Trial 72 finished with value: 0.2914262315610912 and parameters: {'booster': 'dart', 'reg_lambda': 0.2336518434241209, 'reg_alpha': 0.002231189365573257, 'n_estimators': 76, 'learning_rste': 0.05442384561924451, 'max_depth': 4}. Best is trial 39 with value: 0.29045981010189154.\u001b[0m\n"
     ]
    },
    {
     "name": "stdout",
     "output_type": "stream",
     "text": [
      "[04:03:59] WARNING: C:/Users/Administrator/workspace/xgboost-win64_release_1.5.1/src/objective/regression_obj.cu:188: reg:linear is now deprecated in favor of reg:squarederror.\n",
      "[04:03:59] WARNING: C:/Users/Administrator/workspace/xgboost-win64_release_1.5.1/src/learner.cc:576: \n",
      "Parameters: { \"silent\" } might not be used.\n",
      "\n",
      "  This could be a false alarm, with some parameters getting used by language bindings but\n",
      "  then being mistakenly passed down to XGBoost core, or some parameter actually being used\n",
      "  but getting flagged wrongly here. Please open an issue if you find any such cases.\n",
      "\n",
      "\n"
     ]
    },
    {
     "name": "stderr",
     "output_type": "stream",
     "text": [
      "\u001b[32m[I 2022-04-04 04:04:00,240]\u001b[0m Trial 73 finished with value: 0.295872046777315 and parameters: {'booster': 'dart', 'reg_lambda': 0.20269163808698307, 'reg_alpha': 0.0025259855327298096, 'n_estimators': 77, 'learning_rste': 0.038319561312685886, 'max_depth': 4}. Best is trial 39 with value: 0.29045981010189154.\u001b[0m\n"
     ]
    },
    {
     "name": "stdout",
     "output_type": "stream",
     "text": [
      "[04:04:00] WARNING: C:/Users/Administrator/workspace/xgboost-win64_release_1.5.1/src/objective/regression_obj.cu:188: reg:linear is now deprecated in favor of reg:squarederror.\n",
      "[04:04:00] WARNING: C:/Users/Administrator/workspace/xgboost-win64_release_1.5.1/src/learner.cc:576: \n",
      "Parameters: { \"silent\" } might not be used.\n",
      "\n",
      "  This could be a false alarm, with some parameters getting used by language bindings but\n",
      "  then being mistakenly passed down to XGBoost core, or some parameter actually being used\n",
      "  but getting flagged wrongly here. Please open an issue if you find any such cases.\n",
      "\n",
      "\n"
     ]
    },
    {
     "name": "stderr",
     "output_type": "stream",
     "text": [
      "\u001b[32m[I 2022-04-04 04:04:00,624]\u001b[0m Trial 74 finished with value: 0.32901229310101787 and parameters: {'booster': 'dart', 'reg_lambda': 0.11167585670253699, 'reg_alpha': 0.0032987398454980567, 'n_estimators': 68, 'learning_rste': 0.029765901882377217, 'max_depth': 4}. Best is trial 39 with value: 0.29045981010189154.\u001b[0m\n"
     ]
    },
    {
     "name": "stdout",
     "output_type": "stream",
     "text": [
      "[04:04:00] WARNING: C:/Users/Administrator/workspace/xgboost-win64_release_1.5.1/src/objective/regression_obj.cu:188: reg:linear is now deprecated in favor of reg:squarederror.\n",
      "[04:04:00] WARNING: C:/Users/Administrator/workspace/xgboost-win64_release_1.5.1/src/learner.cc:576: \n",
      "Parameters: { \"silent\" } might not be used.\n",
      "\n",
      "  This could be a false alarm, with some parameters getting used by language bindings but\n",
      "  then being mistakenly passed down to XGBoost core, or some parameter actually being used\n",
      "  but getting flagged wrongly here. Please open an issue if you find any such cases.\n",
      "\n",
      "\n"
     ]
    },
    {
     "name": "stderr",
     "output_type": "stream",
     "text": [
      "\u001b[32m[I 2022-04-04 04:04:01,016]\u001b[0m Trial 75 finished with value: 0.29138077809349844 and parameters: {'booster': 'dart', 'reg_lambda': 0.4806459264045042, 'reg_alpha': 0.005332090680760781, 'n_estimators': 71, 'learning_rste': 0.05505947629282634, 'max_depth': 4}. Best is trial 39 with value: 0.29045981010189154.\u001b[0m\n"
     ]
    },
    {
     "name": "stdout",
     "output_type": "stream",
     "text": [
      "[04:04:01] WARNING: C:/Users/Administrator/workspace/xgboost-win64_release_1.5.1/src/objective/regression_obj.cu:188: reg:linear is now deprecated in favor of reg:squarederror.\n",
      "[04:04:01] WARNING: C:/Users/Administrator/workspace/xgboost-win64_release_1.5.1/src/learner.cc:576: \n",
      "Parameters: { \"silent\" } might not be used.\n",
      "\n",
      "  This could be a false alarm, with some parameters getting used by language bindings but\n",
      "  then being mistakenly passed down to XGBoost core, or some parameter actually being used\n",
      "  but getting flagged wrongly here. Please open an issue if you find any such cases.\n",
      "\n",
      "\n"
     ]
    },
    {
     "name": "stderr",
     "output_type": "stream",
     "text": [
      "\u001b[32m[I 2022-04-04 04:04:01,331]\u001b[0m Trial 76 finished with value: 0.2977948346110201 and parameters: {'booster': 'dart', 'reg_lambda': 0.5748885591041134, 'reg_alpha': 0.006113330892852011, 'n_estimators': 61, 'learning_rste': 0.04932533903947585, 'max_depth': 4}. Best is trial 39 with value: 0.29045981010189154.\u001b[0m\n"
     ]
    },
    {
     "name": "stdout",
     "output_type": "stream",
     "text": [
      "[04:04:01] WARNING: C:/Users/Administrator/workspace/xgboost-win64_release_1.5.1/src/objective/regression_obj.cu:188: reg:linear is now deprecated in favor of reg:squarederror.\n",
      "[04:04:01] WARNING: C:/Users/Administrator/workspace/xgboost-win64_release_1.5.1/src/learner.cc:576: \n",
      "Parameters: { \"silent\" } might not be used.\n",
      "\n",
      "  This could be a false alarm, with some parameters getting used by language bindings but\n",
      "  then being mistakenly passed down to XGBoost core, or some parameter actually being used\n",
      "  but getting flagged wrongly here. Please open an issue if you find any such cases.\n",
      "\n",
      "\n"
     ]
    },
    {
     "name": "stderr",
     "output_type": "stream",
     "text": [
      "\u001b[32m[I 2022-04-04 04:04:01,732]\u001b[0m Trial 77 finished with value: 0.29197921714203906 and parameters: {'booster': 'dart', 'reg_lambda': 0.30719188467356306, 'reg_alpha': 0.0028306784966968886, 'n_estimators': 71, 'learning_rste': 0.05629062418564499, 'max_depth': 4}. Best is trial 39 with value: 0.29045981010189154.\u001b[0m\n"
     ]
    },
    {
     "name": "stdout",
     "output_type": "stream",
     "text": [
      "[04:04:01] WARNING: C:/Users/Administrator/workspace/xgboost-win64_release_1.5.1/src/objective/regression_obj.cu:188: reg:linear is now deprecated in favor of reg:squarederror.\n",
      "[04:04:01] WARNING: C:/Users/Administrator/workspace/xgboost-win64_release_1.5.1/src/learner.cc:576: \n",
      "Parameters: { \"silent\" } might not be used.\n",
      "\n",
      "  This could be a false alarm, with some parameters getting used by language bindings but\n",
      "  then being mistakenly passed down to XGBoost core, or some parameter actually being used\n",
      "  but getting flagged wrongly here. Please open an issue if you find any such cases.\n",
      "\n",
      "\n"
     ]
    },
    {
     "name": "stderr",
     "output_type": "stream",
     "text": [
      "\u001b[32m[I 2022-04-04 04:04:02,125]\u001b[0m Trial 78 finished with value: 0.29110506622884136 and parameters: {'booster': 'dart', 'reg_lambda': 0.3142721583199121, 'reg_alpha': 0.0030243379752242262, 'n_estimators': 72, 'learning_rste': 0.054491191470967676, 'max_depth': 4}. Best is trial 39 with value: 0.29045981010189154.\u001b[0m\n"
     ]
    },
    {
     "name": "stdout",
     "output_type": "stream",
     "text": [
      "[04:04:02] WARNING: C:/Users/Administrator/workspace/xgboost-win64_release_1.5.1/src/objective/regression_obj.cu:188: reg:linear is now deprecated in favor of reg:squarederror.\n",
      "[04:04:02] WARNING: C:/Users/Administrator/workspace/xgboost-win64_release_1.5.1/src/learner.cc:576: \n",
      "Parameters: { \"silent\" } might not be used.\n",
      "\n",
      "  This could be a false alarm, with some parameters getting used by language bindings but\n",
      "  then being mistakenly passed down to XGBoost core, or some parameter actually being used\n",
      "  but getting flagged wrongly here. Please open an issue if you find any such cases.\n",
      "\n",
      "\n"
     ]
    },
    {
     "name": "stderr",
     "output_type": "stream",
     "text": [
      "\u001b[32m[I 2022-04-04 04:04:03,647]\u001b[0m Trial 79 finished with value: 0.3927710905969911 and parameters: {'booster': 'dart', 'reg_lambda': 0.34950041816669924, 'reg_alpha': 0.009196013207411246, 'n_estimators': 63, 'learning_rste': 0.02301469783319494, 'max_depth': 4}. Best is trial 39 with value: 0.29045981010189154.\u001b[0m\n"
     ]
    },
    {
     "name": "stdout",
     "output_type": "stream",
     "text": [
      "[04:04:03] WARNING: C:/Users/Administrator/workspace/xgboost-win64_release_1.5.1/src/objective/regression_obj.cu:188: reg:linear is now deprecated in favor of reg:squarederror.\n",
      "[04:04:03] WARNING: C:/Users/Administrator/workspace/xgboost-win64_release_1.5.1/src/learner.cc:576: \n",
      "Parameters: { \"silent\" } might not be used.\n",
      "\n",
      "  This could be a false alarm, with some parameters getting used by language bindings but\n",
      "  then being mistakenly passed down to XGBoost core, or some parameter actually being used\n",
      "  but getting flagged wrongly here. Please open an issue if you find any such cases.\n",
      "\n",
      "\n"
     ]
    },
    {
     "name": "stderr",
     "output_type": "stream",
     "text": [
      "\u001b[32m[I 2022-04-04 04:04:04,301]\u001b[0m Trial 80 finished with value: 0.2936249630558113 and parameters: {'booster': 'dart', 'reg_lambda': 0.47141341421240973, 'reg_alpha': 0.004856444600630954, 'n_estimators': 67, 'learning_rste': 0.05067337473889921, 'max_depth': 4}. Best is trial 39 with value: 0.29045981010189154.\u001b[0m\n"
     ]
    },
    {
     "name": "stdout",
     "output_type": "stream",
     "text": [
      "[04:04:04] WARNING: C:/Users/Administrator/workspace/xgboost-win64_release_1.5.1/src/objective/regression_obj.cu:188: reg:linear is now deprecated in favor of reg:squarederror.\n",
      "[04:04:04] WARNING: C:/Users/Administrator/workspace/xgboost-win64_release_1.5.1/src/learner.cc:576: \n",
      "Parameters: { \"silent\" } might not be used.\n",
      "\n",
      "  This could be a false alarm, with some parameters getting used by language bindings but\n",
      "  then being mistakenly passed down to XGBoost core, or some parameter actually being used\n",
      "  but getting flagged wrongly here. Please open an issue if you find any such cases.\n",
      "\n",
      "\n"
     ]
    },
    {
     "name": "stderr",
     "output_type": "stream",
     "text": [
      "\u001b[32m[I 2022-04-04 04:04:04,652]\u001b[0m Trial 81 finished with value: 0.29241027489837174 and parameters: {'booster': 'dart', 'reg_lambda': 0.45264965536816704, 'reg_alpha': 0.004907333460196582, 'n_estimators': 72, 'learning_rste': 0.053000464085259276, 'max_depth': 4}. Best is trial 39 with value: 0.29045981010189154.\u001b[0m\n"
     ]
    },
    {
     "name": "stdout",
     "output_type": "stream",
     "text": [
      "[04:04:04] WARNING: C:/Users/Administrator/workspace/xgboost-win64_release_1.5.1/src/objective/regression_obj.cu:188: reg:linear is now deprecated in favor of reg:squarederror.\n",
      "[04:04:04] WARNING: C:/Users/Administrator/workspace/xgboost-win64_release_1.5.1/src/learner.cc:576: \n",
      "Parameters: { \"silent\" } might not be used.\n",
      "\n",
      "  This could be a false alarm, with some parameters getting used by language bindings but\n",
      "  then being mistakenly passed down to XGBoost core, or some parameter actually being used\n",
      "  but getting flagged wrongly here. Please open an issue if you find any such cases.\n",
      "\n",
      "\n"
     ]
    },
    {
     "name": "stderr",
     "output_type": "stream",
     "text": [
      "\u001b[32m[I 2022-04-04 04:04:05,110]\u001b[0m Trial 82 finished with value: 0.2957119004790673 and parameters: {'booster': 'dart', 'reg_lambda': 0.27130596325722667, 'reg_alpha': 0.0013041906984107906, 'n_estimators': 71, 'learning_rste': 0.043633252083027756, 'max_depth': 4}. Best is trial 39 with value: 0.29045981010189154.\u001b[0m\n"
     ]
    },
    {
     "name": "stdout",
     "output_type": "stream",
     "text": [
      "[04:04:05] WARNING: C:/Users/Administrator/workspace/xgboost-win64_release_1.5.1/src/objective/regression_obj.cu:188: reg:linear is now deprecated in favor of reg:squarederror.\n",
      "[04:04:05] WARNING: C:/Users/Administrator/workspace/xgboost-win64_release_1.5.1/src/learner.cc:576: \n",
      "Parameters: { \"silent\" } might not be used.\n",
      "\n",
      "  This could be a false alarm, with some parameters getting used by language bindings but\n",
      "  then being mistakenly passed down to XGBoost core, or some parameter actually being used\n",
      "  but getting flagged wrongly here. Please open an issue if you find any such cases.\n",
      "\n",
      "\n"
     ]
    },
    {
     "name": "stderr",
     "output_type": "stream",
     "text": [
      "\u001b[32m[I 2022-04-04 04:04:05,638]\u001b[0m Trial 83 finished with value: 0.3228079697070885 and parameters: {'booster': 'dart', 'reg_lambda': 0.42498383080640706, 'reg_alpha': 0.0016852817279556936, 'n_estimators': 74, 'learning_rste': 0.02922667464544874, 'max_depth': 4}. Best is trial 39 with value: 0.29045981010189154.\u001b[0m\n"
     ]
    },
    {
     "name": "stdout",
     "output_type": "stream",
     "text": [
      "[04:04:05] WARNING: C:/Users/Administrator/workspace/xgboost-win64_release_1.5.1/src/objective/regression_obj.cu:188: reg:linear is now deprecated in favor of reg:squarederror.\n",
      "[04:04:05] WARNING: C:/Users/Administrator/workspace/xgboost-win64_release_1.5.1/src/learner.cc:576: \n",
      "Parameters: { \"silent\" } might not be used.\n",
      "\n",
      "  This could be a false alarm, with some parameters getting used by language bindings but\n",
      "  then being mistakenly passed down to XGBoost core, or some parameter actually being used\n",
      "  but getting flagged wrongly here. Please open an issue if you find any such cases.\n",
      "\n",
      "\n"
     ]
    },
    {
     "name": "stderr",
     "output_type": "stream",
     "text": [
      "\u001b[32m[I 2022-04-04 04:04:05,928]\u001b[0m Trial 84 finished with value: 0.29147612468173945 and parameters: {'booster': 'dart', 'reg_lambda': 0.8834728493398685, 'reg_alpha': 0.0030746212638797735, 'n_estimators': 56, 'learning_rste': 0.06679510093653479, 'max_depth': 4}. Best is trial 39 with value: 0.29045981010189154.\u001b[0m\n"
     ]
    },
    {
     "name": "stdout",
     "output_type": "stream",
     "text": [
      "[04:04:06] WARNING: C:/Users/Administrator/workspace/xgboost-win64_release_1.5.1/src/objective/regression_obj.cu:188: reg:linear is now deprecated in favor of reg:squarederror.\n",
      "[04:04:06] WARNING: C:/Users/Administrator/workspace/xgboost-win64_release_1.5.1/src/learner.cc:576: \n",
      "Parameters: { \"silent\" } might not be used.\n",
      "\n",
      "  This could be a false alarm, with some parameters getting used by language bindings but\n",
      "  then being mistakenly passed down to XGBoost core, or some parameter actually being used\n",
      "  but getting flagged wrongly here. Please open an issue if you find any such cases.\n",
      "\n",
      "\n"
     ]
    },
    {
     "name": "stderr",
     "output_type": "stream",
     "text": [
      "\u001b[32m[I 2022-04-04 04:04:06,286]\u001b[0m Trial 85 finished with value: 0.29332626227707564 and parameters: {'booster': 'dart', 'reg_lambda': 0.8736638052618129, 'reg_alpha': 0.001960726853013715, 'n_estimators': 55, 'learning_rste': 0.06565276558125654, 'max_depth': 4}. Best is trial 39 with value: 0.29045981010189154.\u001b[0m\n"
     ]
    },
    {
     "name": "stdout",
     "output_type": "stream",
     "text": [
      "[04:04:06] WARNING: C:/Users/Administrator/workspace/xgboost-win64_release_1.5.1/src/objective/regression_obj.cu:188: reg:linear is now deprecated in favor of reg:squarederror.\n",
      "[04:04:06] WARNING: C:/Users/Administrator/workspace/xgboost-win64_release_1.5.1/src/learner.cc:576: \n",
      "Parameters: { \"silent\" } might not be used.\n",
      "\n",
      "  This could be a false alarm, with some parameters getting used by language bindings but\n",
      "  then being mistakenly passed down to XGBoost core, or some parameter actually being used\n",
      "  but getting flagged wrongly here. Please open an issue if you find any such cases.\n",
      "\n",
      "\n"
     ]
    },
    {
     "name": "stderr",
     "output_type": "stream",
     "text": [
      "\u001b[32m[I 2022-04-04 04:04:07,119]\u001b[0m Trial 86 finished with value: 0.33500804005336954 and parameters: {'booster': 'dart', 'reg_lambda': 0.6431684158269408, 'reg_alpha': 0.003212991107239227, 'n_estimators': 50, 'learning_rste': 0.039848716023708354, 'max_depth': 4}. Best is trial 39 with value: 0.29045981010189154.\u001b[0m\n"
     ]
    },
    {
     "name": "stdout",
     "output_type": "stream",
     "text": [
      "[04:04:07] WARNING: C:/Users/Administrator/workspace/xgboost-win64_release_1.5.1/src/objective/regression_obj.cu:188: reg:linear is now deprecated in favor of reg:squarederror.\n",
      "[04:04:07] WARNING: C:/Users/Administrator/workspace/xgboost-win64_release_1.5.1/src/learner.cc:576: \n",
      "Parameters: { \"silent\" } might not be used.\n",
      "\n",
      "  This could be a false alarm, with some parameters getting used by language bindings but\n",
      "  then being mistakenly passed down to XGBoost core, or some parameter actually being used\n",
      "  but getting flagged wrongly here. Please open an issue if you find any such cases.\n",
      "\n",
      "\n"
     ]
    },
    {
     "name": "stderr",
     "output_type": "stream",
     "text": [
      "\u001b[32m[I 2022-04-04 04:04:07,985]\u001b[0m Trial 87 finished with value: 0.2917744299520307 and parameters: {'booster': 'dart', 'reg_lambda': 0.5759726145016308, 'reg_alpha': 0.012560784127356391, 'n_estimators': 63, 'learning_rste': 0.07154464136958835, 'max_depth': 4}. Best is trial 39 with value: 0.29045981010189154.\u001b[0m\n"
     ]
    },
    {
     "name": "stdout",
     "output_type": "stream",
     "text": [
      "[04:04:08] WARNING: C:/Users/Administrator/workspace/xgboost-win64_release_1.5.1/src/objective/regression_obj.cu:188: reg:linear is now deprecated in favor of reg:squarederror.\n",
      "[04:04:08] WARNING: C:/Users/Administrator/workspace/xgboost-win64_release_1.5.1/src/learner.cc:576: \n",
      "Parameters: { \"silent\" } might not be used.\n",
      "\n",
      "  This could be a false alarm, with some parameters getting used by language bindings but\n",
      "  then being mistakenly passed down to XGBoost core, or some parameter actually being used\n",
      "  but getting flagged wrongly here. Please open an issue if you find any such cases.\n",
      "\n",
      "\n"
     ]
    },
    {
     "name": "stderr",
     "output_type": "stream",
     "text": [
      "\u001b[32m[I 2022-04-04 04:04:08,273]\u001b[0m Trial 88 finished with value: 0.29064481186538155 and parameters: {'booster': 'dart', 'reg_lambda': 0.8267366186478909, 'reg_alpha': 0.0143515580498466, 'n_estimators': 56, 'learning_rste': 0.0739299385860508, 'max_depth': 4}. Best is trial 39 with value: 0.29045981010189154.\u001b[0m\n"
     ]
    },
    {
     "name": "stdout",
     "output_type": "stream",
     "text": [
      "[04:04:08] WARNING: C:/Users/Administrator/workspace/xgboost-win64_release_1.5.1/src/objective/regression_obj.cu:188: reg:linear is now deprecated in favor of reg:squarederror.\n",
      "[04:04:08] WARNING: C:/Users/Administrator/workspace/xgboost-win64_release_1.5.1/src/learner.cc:576: \n",
      "Parameters: { \"silent\" } might not be used.\n",
      "\n",
      "  This could be a false alarm, with some parameters getting used by language bindings but\n",
      "  then being mistakenly passed down to XGBoost core, or some parameter actually being used\n",
      "  but getting flagged wrongly here. Please open an issue if you find any such cases.\n",
      "\n",
      "\n"
     ]
    },
    {
     "name": "stderr",
     "output_type": "stream",
     "text": [
      "\u001b[32m[I 2022-04-04 04:04:08,542]\u001b[0m Trial 89 finished with value: 0.2913344537803997 and parameters: {'booster': 'dart', 'reg_lambda': 0.8353916161825052, 'reg_alpha': 0.01720442623351006, 'n_estimators': 56, 'learning_rste': 0.07348440319862665, 'max_depth': 4}. Best is trial 39 with value: 0.29045981010189154.\u001b[0m\n"
     ]
    },
    {
     "name": "stdout",
     "output_type": "stream",
     "text": [
      "[04:04:08] WARNING: C:/Users/Administrator/workspace/xgboost-win64_release_1.5.1/src/objective/regression_obj.cu:188: reg:linear is now deprecated in favor of reg:squarederror.\n",
      "[04:04:08] WARNING: C:/Users/Administrator/workspace/xgboost-win64_release_1.5.1/src/learner.cc:576: \n",
      "Parameters: { \"silent\" } might not be used.\n",
      "\n",
      "  This could be a false alarm, with some parameters getting used by language bindings but\n",
      "  then being mistakenly passed down to XGBoost core, or some parameter actually being used\n",
      "  but getting flagged wrongly here. Please open an issue if you find any such cases.\n",
      "\n",
      "\n"
     ]
    },
    {
     "name": "stderr",
     "output_type": "stream",
     "text": [
      "\u001b[32m[I 2022-04-04 04:04:08,835]\u001b[0m Trial 90 finished with value: 0.29190068474098785 and parameters: {'booster': 'dart', 'reg_lambda': 0.8201063760013729, 'reg_alpha': 0.011523145256749431, 'n_estimators': 56, 'learning_rste': 0.07427795590297546, 'max_depth': 4}. Best is trial 39 with value: 0.29045981010189154.\u001b[0m\n"
     ]
    },
    {
     "name": "stdout",
     "output_type": "stream",
     "text": [
      "[04:04:08] WARNING: C:/Users/Administrator/workspace/xgboost-win64_release_1.5.1/src/objective/regression_obj.cu:188: reg:linear is now deprecated in favor of reg:squarederror.\n",
      "[04:04:08] WARNING: C:/Users/Administrator/workspace/xgboost-win64_release_1.5.1/src/learner.cc:576: \n",
      "Parameters: { \"silent\" } might not be used.\n",
      "\n",
      "  This could be a false alarm, with some parameters getting used by language bindings but\n",
      "  then being mistakenly passed down to XGBoost core, or some parameter actually being used\n",
      "  but getting flagged wrongly here. Please open an issue if you find any such cases.\n",
      "\n",
      "\n"
     ]
    },
    {
     "name": "stderr",
     "output_type": "stream",
     "text": [
      "\u001b[32m[I 2022-04-04 04:04:09,123]\u001b[0m Trial 91 finished with value: 0.2911391780008074 and parameters: {'booster': 'dart', 'reg_lambda': 0.8193847535630464, 'reg_alpha': 0.010699933179532264, 'n_estimators': 56, 'learning_rste': 0.08399492448236552, 'max_depth': 4}. Best is trial 39 with value: 0.29045981010189154.\u001b[0m\n"
     ]
    },
    {
     "name": "stdout",
     "output_type": "stream",
     "text": [
      "[04:04:09] WARNING: C:/Users/Administrator/workspace/xgboost-win64_release_1.5.1/src/objective/regression_obj.cu:188: reg:linear is now deprecated in favor of reg:squarederror.\n",
      "[04:04:09] WARNING: C:/Users/Administrator/workspace/xgboost-win64_release_1.5.1/src/learner.cc:576: \n",
      "Parameters: { \"silent\" } might not be used.\n",
      "\n",
      "  This could be a false alarm, with some parameters getting used by language bindings but\n",
      "  then being mistakenly passed down to XGBoost core, or some parameter actually being used\n",
      "  but getting flagged wrongly here. Please open an issue if you find any such cases.\n",
      "\n",
      "\n"
     ]
    },
    {
     "name": "stderr",
     "output_type": "stream",
     "text": [
      "\u001b[32m[I 2022-04-04 04:04:09,405]\u001b[0m Trial 92 finished with value: 0.29033400378966506 and parameters: {'booster': 'dart', 'reg_lambda': 0.7740530794510697, 'reg_alpha': 0.014379359327345178, 'n_estimators': 55, 'learning_rste': 0.08392144558095047, 'max_depth': 4}. Best is trial 92 with value: 0.29033400378966506.\u001b[0m\n",
      "\u001b[32m[I 2022-04-04 04:04:09,650]\u001b[0m Trial 93 finished with value: 0.290409593805331 and parameters: {'booster': 'dart', 'reg_lambda': 0.5763910356393874, 'reg_alpha': 0.014693103256726518, 'n_estimators': 47, 'learning_rste': 0.0906982587508769, 'max_depth': 4}. Best is trial 92 with value: 0.29033400378966506.\u001b[0m\n"
     ]
    },
    {
     "name": "stdout",
     "output_type": "stream",
     "text": [
      "[04:04:09] WARNING: C:/Users/Administrator/workspace/xgboost-win64_release_1.5.1/src/objective/regression_obj.cu:188: reg:linear is now deprecated in favor of reg:squarederror.\n",
      "[04:04:09] WARNING: C:/Users/Administrator/workspace/xgboost-win64_release_1.5.1/src/learner.cc:576: \n",
      "Parameters: { \"silent\" } might not be used.\n",
      "\n",
      "  This could be a false alarm, with some parameters getting used by language bindings but\n",
      "  then being mistakenly passed down to XGBoost core, or some parameter actually being used\n",
      "  but getting flagged wrongly here. Please open an issue if you find any such cases.\n",
      "\n",
      "\n"
     ]
    },
    {
     "name": "stderr",
     "output_type": "stream",
     "text": [
      "\u001b[32m[I 2022-04-04 04:04:09,892]\u001b[0m Trial 94 finished with value: 0.2908939736821976 and parameters: {'booster': 'dart', 'reg_lambda': 0.9866168670448429, 'reg_alpha': 0.025726774802881144, 'n_estimators': 45, 'learning_rste': 0.08845585932305655, 'max_depth': 4}. Best is trial 92 with value: 0.29033400378966506.\u001b[0m\n"
     ]
    },
    {
     "name": "stdout",
     "output_type": "stream",
     "text": [
      "[04:04:09] WARNING: C:/Users/Administrator/workspace/xgboost-win64_release_1.5.1/src/objective/regression_obj.cu:188: reg:linear is now deprecated in favor of reg:squarederror.\n",
      "[04:04:09] WARNING: C:/Users/Administrator/workspace/xgboost-win64_release_1.5.1/src/learner.cc:576: \n",
      "Parameters: { \"silent\" } might not be used.\n",
      "\n",
      "  This could be a false alarm, with some parameters getting used by language bindings but\n",
      "  then being mistakenly passed down to XGBoost core, or some parameter actually being used\n",
      "  but getting flagged wrongly here. Please open an issue if you find any such cases.\n",
      "\n",
      "\n"
     ]
    },
    {
     "name": "stderr",
     "output_type": "stream",
     "text": [
      "\u001b[32m[I 2022-04-04 04:04:10,137]\u001b[0m Trial 95 finished with value: 0.2924756805311049 and parameters: {'booster': 'dart', 'reg_lambda': 0.5499712771145792, 'reg_alpha': 0.03300307793866319, 'n_estimators': 46, 'learning_rste': 0.09993228093072827, 'max_depth': 4}. Best is trial 92 with value: 0.29033400378966506.\u001b[0m\n"
     ]
    },
    {
     "name": "stdout",
     "output_type": "stream",
     "text": [
      "[04:04:09] WARNING: C:/Users/Administrator/workspace/xgboost-win64_release_1.5.1/src/objective/regression_obj.cu:188: reg:linear is now deprecated in favor of reg:squarederror.\n",
      "[04:04:09] WARNING: C:/Users/Administrator/workspace/xgboost-win64_release_1.5.1/src/learner.cc:576: \n",
      "Parameters: { \"silent\" } might not be used.\n",
      "\n",
      "  This could be a false alarm, with some parameters getting used by language bindings but\n",
      "  then being mistakenly passed down to XGBoost core, or some parameter actually being used\n",
      "  but getting flagged wrongly here. Please open an issue if you find any such cases.\n",
      "\n",
      "\n",
      "[04:04:10] WARNING: C:/Users/Administrator/workspace/xgboost-win64_release_1.5.1/src/objective/regression_obj.cu:188: reg:linear is now deprecated in favor of reg:squarederror.\n",
      "[04:04:10] WARNING: C:/Users/Administrator/workspace/xgboost-win64_release_1.5.1/src/learner.cc:576: \n",
      "Parameters: { \"silent\" } might not be used.\n",
      "\n",
      "  This could be a false alarm, with some parameters getting used by language bindings but\n",
      "  then being mistakenly passed down to XGBoost core, or some parameter actually being used\n",
      "  but getting flagged wrongly here. Please open an issue if you find any such cases.\n",
      "\n",
      "\n"
     ]
    },
    {
     "name": "stderr",
     "output_type": "stream",
     "text": [
      "\u001b[32m[I 2022-04-04 04:04:10,709]\u001b[0m Trial 96 finished with value: 0.29503275592671324 and parameters: {'booster': 'dart', 'reg_lambda': 0.7748313194450863, 'reg_alpha': 0.02123256012477444, 'n_estimators': 37, 'learning_rste': 0.0854184868629626, 'max_depth': 4}. Best is trial 92 with value: 0.29033400378966506.\u001b[0m\n"
     ]
    },
    {
     "name": "stdout",
     "output_type": "stream",
     "text": [
      "[04:04:10] WARNING: C:/Users/Administrator/workspace/xgboost-win64_release_1.5.1/src/objective/regression_obj.cu:188: reg:linear is now deprecated in favor of reg:squarederror.\n",
      "[04:04:10] WARNING: C:/Users/Administrator/workspace/xgboost-win64_release_1.5.1/src/learner.cc:576: \n",
      "Parameters: { \"silent\" } might not be used.\n",
      "\n",
      "  This could be a false alarm, with some parameters getting used by language bindings but\n",
      "  then being mistakenly passed down to XGBoost core, or some parameter actually being used\n",
      "  but getting flagged wrongly here. Please open an issue if you find any such cases.\n",
      "\n",
      "\n"
     ]
    },
    {
     "name": "stderr",
     "output_type": "stream",
     "text": [
      "\u001b[32m[I 2022-04-04 04:04:11,840]\u001b[0m Trial 97 finished with value: 0.2882940832357896 and parameters: {'booster': 'dart', 'reg_lambda': 0.39483208482642085, 'reg_alpha': 0.016197368592298905, 'n_estimators': 53, 'learning_rste': 0.08128272780131121, 'max_depth': 4}. Best is trial 97 with value: 0.2882940832357896.\u001b[0m\n",
      "\u001b[32m[I 2022-04-04 04:04:12,174]\u001b[0m Trial 98 finished with value: 0.2913438383229614 and parameters: {'booster': 'dart', 'reg_lambda': 0.38531642403302707, 'reg_alpha': 0.015931063777006725, 'n_estimators': 47, 'learning_rste': 0.08345779776732971, 'max_depth': 4}. Best is trial 97 with value: 0.2882940832357896.\u001b[0m\n"
     ]
    },
    {
     "name": "stdout",
     "output_type": "stream",
     "text": [
      "[04:04:12] WARNING: C:/Users/Administrator/workspace/xgboost-win64_release_1.5.1/src/objective/regression_obj.cu:188: reg:linear is now deprecated in favor of reg:squarederror.\n",
      "[04:04:12] WARNING: C:/Users/Administrator/workspace/xgboost-win64_release_1.5.1/src/learner.cc:576: \n",
      "Parameters: { \"silent\" } might not be used.\n",
      "\n",
      "  This could be a false alarm, with some parameters getting used by language bindings but\n",
      "  then being mistakenly passed down to XGBoost core, or some parameter actually being used\n",
      "  but getting flagged wrongly here. Please open an issue if you find any such cases.\n",
      "\n",
      "\n"
     ]
    },
    {
     "name": "stderr",
     "output_type": "stream",
     "text": [
      "\u001b[32m[I 2022-04-04 04:04:12,311]\u001b[0m Trial 99 finished with value: 0.8264444669865278 and parameters: {'booster': 'gblinear', 'reg_lambda': 0.9757800538962283, 'reg_alpha': 0.051419552512145174, 'n_estimators': 53, 'learning_rste': 0.09190387481453728, 'max_depth': 4}. Best is trial 97 with value: 0.2882940832357896.\u001b[0m\n"
     ]
    },
    {
     "name": "stdout",
     "output_type": "stream",
     "text": [
      "[04:04:12] WARNING: C:/Users/Administrator/workspace/xgboost-win64_release_1.5.1/src/objective/regression_obj.cu:188: reg:linear is now deprecated in favor of reg:squarederror.\n",
      "[04:04:12] WARNING: C:/Users/Administrator/workspace/xgboost-win64_release_1.5.1/src/learner.cc:576: \n",
      "Parameters: { \"max_depth\", \"silent\" } might not be used.\n",
      "\n",
      "  This could be a false alarm, with some parameters getting used by language bindings but\n",
      "  then being mistakenly passed down to XGBoost core, or some parameter actually being used\n",
      "  but getting flagged wrongly here. Please open an issue if you find any such cases.\n",
      "\n",
      "\n"
     ]
    }
   ],
   "source": [
    "import math\n",
    "SEED = 42\n",
    "np.random.seed(SEED)\n",
    "xgb_study = optuna.create_study(direction='minimize',sampler=optuna.samplers.TPESampler(seed=SEED),pruner=optuna.pruners.SuccessiveHalvingPruner())\n",
    "xgb_study.optimize(xgb_objective, n_trials=100)"
   ]
  },
  {
   "cell_type": "code",
   "execution_count": 100,
   "id": "6a60d3c0",
   "metadata": {},
   "outputs": [],
   "source": [
    "from typing import Callable\n",
    "from typing import Optional\n",
    "\n",
    "import numpy as np\n",
    "\n",
    "from optuna._experimental import experimental\n",
    "from optuna.logging import get_logger\n",
    "from optuna.study import Study\n",
    "from optuna.study import StudyDirection\n",
    "from optuna.trial import FrozenTrial\n",
    "from optuna.trial import TrialState\n",
    "from optuna.visualization._utils import _check_plot_args\n",
    "from optuna.visualization.matplotlib._matplotlib_imports import _imports\n",
    "if _imports.is_successful():\n",
    "    from optuna.visualization.matplotlib._matplotlib_imports import Axes\n",
    "    from optuna.visualization.matplotlib._matplotlib_imports import plt\n",
    "\n",
    "_logger = get_logger(__name__)"
   ]
  },
  {
   "cell_type": "markdown",
   "id": "2f1f2fc5",
   "metadata": {},
   "source": [
    "User defined function to visualize the optimization History"
   ]
  },
  {
   "cell_type": "code",
   "execution_count": 101,
   "id": "2a012238",
   "metadata": {},
   "outputs": [],
   "source": [
    "def optimization_history(\n",
    "    study: Study,\n",
    "    *,\n",
    "    target: Optional[Callable[[FrozenTrial], float]] = None,\n",
    "    target_name: str = \"Objective Value\",\n",
    ") -> \"Axes\":\n",
    "    \"\"\"Plot optimization history of all trials in a study with Matplotlib.\n",
    "    .. seealso::\n",
    "        Please refer to :func:`optuna.visualization.plot_optimization_history` for an example.\n",
    "    Example:\n",
    "        The following code snippet shows how to plot optimization history.\n",
    "        .. plot::\n",
    "            import optuna\n",
    "            def objective(trial):\n",
    "                x = trial.suggest_float(\"x\", -100, 100)\n",
    "                y = trial.suggest_categorical(\"y\", [-1, 0, 1])\n",
    "                return x ** 2 + y\n",
    "            sampler = optuna.samplers.TPESampler(seed=10)\n",
    "            study = optuna.create_study(sampler=sampler)\n",
    "            study.optimize(objective, n_trials=10)\n",
    "            optuna.visualization.matplotlib.plot_optimization_history(study)\n",
    "    Args:\n",
    "        study:\n",
    "            A :class:`~optuna.study.Study` object whose trials are plotted for their target values.\n",
    "        target:\n",
    "            A function to specify the value to display. If it is :obj:`None` and ``study`` is being\n",
    "            used for single-objective optimization, the objective values are plotted.\n",
    "            .. note::\n",
    "                Specify this argument if ``study`` is being used for multi-objective optimization.\n",
    "        target_name:\n",
    "            Target's name to display on the axis label and the legend.\n",
    "    Returns:\n",
    "        A :class:`matplotlib.axes.Axes` object.\n",
    "    Raises:\n",
    "        :exc:`ValueError`:\n",
    "            If ``target`` is :obj:`None` and ``study`` is being used for multi-objective\n",
    "            optimization.\n",
    "    \"\"\"\n",
    "\n",
    "    _imports.check()\n",
    "    _check_plot_args(study, target, target_name)\n",
    "    get_optimization_history_plot(study, target, target_name)\n",
    "    return 0\n",
    "def get_optimization_history_plot(\n",
    "    study: Study,\n",
    "    target: Optional[Callable[[FrozenTrial], float]],\n",
    "    target_name: str,\n",
    ") -> \"Axes\":\n",
    "\n",
    "    # Set up the graph style.\n",
    "    fig = plt.figure()\n",
    "    plt.title(\"Optimization History Plot\")\n",
    "    plt.xlabel(\"#Trials\")\n",
    "    plt.ylabel(target_name)\n",
    "    \n",
    "    # Prepare data for plotting.\n",
    "    trials = [t for t in study.trials if t.state == TrialState.COMPLETE]\n",
    "\n",
    "    if len(trials) == 0:\n",
    "        _logger.warning(\"Study instance does not contain trials.\")\n",
    "        return 0\n",
    "\n",
    "    # Draw a scatter plot and a line plot.\n",
    "    if target is None:\n",
    "        if study.direction == StudyDirection.MINIMIZE:\n",
    "            best_values = np.minimum.accumulate([t.value for t in trials])\n",
    "        else:\n",
    "            best_values = np.maximum.accumulate([t.value for t in trials])\n",
    "        plt.scatter(\n",
    "            x=[t.number for t in trials],\n",
    "            y=[t.value for t in trials],\n",
    "            color='blue',\n",
    "            alpha=1,\n",
    "            label=target_name,\n",
    "        )\n",
    "        plt.plot(\n",
    "            [t.number for t in trials],\n",
    "            best_values,\n",
    "            marker=\"o\",\n",
    "            color='red',\n",
    "            alpha=0.5,\n",
    "            label=\"Best Value\",\n",
    "        )\n",
    "\n",
    "        plt.legend()\n",
    "    else:\n",
    "        plt.scatter(\n",
    "            x=[t.number for t in trials],\n",
    "            y=[target(t) for t in trials],\n",
    "            color='red',\n",
    "            alpha=1,\n",
    "            label=target_name,\n",
    "        )\n",
    "    plt.savefig('pd_opt_his.png',dpi = 1200,bbox_inches='tight')\n",
    "    plt.show()"
   ]
  },
  {
   "cell_type": "code",
   "execution_count": 102,
   "id": "46441584",
   "metadata": {},
   "outputs": [
    {
     "data": {
      "image/png": "[encoded data removed]",
      "text/plain": [
       "<Figure size 432x288 with 1 Axes>"
      ]
     },
     "metadata": {
      "needs_background": "light"
     },
     "output_type": "display_data"
    },
    {
     "data": {
      "text/plain": [
       "0"
      ]
     },
     "execution_count": 102,
     "metadata": {},
     "output_type": "execute_result"
    }
   ],
   "source": [
    "optimization_history(xgb_study)"
   ]
  },
  {
   "cell_type": "code",
   "execution_count": 103,
   "id": "ab2421e3",
   "metadata": {},
   "outputs": [
    {
     "data": {
      "text/plain": [
       "{'booster': 'dart',\n",
       " 'reg_lambda': 0.39483208482642085,\n",
       " 'reg_alpha': 0.016197368592298905,\n",
       " 'n_estimators': 53,\n",
       " 'learning_rste': 0.08128272780131121,\n",
       " 'max_depth': 4}"
      ]
     },
     "execution_count": 103,
     "metadata": {},
     "output_type": "execute_result"
    }
   ],
   "source": [
    "#Best parameters in XGB Algorithm\n",
    "xgb_study.best_params"
   ]
  },
  {
   "cell_type": "code",
   "execution_count": 104,
   "id": "25b66af9",
   "metadata": {},
   "outputs": [],
   "source": [
    "bst_params = {'booster': 'dart',\n",
    " 'learning_rste': 0.08431999435293178,\n",
    " 'max_depth': 3,\n",
    " 'n_estimators': 96,\n",
    " 'reg_alpha': 0.18831483356463694,\n",
    " 'reg_lambda': 0.008820235477570784}"
   ]
  },
  {
   "cell_type": "code",
   "execution_count": 105,
   "id": "ae71b4ac",
   "metadata": {},
   "outputs": [
    {
     "name": "stdout",
     "output_type": "stream",
     "text": [
      "[04:04:16] WARNING: C:/Users/Administrator/workspace/xgboost-win64_release_1.5.1/src/learner.cc:576: \n",
      "Parameters: { \"learning_rste\" } might not be used.\n",
      "\n",
      "  This could be a false alarm, with some parameters getting used by language bindings but\n",
      "  then being mistakenly passed down to XGBoost core, or some parameter actually being used\n",
      "  but getting flagged wrongly here. Please open an issue if you find any such cases.\n",
      "\n",
      "\n"
     ]
    },
    {
     "data": {
      "text/plain": [
       "XGBRegressor(base_score=0.5, booster='dart', colsample_bylevel=1,\n",
       "             colsample_bynode=1, colsample_bytree=1, enable_categorical=False,\n",
       "             gamma=0, gpu_id=-1, importance_type=None,\n",
       "             interaction_constraints='', learning_rate=0.300000012,\n",
       "             learning_rste=0.08431999435293178, max_delta_step=0, max_depth=3,\n",
       "             min_child_weight=1, missing=nan, monotone_constraints='()',\n",
       "             n_estimators=96, n_jobs=4, num_parallel_tree=1, predictor='auto',\n",
       "             random_state=0, reg_alpha=0.18831483356463694,\n",
       "             reg_lambda=0.008820235477570784, scale_pos_weight=1, subsample=1,\n",
       "             tree_method='exact', validate_parameters=1, verbosity=None)"
      ]
     },
     "execution_count": 105,
     "metadata": {},
     "output_type": "execute_result"
    }
   ],
   "source": [
    "final_model = xgb.XGBRegressor(**bst_params)\n",
    "final_model.fit(x_train,y_train)"
   ]
  },
  {
   "cell_type": "code",
   "execution_count": 106,
   "id": "14633260",
   "metadata": {},
   "outputs": [
    {
     "name": "stdout",
     "output_type": "stream",
     "text": [
      "0.9017736021788606\n",
      "0.22399826907804388\n",
      "0.3138496507228906\n"
     ]
    }
   ],
   "source": [
    "print(r2_score(y_test,final_model.predict(x_test)))\n",
    "print(mean_absolute_error(y_test,final_model.predict(x_test)))\n",
    "print(math.sqrt(mean_squared_error(y_test,final_model.predict(x_test))))"
   ]
  },
  {
   "cell_type": "code",
   "execution_count": 107,
   "id": "42e31a47",
   "metadata": {},
   "outputs": [
    {
     "name": "stdout",
     "output_type": "stream",
     "text": [
      "0.9844311961941978\n"
     ]
    }
   ],
   "source": [
    "print(r2_score(y_train,final_model.predict(x_train)))"
   ]
  },
  {
   "cell_type": "code",
   "execution_count": 108,
   "id": "21621387",
   "metadata": {},
   "outputs": [],
   "source": [
    "y_pred_final_xgb = final_model.predict(df_final[['Date']])"
   ]
  },
  {
   "cell_type": "code",
   "execution_count": 109,
   "id": "b0229621",
   "metadata": {},
   "outputs": [],
   "source": [
    "y_pred_final_xgb_list = list(y_pred_final_xgb)"
   ]
  },
  {
   "cell_type": "code",
   "execution_count": 110,
   "id": "dc254982",
   "metadata": {},
   "outputs": [],
   "source": [
    "df_final['Pred'] = y_pred_final_xgb_list"
   ]
  },
  {
   "cell_type": "markdown",
   "id": "1b8b9a9b",
   "metadata": {},
   "source": [
    "Actual vs Predicted plots using optimized Hyperparameters in XGB Algorithm"
   ]
  },
  {
   "cell_type": "code",
   "execution_count": 111,
   "id": "1461be54",
   "metadata": {},
   "outputs": [
    {
     "name": "stderr",
     "output_type": "stream",
     "text": [
      "No artists with labels found to put in legend.  Note that artists whose label start with an underscore are ignored when legend() is called with no argument.\n"
     ]
    },
    {
     "data": {
      "text/plain": [
       "Text(0.5, 1.0, 'Actual vs Predicted covid cases')"
      ]
     },
     "execution_count": 111,
     "metadata": {},
     "output_type": "execute_result"
    },
    {
     "data": {
      "image/png": "[encoded data removed]",
      "text/plain": [
       "<Figure size 432x288 with 1 Axes>"
      ]
     },
     "metadata": {
      "needs_background": "light"
     },
     "output_type": "display_data"
    }
   ],
   "source": [
    "sns.regplot(y_test,final_model.predict(x_test))\n",
    "plt.legend()\n",
    "plt.xlabel('Actual')\n",
    "plt.ylabel('Predicted')\n",
    "plt.title('Actual vs Predicted covid cases')"
   ]
  },
  {
   "cell_type": "code",
   "execution_count": 112,
   "id": "2257901f",
   "metadata": {},
   "outputs": [
    {
     "data": {
      "text/plain": [
       "[0.526147960363551,\n",
       " 0.8887227567980412,\n",
       " 0.8883583957022162,\n",
       " 0.9202072999605172,\n",
       " 0.9087500876781229,\n",
       " 0.896814463169587]"
      ]
     },
     "execution_count": 112,
     "metadata": {},
     "output_type": "execute_result"
    }
   ],
   "source": [
    "R2_scores"
   ]
  },
  {
   "cell_type": "code",
   "execution_count": 113,
   "id": "b6dc78ab",
   "metadata": {},
   "outputs": [
    {
     "data": {
      "text/plain": [
       "[0.47517965279223306,\n",
       " 0.11158901379627267,\n",
       " 0.11195439573941675,\n",
       " 0.0800162589343421,\n",
       " 0.09150557141781689,\n",
       " 0.10347463651707423]"
      ]
     },
     "execution_count": 113,
     "metadata": {},
     "output_type": "execute_result"
    }
   ],
   "source": [
    "mse"
   ]
  },
  {
   "cell_type": "code",
   "execution_count": 114,
   "id": "b5b39384",
   "metadata": {},
   "outputs": [
    {
     "data": {
      "text/plain": [
       "[0.5407320834999719,\n",
       " 0.2518293773409412,\n",
       " 0.22773523646302632,\n",
       " 0.20488063276260915,\n",
       " 0.2182907325136611,\n",
       " 0.23813580542207957]"
      ]
     },
     "execution_count": 114,
     "metadata": {},
     "output_type": "execute_result"
    }
   ],
   "source": [
    "mae"
   ]
  },
  {
   "cell_type": "code",
   "execution_count": 115,
   "id": "69b947a3",
   "metadata": {},
   "outputs": [],
   "source": [
    "metrics = pd.DataFrame({'Algorithms' : ['LR','SVR','XGB','RF','KNN','DT'],\n",
    "    'R2_Scores' : R2_scores,\n",
    "                        'mse' :mse,\n",
    "                        'mae': mae})"
   ]
  },
  {
   "cell_type": "code",
   "execution_count": 116,
   "id": "a3a5752c",
   "metadata": {},
   "outputs": [],
   "source": [
    "metrics1 = metrics.sort_values(by = 'R2_Scores', ascending = False)"
   ]
  },
  {
   "cell_type": "code",
   "execution_count": 117,
   "id": "039b1514",
   "metadata": {},
   "outputs": [
    {
     "data": {
      "text/plain": [
       "<matplotlib.legend.Legend at 0x269b2c8ef40>"
      ]
     },
     "execution_count": 117,
     "metadata": {},
     "output_type": "execute_result"
    },
    {
     "data": {
      "image/png": "[encoded data removed]",
      "text/plain": [
       "<Figure size 720x720 with 1 Axes>"
      ]
     },
     "metadata": {
      "needs_background": "light"
     },
     "output_type": "display_data"
    }
   ],
   "source": [
    "plt.figure(figsize=(10,10))\n",
    "sns.lineplot(data = metrics1, x = 'Algorithms', y = 'R2_Scores',color = 'r', label = 'R2 Scores')\n",
    "sns.lineplot(data = metrics1, x = 'Algorithms', y = 'mse',color = 'b', label = 'Mean Squared Error')\n",
    "sns.lineplot(data = metrics1, x = 'Algorithms', y = 'mae',color = 'g', label = 'Mean Absolute Error')\n",
    "plt.legend()"
   ]
  },
  {
   "cell_type": "code",
   "execution_count": null,
   "id": "8cf85aba",
   "metadata": {},
   "outputs": [],
   "source": []
  }
 ],
 "metadata": {
  "kernelspec": {
   "display_name": "Python 3 (ipykernel)",
   "language": "python",
   "name": "python3"
  },
  "language_info": {
   "codemirror_mode": {
    "name": "ipython",
    "version": 3
   },
   "file_extension": ".py",
   "mimetype": "text/x-python",
   "name": "python",
   "nbconvert_exporter": "python",
   "pygments_lexer": "ipython3",
   "version": "3.9.6"
  }
 },
 "nbformat": 4,
 "nbformat_minor": 5
}
