{
 "cells": [
  {
   "cell_type": "code",
   "execution_count": 34,
   "id": "6b747df9",
   "metadata": {},
   "outputs": [
    {
     "name": "stdout",
     "output_type": "stream",
     "text": [
      "2.8.0\n",
      "2.8.0\n"
     ]
    }
   ],
   "source": [
    "import keras\n",
    "import tensorflow as tf\n",
    "print(tf.__version__)\n",
    "print(keras.__version__)"
   ]
  },
  {
   "cell_type": "code",
   "execution_count": 84,
   "id": "f6c68d13",
   "metadata": {},
   "outputs": [],
   "source": [
    "#check version of tensorflow\n",
    "import random as rn\n",
    "\n",
    "import numpy as np\n",
    "import pandas as pd\n",
    "import os\n",
    "import glob\n",
    "import datetime"
   ]
  },
  {
   "cell_type": "code",
   "execution_count": 85,
   "id": "d10d8397",
   "metadata": {},
   "outputs": [],
   "source": [
    "df = pd.read_excel('Golbal_combined3.xlsx')"
   ]
  },
  {
   "cell_type": "code",
   "execution_count": 86,
   "id": "5f322376",
   "metadata": {},
   "outputs": [
    {
     "data": {
      "text/html": [
       "<div>\n",
       "<style scoped>\n",
       "    .dataframe tbody tr th:only-of-type {\n",
       "        vertical-align: middle;\n",
       "    }\n",
       "\n",
       "    .dataframe tbody tr th {\n",
       "        vertical-align: top;\n",
       "    }\n",
       "\n",
       "    .dataframe thead th {\n",
       "        text-align: right;\n",
       "    }\n",
       "</style>\n",
       "<table border=\"1\" class=\"dataframe\">\n",
       "  <thead>\n",
       "    <tr style=\"text-align: right;\">\n",
       "      <th></th>\n",
       "      <th>Date</th>\n",
       "      <th>Confirmed_cumulative</th>\n",
       "      <th>Confirmed</th>\n",
       "      <th>Confirmed_cumulative.1</th>\n",
       "      <th>Deaths</th>\n",
       "      <th>Recovered</th>\n",
       "    </tr>\n",
       "  </thead>\n",
       "  <tbody>\n",
       "    <tr>\n",
       "      <th>0</th>\n",
       "      <td>43913</td>\n",
       "      <td>382799</td>\n",
       "      <td>38000</td>\n",
       "      <td>382799</td>\n",
       "      <td>16886</td>\n",
       "      <td>98355</td>\n",
       "    </tr>\n",
       "    <tr>\n",
       "      <th>1</th>\n",
       "      <td>43914</td>\n",
       "      <td>424883</td>\n",
       "      <td>42084</td>\n",
       "      <td>424883</td>\n",
       "      <td>19201</td>\n",
       "      <td>107974</td>\n",
       "    </tr>\n",
       "    <tr>\n",
       "      <th>2</th>\n",
       "      <td>43915</td>\n",
       "      <td>475998</td>\n",
       "      <td>51115</td>\n",
       "      <td>475998</td>\n",
       "      <td>22022</td>\n",
       "      <td>113753</td>\n",
       "    </tr>\n",
       "    <tr>\n",
       "      <th>3</th>\n",
       "      <td>43916</td>\n",
       "      <td>537412</td>\n",
       "      <td>61414</td>\n",
       "      <td>537412</td>\n",
       "      <td>25058</td>\n",
       "      <td>122125</td>\n",
       "    </tr>\n",
       "    <tr>\n",
       "      <th>4</th>\n",
       "      <td>43917</td>\n",
       "      <td>601349</td>\n",
       "      <td>63937</td>\n",
       "      <td>601349</td>\n",
       "      <td>28538</td>\n",
       "      <td>130910</td>\n",
       "    </tr>\n",
       "  </tbody>\n",
       "</table>\n",
       "</div>"
      ],
      "text/plain": [
       "    Date  Confirmed_cumulative  Confirmed  Confirmed_cumulative.1  Deaths  \\\n",
       "0  43913                382799      38000                  382799   16886   \n",
       "1  43914                424883      42084                  424883   19201   \n",
       "2  43915                475998      51115                  475998   22022   \n",
       "3  43916                537412      61414                  537412   25058   \n",
       "4  43917                601349      63937                  601349   28538   \n",
       "\n",
       "   Recovered  \n",
       "0      98355  \n",
       "1     107974  \n",
       "2     113753  \n",
       "3     122125  \n",
       "4     130910  "
      ]
     },
     "execution_count": 86,
     "metadata": {},
     "output_type": "execute_result"
    }
   ],
   "source": [
    "df.head()"
   ]
  },
  {
   "cell_type": "code",
   "execution_count": 87,
   "id": "a16921d1",
   "metadata": {},
   "outputs": [],
   "source": [
    "import matplotlib.pyplot as plt\n",
    "import statsmodels.tsa.stattools\n",
    "from statsmodels.tsa.stattools import adfuller\n",
    "import statsmodels.tsa.x13\n",
    "from statsmodels.tsa.x13 import x13_arima_select_order, _find_x12\n",
    "from statsmodels.graphics.tsaplots import plot_acf\n",
    "from statsmodels.tsa.stattools import adfuller\n",
    "from statsmodels.tsa.stattools import acf, pacf\n",
    "import statsmodels.graphics.tsaplots as tsaplots"
   ]
  },
  {
   "cell_type": "code",
   "execution_count": 88,
   "id": "2bb09ba0",
   "metadata": {},
   "outputs": [
    {
     "data": {
      "image/png": "[encoded data removed]",
      "text/plain": [
       "<Figure size 432x288 with 1 Axes>"
      ]
     },
     "metadata": {
      "needs_background": "light"
     },
     "output_type": "display_data"
    },
    {
     "name": "stdout",
     "output_type": "stream",
     "text": [
      "Results of Dickey-Fuller Test:\n",
      "Test Statistic                  -1.947927\n",
      "p-value                          0.309861\n",
      "# Lags Used                     15.000000\n",
      "Number of Observations Used    484.000000\n",
      "Critical Value (1%)             -3.443933\n",
      "Critical Value (5%)             -2.867530\n",
      "Critical Value (10%)            -2.569961\n",
      "dtype: float64\n"
     ]
    }
   ],
   "source": [
    "def test_stationarity(df, ts):\n",
    "\n",
    "    # Determing rolling statistics\n",
    "    rolmean = df[ts].rolling(window = 15, center = False).mean()\n",
    "    rolstd = df[ts].rolling(window = 15, center = False).std()\n",
    "\n",
    "    # Plot rolling statistics:\n",
    "    orig = plt.plot(df[ts], color = 'blue',label = 'Original')\n",
    "    mean = plt.plot(rolmean, color = 'red',label = 'Rolling Mean')\n",
    "    std = plt.plot(rolstd, color = 'black', label = 'Rolling Std')\n",
    "    plt.legend(loc = 'best')\n",
    "    plt.title('Rolling Mean & Standard Deviation for %s' %(ts))\n",
    "    plt.xticks(rotation = 45)\n",
    "    plt.show(block = False)\n",
    "    plt.close()\n",
    "\n",
    "    # Perform Dickey-Fuller test:\n",
    "    # Null Hypothesis (H_0): time series is not stationary\n",
    "    # Alternate Hypothesis (H_1): time series is stationary\n",
    "    print ('Results of Dickey-Fuller Test:')\n",
    "    dftest = statsmodels.tsa.stattools.adfuller(df[ts], autolag='AIC') #add kpss\n",
    "    \n",
    "    dfoutput = pd.Series(dftest[0:4], index = ['Test Statistic','p-value', '# Lags Used','Number of Observations Used'])\n",
    "    for key, value in dftest[4].items():\n",
    "        dfoutput['Critical Value (%s)'%key] = value\n",
    "    print (dfoutput)\n",
    "    \n",
    "#Applying the function to our Y variable: National Stock Exchange: Index: Nifty 500\n",
    "test_stationarity(df, 'Confirmed')"
   ]
  },
  {
   "cell_type": "code",
   "execution_count": 89,
   "id": "38e053f2",
   "metadata": {},
   "outputs": [],
   "source": [
    "#Defining a function to calculate percentage change\n",
    "def percentChange(x,numLags):\n",
    "    '''\n",
    "    INPUTS:\n",
    "    x: Column for which we want to calculate percent change\n",
    "    numLags: The number of days from when the change needs to be calculated. \n",
    "            Example : If using daily data - numLags = 1 for daily change\n",
    "                                            numLags = 30 for monthly change\n",
    "                                            numLags = 365 for yearly change       \n",
    "    OUTPUT:\n",
    "    percentage change in variable\n",
    "    '''\n",
    "    y = (x - x.shift(numLags))/x.shift(numLags)\n",
    "    return y\n",
    "\n",
    "dataForMl = pd.DataFrame()\n",
    "dataForMl['Date'] = df['Date']\n",
    "\n",
    "#here, I only have level variables so I do not need separate my variables into level vs non-level variables\n",
    "levelVars = df.columns[:-1]\n",
    "for levelVar in levelVars:\n",
    "    dataForMl[f'{levelVar}Ret'] = percentChange(df[levelVar],1)\n",
    "    \n",
    "dataForMl = dataForMl[1:] #ignoring the first row as it contains null values"
   ]
  },
  {
   "cell_type": "code",
   "execution_count": null,
   "id": "079db8f0",
   "metadata": {},
   "outputs": [],
   "source": []
  },
  {
   "cell_type": "code",
   "execution_count": 92,
   "id": "9dc1f5ae",
   "metadata": {},
   "outputs": [
    {
     "data": {
      "image/png": "[encoded data removed]",
      "text/plain": [
       "<Figure size 432x288 with 1 Axes>"
      ]
     },
     "metadata": {
      "needs_background": "light"
     },
     "output_type": "display_data"
    },
    {
     "name": "stdout",
     "output_type": "stream",
     "text": [
      "Results of Dickey-Fuller Test:\n",
      "Test Statistic                  -5.491913\n",
      "p-value                          0.000002\n",
      "# Lags Used                     14.000000\n",
      "Number of Observations Used    484.000000\n",
      "Critical Value (1%)             -3.443933\n",
      "Critical Value (5%)             -2.867530\n",
      "Critical Value (10%)            -2.569961\n",
      "dtype: float64\n"
     ]
    }
   ],
   "source": [
    "test_stationarity(dataForMl, 'ConfirmedRet')"
   ]
  },
  {
   "cell_type": "code",
   "execution_count": null,
   "id": "39345313",
   "metadata": {},
   "outputs": [],
   "source": []
  },
  {
   "cell_type": "code",
   "execution_count": null,
   "id": "6d8d019d",
   "metadata": {},
   "outputs": [],
   "source": []
  },
  {
   "cell_type": "code",
   "execution_count": null,
   "id": "14730fc6",
   "metadata": {},
   "outputs": [],
   "source": [
    "\n",
    "\n"
   ]
  },
  {
   "cell_type": "code",
   "execution_count": 93,
   "id": "530f7781",
   "metadata": {},
   "outputs": [],
   "source": [
    "# We can make the acf and pacf plots using the statsmodels library in Python\n",
    "from statsmodels.tsa.stattools import acf, pacf\n",
    "import statsmodels.graphics.tsaplots as tsaplots\n",
    "from statsmodels.graphics.tsaplots import plot_acf"
   ]
  },
  {
   "cell_type": "code",
   "execution_count": 94,
   "id": "e8393283",
   "metadata": {},
   "outputs": [
    {
     "name": "stderr",
     "output_type": "stream",
     "text": [
      "c:\\users\\sachin\\appdata\\local\\programs\\python\\python39\\lib\\site-packages\\statsmodels\\graphics\\tsaplots.py:348: FutureWarning: The default method 'yw' can produce PACF values outside of the [-1,1] interval. After 0.13, the default will change tounadjusted Yule-Walker ('ywm'). You can use this method now by setting method='ywm'.\n",
      "  warnings.warn(\n"
     ]
    },
    {
     "data": {
      "image/png": "[encoded data removed]",
      "text/plain": [
       "<Figure size 432x288 with 1 Axes>"
      ]
     },
     "execution_count": 94,
     "metadata": {},
     "output_type": "execute_result"
    },
    {
     "data": {
      "image/png": "[encoded data removed]",
      "text/plain": [
       "<Figure size 432x288 with 1 Axes>"
      ]
     },
     "metadata": {
      "needs_background": "light"
     },
     "output_type": "display_data"
    },
    {
     "data": {
      "image/png": "[encoded data removed]",
      "text/plain": [
       "<Figure size 432x288 with 1 Axes>"
      ]
     },
     "metadata": {
      "needs_background": "light"
     },
     "output_type": "display_data"
    }
   ],
   "source": [
    "tsaplots.plot_acf(dataForMl['Date'].astype(float),lags =25)\n",
    "tsaplots.plot_pacf(dataForMl['Date'].astype(float),lags =25)"
   ]
  },
  {
   "cell_type": "code",
   "execution_count": 95,
   "id": "a3cef208",
   "metadata": {},
   "outputs": [
    {
     "data": {
      "text/html": [
       "<div>\n",
       "<style scoped>\n",
       "    .dataframe tbody tr th:only-of-type {\n",
       "        vertical-align: middle;\n",
       "    }\n",
       "\n",
       "    .dataframe tbody tr th {\n",
       "        vertical-align: top;\n",
       "    }\n",
       "\n",
       "    .dataframe thead th {\n",
       "        text-align: right;\n",
       "    }\n",
       "</style>\n",
       "<table border=\"1\" class=\"dataframe\">\n",
       "  <thead>\n",
       "    <tr style=\"text-align: right;\">\n",
       "      <th></th>\n",
       "      <th>Date</th>\n",
       "      <th>DateRet</th>\n",
       "      <th>Confirmed_cumulativeRet</th>\n",
       "      <th>ConfirmedRet</th>\n",
       "      <th>Confirmed_cumulative.1Ret</th>\n",
       "      <th>DeathsRet</th>\n",
       "      <th>DateLag_1</th>\n",
       "      <th>DateLag_2</th>\n",
       "      <th>DateLag_3</th>\n",
       "      <th>DateLag_4</th>\n",
       "      <th>...</th>\n",
       "      <th>DeathsRetLag_1</th>\n",
       "      <th>DeathsRetLag_2</th>\n",
       "      <th>DeathsRetLag_3</th>\n",
       "      <th>DeathsRetLag_4</th>\n",
       "      <th>DeathsRetLag_5</th>\n",
       "      <th>DeathsRetLag_6</th>\n",
       "      <th>DeathsRetLag_7</th>\n",
       "      <th>DeathsRetLag_8</th>\n",
       "      <th>DeathsRetLag_9</th>\n",
       "      <th>DeathsRetLag_10</th>\n",
       "    </tr>\n",
       "  </thead>\n",
       "  <tbody>\n",
       "    <tr>\n",
       "      <th>1</th>\n",
       "      <td>43914</td>\n",
       "      <td>0.000023</td>\n",
       "      <td>0.109938</td>\n",
       "      <td>0.107474</td>\n",
       "      <td>0.109938</td>\n",
       "      <td>0.137096</td>\n",
       "      <td>NaN</td>\n",
       "      <td>NaN</td>\n",
       "      <td>NaN</td>\n",
       "      <td>NaN</td>\n",
       "      <td>...</td>\n",
       "      <td>NaN</td>\n",
       "      <td>NaN</td>\n",
       "      <td>NaN</td>\n",
       "      <td>NaN</td>\n",
       "      <td>NaN</td>\n",
       "      <td>NaN</td>\n",
       "      <td>NaN</td>\n",
       "      <td>NaN</td>\n",
       "      <td>NaN</td>\n",
       "      <td>NaN</td>\n",
       "    </tr>\n",
       "    <tr>\n",
       "      <th>2</th>\n",
       "      <td>43915</td>\n",
       "      <td>0.000023</td>\n",
       "      <td>0.120304</td>\n",
       "      <td>0.214595</td>\n",
       "      <td>0.120304</td>\n",
       "      <td>0.146919</td>\n",
       "      <td>43914.0</td>\n",
       "      <td>NaN</td>\n",
       "      <td>NaN</td>\n",
       "      <td>NaN</td>\n",
       "      <td>...</td>\n",
       "      <td>0.137096</td>\n",
       "      <td>NaN</td>\n",
       "      <td>NaN</td>\n",
       "      <td>NaN</td>\n",
       "      <td>NaN</td>\n",
       "      <td>NaN</td>\n",
       "      <td>NaN</td>\n",
       "      <td>NaN</td>\n",
       "      <td>NaN</td>\n",
       "      <td>NaN</td>\n",
       "    </tr>\n",
       "    <tr>\n",
       "      <th>3</th>\n",
       "      <td>43916</td>\n",
       "      <td>0.000023</td>\n",
       "      <td>0.129022</td>\n",
       "      <td>0.201487</td>\n",
       "      <td>0.129022</td>\n",
       "      <td>0.137862</td>\n",
       "      <td>43915.0</td>\n",
       "      <td>43914.0</td>\n",
       "      <td>NaN</td>\n",
       "      <td>NaN</td>\n",
       "      <td>...</td>\n",
       "      <td>0.146919</td>\n",
       "      <td>0.137096</td>\n",
       "      <td>NaN</td>\n",
       "      <td>NaN</td>\n",
       "      <td>NaN</td>\n",
       "      <td>NaN</td>\n",
       "      <td>NaN</td>\n",
       "      <td>NaN</td>\n",
       "      <td>NaN</td>\n",
       "      <td>NaN</td>\n",
       "    </tr>\n",
       "    <tr>\n",
       "      <th>4</th>\n",
       "      <td>43917</td>\n",
       "      <td>0.000023</td>\n",
       "      <td>0.118972</td>\n",
       "      <td>0.041082</td>\n",
       "      <td>0.118972</td>\n",
       "      <td>0.138878</td>\n",
       "      <td>43916.0</td>\n",
       "      <td>43915.0</td>\n",
       "      <td>43914.0</td>\n",
       "      <td>NaN</td>\n",
       "      <td>...</td>\n",
       "      <td>0.137862</td>\n",
       "      <td>0.146919</td>\n",
       "      <td>0.137096</td>\n",
       "      <td>NaN</td>\n",
       "      <td>NaN</td>\n",
       "      <td>NaN</td>\n",
       "      <td>NaN</td>\n",
       "      <td>NaN</td>\n",
       "      <td>NaN</td>\n",
       "      <td>NaN</td>\n",
       "    </tr>\n",
       "    <tr>\n",
       "      <th>5</th>\n",
       "      <td>43918</td>\n",
       "      <td>0.000023</td>\n",
       "      <td>0.114985</td>\n",
       "      <td>0.081471</td>\n",
       "      <td>0.114985</td>\n",
       "      <td>0.134417</td>\n",
       "      <td>43917.0</td>\n",
       "      <td>43916.0</td>\n",
       "      <td>43915.0</td>\n",
       "      <td>43914.0</td>\n",
       "      <td>...</td>\n",
       "      <td>0.138878</td>\n",
       "      <td>0.137862</td>\n",
       "      <td>0.146919</td>\n",
       "      <td>0.137096</td>\n",
       "      <td>NaN</td>\n",
       "      <td>NaN</td>\n",
       "      <td>NaN</td>\n",
       "      <td>NaN</td>\n",
       "      <td>NaN</td>\n",
       "      <td>NaN</td>\n",
       "    </tr>\n",
       "  </tbody>\n",
       "</table>\n",
       "<p>5 rows × 66 columns</p>\n",
       "</div>"
      ],
      "text/plain": [
       "    Date   DateRet  Confirmed_cumulativeRet  ConfirmedRet  \\\n",
       "1  43914  0.000023                 0.109938      0.107474   \n",
       "2  43915  0.000023                 0.120304      0.214595   \n",
       "3  43916  0.000023                 0.129022      0.201487   \n",
       "4  43917  0.000023                 0.118972      0.041082   \n",
       "5  43918  0.000023                 0.114985      0.081471   \n",
       "\n",
       "   Confirmed_cumulative.1Ret  DeathsRet  DateLag_1  DateLag_2  DateLag_3  \\\n",
       "1                   0.109938   0.137096        NaN        NaN        NaN   \n",
       "2                   0.120304   0.146919    43914.0        NaN        NaN   \n",
       "3                   0.129022   0.137862    43915.0    43914.0        NaN   \n",
       "4                   0.118972   0.138878    43916.0    43915.0    43914.0   \n",
       "5                   0.114985   0.134417    43917.0    43916.0    43915.0   \n",
       "\n",
       "   DateLag_4  ...  DeathsRetLag_1  DeathsRetLag_2  DeathsRetLag_3  \\\n",
       "1        NaN  ...             NaN             NaN             NaN   \n",
       "2        NaN  ...        0.137096             NaN             NaN   \n",
       "3        NaN  ...        0.146919        0.137096             NaN   \n",
       "4        NaN  ...        0.137862        0.146919        0.137096   \n",
       "5    43914.0  ...        0.138878        0.137862        0.146919   \n",
       "\n",
       "   DeathsRetLag_4  DeathsRetLag_5  DeathsRetLag_6  DeathsRetLag_7  \\\n",
       "1             NaN             NaN             NaN             NaN   \n",
       "2             NaN             NaN             NaN             NaN   \n",
       "3             NaN             NaN             NaN             NaN   \n",
       "4             NaN             NaN             NaN             NaN   \n",
       "5        0.137096             NaN             NaN             NaN   \n",
       "\n",
       "   DeathsRetLag_8  DeathsRetLag_9  DeathsRetLag_10  \n",
       "1             NaN             NaN              NaN  \n",
       "2             NaN             NaN              NaN  \n",
       "3             NaN             NaN              NaN  \n",
       "4             NaN             NaN              NaN  \n",
       "5             NaN             NaN              NaN  \n",
       "\n",
       "[5 rows x 66 columns]"
      ]
     },
     "execution_count": 95,
     "metadata": {},
     "output_type": "execute_result"
    }
   ],
   "source": [
    "# Since we're going to forecast the one day ahead Nifty stock returns, the minimum lag considered by me is 1\n",
    "minLagNum = 1\n",
    "\n",
    "#lagging the vars :here i'm iginoring the ACF and PACF lag structure and deciding the maximum number of lags heuristically\n",
    "maxLagNum = 10 #here I have chosen the maxLagNum arbitrarily. A better strategy is to look at the acf plot\n",
    "dataForMl = dataForMl.sort_values(['Date'])\n",
    "for column in dataForMl.columns:\n",
    "    for lag in range(minLagNum,maxLagNum+1):\n",
    "        dataForMl[f'{column}Lag_{lag}'] = dataForMl[f'{column}'].shift(lag)\n",
    "        \n",
    "\n",
    "dataForMl.head(5)"
   ]
  },
  {
   "cell_type": "markdown",
   "id": "eee13435",
   "metadata": {},
   "source": [
    "# Training, Validation and Testing"
   ]
  },
  {
   "cell_type": "code",
   "execution_count": 493,
   "id": "8d1675a4",
   "metadata": {},
   "outputs": [],
   "source": [
    "#breaking the data into train and test along time dim\n",
    "df = pd.read_excel('Golbal_combined1.xlsx')\n",
    "test_percent = 0.1\n",
    "no_test_obs =  int(np.round(test_percent*len(df)))\n",
    "training = df[:-no_test_obs]\n",
    "testing = df[-no_test_obs:]\n",
    "\n",
    "#breaking the testing data into validation and out of sample data\n",
    "validation_percent = 0.7\n",
    "no_validation_obs = int(np.round(validation_percent*len(testing)))\n",
    "validation = testing[:-no_validation_obs]\n",
    "outOfSample = testing[-no_validation_obs:]\n"
   ]
  },
  {
   "cell_type": "code",
   "execution_count": null,
   "id": "f097defe",
   "metadata": {},
   "outputs": [],
   "source": []
  },
  {
   "cell_type": "code",
   "execution_count": null,
   "id": "4c4bc141",
   "metadata": {},
   "outputs": [],
   "source": []
  },
  {
   "cell_type": "markdown",
   "id": "03dbb307",
   "metadata": {},
   "source": [
    "# Rescaling Normalized Data"
   ]
  },
  {
   "cell_type": "code",
   "execution_count": 495,
   "id": "cf9c947b",
   "metadata": {},
   "outputs": [],
   "source": [
    "from sklearn.preprocessing import MinMaxScaler\n",
    "\n",
    "min_max_scaler = MinMaxScaler(feature_range=(-1, 1))\n",
    "trainMinmax = min_max_scaler.fit_transform(training.values) #fit and transform training data\n",
    "valMinmax = min_max_scaler.transform(validation.values)\n",
    "outSampleMinmax = min_max_scaler.transform(outOfSample.values)"
   ]
  },
  {
   "cell_type": "code",
   "execution_count": 518,
   "id": "011a11e8",
   "metadata": {},
   "outputs": [],
   "source": [
    "#breaking the data into independent variables (x) and dependent variables (y)\n",
    "\n",
    "#training independent, dependent\n",
    "trainMinmax_x,trainMinmax_y = trainMinmax[:,:-1],trainMinmax[:,-1] \n",
    "\n",
    "#validation independent, dependent\n",
    "valMinmax_x,valMinmax_y = valMinmax[:,:-1],valMinmax[:,-1]\n",
    "\n",
    "#out of sample testing independent, dependent\n",
    "outSampleMinmax_x,outSampleMinmax_y = outSampleMinmax[:,:-1],outSampleMinmax[:,-1]"
   ]
  },
  {
   "cell_type": "code",
   "execution_count": 524,
   "id": "b4442df0",
   "metadata": {},
   "outputs": [],
   "source": [
    "act_y = pd.DataFrame(outOfSample)\n",
    "actual_y = act_y['Confirmed']"
   ]
  },
  {
   "cell_type": "code",
   "execution_count": 526,
   "id": "945c00c3",
   "metadata": {
    "scrolled": true
   },
   "outputs": [
    {
     "data": {
      "text/plain": [
       "dtype('float64')"
      ]
     },
     "execution_count": 526,
     "metadata": {},
     "output_type": "execute_result"
    }
   ],
   "source": [
    "pred_y = outSampleMinmax_y\n",
    "pred_y.dtype"
   ]
  },
  {
   "cell_type": "code",
   "execution_count": null,
   "id": "462b7e3c",
   "metadata": {},
   "outputs": [],
   "source": []
  },
  {
   "cell_type": "code",
   "execution_count": null,
   "id": "ed33bb52",
   "metadata": {},
   "outputs": [],
   "source": []
  },
  {
   "cell_type": "markdown",
   "id": "24402818",
   "metadata": {},
   "source": [
    "# Checking for accuracy"
   ]
  },
  {
   "cell_type": "code",
   "execution_count": 521,
   "id": "a3281fe4",
   "metadata": {},
   "outputs": [],
   "source": [
    "from sklearn.metrics import mean_squared_error"
   ]
  },
  {
   "cell_type": "code",
   "execution_count": null,
   "id": "e8ec66a8",
   "metadata": {},
   "outputs": [],
   "source": []
  },
  {
   "cell_type": "code",
   "execution_count": 522,
   "id": "917ec71c",
   "metadata": {},
   "outputs": [
    {
     "data": {
      "text/plain": [
       "array([-0.44555893, -0.5385592 , -0.60211137, -0.53563893, -0.43429602,\n",
       "       -0.41456158, -0.39149695, -0.34757227, -0.47343584, -0.54405698,\n",
       "       -0.45951589, -0.33098569, -0.3145609 , -0.26174654, -0.23496644,\n",
       "       -0.37955127, -0.47448878, -0.38542197, -0.3219123 , -0.29014992,\n",
       "       -0.27696484, -0.05372883, -0.45828335, -0.44027091, -0.31429629,\n",
       "       -0.22037333, -0.16088623, -0.17046005, -0.04769772, -0.34057322,\n",
       "       -0.38824763, -0.27422966, -0.18214386, -0.1193101 ,         nan])"
      ]
     },
     "execution_count": 522,
     "metadata": {},
     "output_type": "execute_result"
    }
   ],
   "source": [
    "outSampleMinmax_y"
   ]
  },
  {
   "cell_type": "code",
   "execution_count": 523,
   "id": "4d468a43",
   "metadata": {},
   "outputs": [
    {
     "ename": "ValueError",
     "evalue": "Input contains NaN, infinity or a value too large for dtype('float64').",
     "output_type": "error",
     "traceback": [
      "\u001b[1;31m---------------------------------------------------------------------------\u001b[0m",
      "\u001b[1;31mValueError\u001b[0m                                Traceback (most recent call last)",
      "\u001b[1;32m~\\AppData\\Local\\Temp/ipykernel_12444/3087377971.py\u001b[0m in \u001b[0;36m<module>\u001b[1;34m\u001b[0m\n\u001b[1;32m----> 1\u001b[1;33m \u001b[0mmean_squared_error\u001b[0m\u001b[1;33m(\u001b[0m\u001b[0mactual_y\u001b[0m\u001b[1;33m,\u001b[0m\u001b[0moutSampleMinmax_y\u001b[0m\u001b[1;33m)\u001b[0m\u001b[1;33m\u001b[0m\u001b[1;33m\u001b[0m\u001b[0m\n\u001b[0m",
      "\u001b[1;32mc:\\users\\sachin\\appdata\\local\\programs\\python\\python39\\lib\\site-packages\\sklearn\\metrics\\_regression.py\u001b[0m in \u001b[0;36mmean_squared_error\u001b[1;34m(y_true, y_pred, sample_weight, multioutput, squared)\u001b[0m\n\u001b[0;32m    436\u001b[0m     \u001b[1;36m0.825\u001b[0m\u001b[1;33m...\u001b[0m\u001b[1;33m\u001b[0m\u001b[1;33m\u001b[0m\u001b[0m\n\u001b[0;32m    437\u001b[0m     \"\"\"\n\u001b[1;32m--> 438\u001b[1;33m     y_type, y_true, y_pred, multioutput = _check_reg_targets(\n\u001b[0m\u001b[0;32m    439\u001b[0m         \u001b[0my_true\u001b[0m\u001b[1;33m,\u001b[0m \u001b[0my_pred\u001b[0m\u001b[1;33m,\u001b[0m \u001b[0mmultioutput\u001b[0m\u001b[1;33m\u001b[0m\u001b[1;33m\u001b[0m\u001b[0m\n\u001b[0;32m    440\u001b[0m     )\n",
      "\u001b[1;32mc:\\users\\sachin\\appdata\\local\\programs\\python\\python39\\lib\\site-packages\\sklearn\\metrics\\_regression.py\u001b[0m in \u001b[0;36m_check_reg_targets\u001b[1;34m(y_true, y_pred, multioutput, dtype)\u001b[0m\n\u001b[0;32m     93\u001b[0m     \"\"\"\n\u001b[0;32m     94\u001b[0m     \u001b[0mcheck_consistent_length\u001b[0m\u001b[1;33m(\u001b[0m\u001b[0my_true\u001b[0m\u001b[1;33m,\u001b[0m \u001b[0my_pred\u001b[0m\u001b[1;33m)\u001b[0m\u001b[1;33m\u001b[0m\u001b[1;33m\u001b[0m\u001b[0m\n\u001b[1;32m---> 95\u001b[1;33m     \u001b[0my_true\u001b[0m \u001b[1;33m=\u001b[0m \u001b[0mcheck_array\u001b[0m\u001b[1;33m(\u001b[0m\u001b[0my_true\u001b[0m\u001b[1;33m,\u001b[0m \u001b[0mensure_2d\u001b[0m\u001b[1;33m=\u001b[0m\u001b[1;32mFalse\u001b[0m\u001b[1;33m,\u001b[0m \u001b[0mdtype\u001b[0m\u001b[1;33m=\u001b[0m\u001b[0mdtype\u001b[0m\u001b[1;33m)\u001b[0m\u001b[1;33m\u001b[0m\u001b[1;33m\u001b[0m\u001b[0m\n\u001b[0m\u001b[0;32m     96\u001b[0m     \u001b[0my_pred\u001b[0m \u001b[1;33m=\u001b[0m \u001b[0mcheck_array\u001b[0m\u001b[1;33m(\u001b[0m\u001b[0my_pred\u001b[0m\u001b[1;33m,\u001b[0m \u001b[0mensure_2d\u001b[0m\u001b[1;33m=\u001b[0m\u001b[1;32mFalse\u001b[0m\u001b[1;33m,\u001b[0m \u001b[0mdtype\u001b[0m\u001b[1;33m=\u001b[0m\u001b[0mdtype\u001b[0m\u001b[1;33m)\u001b[0m\u001b[1;33m\u001b[0m\u001b[1;33m\u001b[0m\u001b[0m\n\u001b[0;32m     97\u001b[0m \u001b[1;33m\u001b[0m\u001b[0m\n",
      "\u001b[1;32mc:\\users\\sachin\\appdata\\local\\programs\\python\\python39\\lib\\site-packages\\sklearn\\utils\\validation.py\u001b[0m in \u001b[0;36mcheck_array\u001b[1;34m(array, accept_sparse, accept_large_sparse, dtype, order, copy, force_all_finite, ensure_2d, allow_nd, ensure_min_samples, ensure_min_features, estimator)\u001b[0m\n\u001b[0;32m    798\u001b[0m \u001b[1;33m\u001b[0m\u001b[0m\n\u001b[0;32m    799\u001b[0m         \u001b[1;32mif\u001b[0m \u001b[0mforce_all_finite\u001b[0m\u001b[1;33m:\u001b[0m\u001b[1;33m\u001b[0m\u001b[1;33m\u001b[0m\u001b[0m\n\u001b[1;32m--> 800\u001b[1;33m             \u001b[0m_assert_all_finite\u001b[0m\u001b[1;33m(\u001b[0m\u001b[0marray\u001b[0m\u001b[1;33m,\u001b[0m \u001b[0mallow_nan\u001b[0m\u001b[1;33m=\u001b[0m\u001b[0mforce_all_finite\u001b[0m \u001b[1;33m==\u001b[0m \u001b[1;34m\"allow-nan\"\u001b[0m\u001b[1;33m)\u001b[0m\u001b[1;33m\u001b[0m\u001b[1;33m\u001b[0m\u001b[0m\n\u001b[0m\u001b[0;32m    801\u001b[0m \u001b[1;33m\u001b[0m\u001b[0m\n\u001b[0;32m    802\u001b[0m     \u001b[1;32mif\u001b[0m \u001b[0mensure_min_samples\u001b[0m \u001b[1;33m>\u001b[0m \u001b[1;36m0\u001b[0m\u001b[1;33m:\u001b[0m\u001b[1;33m\u001b[0m\u001b[1;33m\u001b[0m\u001b[0m\n",
      "\u001b[1;32mc:\\users\\sachin\\appdata\\local\\programs\\python\\python39\\lib\\site-packages\\sklearn\\utils\\validation.py\u001b[0m in \u001b[0;36m_assert_all_finite\u001b[1;34m(X, allow_nan, msg_dtype)\u001b[0m\n\u001b[0;32m    112\u001b[0m         ):\n\u001b[0;32m    113\u001b[0m             \u001b[0mtype_err\u001b[0m \u001b[1;33m=\u001b[0m \u001b[1;34m\"infinity\"\u001b[0m \u001b[1;32mif\u001b[0m \u001b[0mallow_nan\u001b[0m \u001b[1;32melse\u001b[0m \u001b[1;34m\"NaN, infinity\"\u001b[0m\u001b[1;33m\u001b[0m\u001b[1;33m\u001b[0m\u001b[0m\n\u001b[1;32m--> 114\u001b[1;33m             raise ValueError(\n\u001b[0m\u001b[0;32m    115\u001b[0m                 msg_err.format(\n\u001b[0;32m    116\u001b[0m                     \u001b[0mtype_err\u001b[0m\u001b[1;33m,\u001b[0m \u001b[0mmsg_dtype\u001b[0m \u001b[1;32mif\u001b[0m \u001b[0mmsg_dtype\u001b[0m \u001b[1;32mis\u001b[0m \u001b[1;32mnot\u001b[0m \u001b[1;32mNone\u001b[0m \u001b[1;32melse\u001b[0m \u001b[0mX\u001b[0m\u001b[1;33m.\u001b[0m\u001b[0mdtype\u001b[0m\u001b[1;33m\u001b[0m\u001b[1;33m\u001b[0m\u001b[0m\n",
      "\u001b[1;31mValueError\u001b[0m: Input contains NaN, infinity or a value too large for dtype('float64')."
     ]
    }
   ],
   "source": [
    "mean_squared_error(actual_y,outSampleMinmax_y)"
   ]
  },
  {
   "cell_type": "markdown",
   "id": "9079de17",
   "metadata": {},
   "source": [
    "# SARIMA"
   ]
  },
  {
   "cell_type": "code",
   "execution_count": 429,
   "id": "35a8a777",
   "metadata": {},
   "outputs": [],
   "source": [
    "#DEFINING SARIMA MODEL\n",
    "import statsmodels.tsa.stattools\n",
    "import statsmodels.api as sm\n",
    "#(p,d,q) are determined using  Autocorrelation Function (ACF) , Partial Autocorrelation Functions (PACF) and tests for stationary.  \n",
    "#How do we interpret ACF and PACF plots?\n",
    "\n",
    "#p – Lag value where the PACF chart crosses the upper confidence interval for the first time.\n",
    "#q – Lag value where the ACF chart crosses the upper confidence interval for the first time.\n",
    "p= 1 #the trend autoregressive order.\n",
    "d= 0 #the trend difference order.\n",
    "q= 1 #the trend moving average order\n",
    "\n",
    "P= 1 #the number of seasonal autoregressive terms.\n",
    "D= 0 #the number of seasonal difference terms\n",
    "Q= 1 #the number of seasonal moving average terms\n",
    "M=2 #the number of time steps for a seasonal period \n",
    "myorder = (p,d,q)\n",
    "myseasonalorder = (P,D,Q,M)"
   ]
  },
  {
   "cell_type": "code",
   "execution_count": 430,
   "id": "2edd8032",
   "metadata": {},
   "outputs": [],
   "source": [
    "model = sm.tsa.statespace.SARIMAX(trainMinmax_y,\n",
    "                                  order=myorder, \n",
    "                                  seasonal_order=myseasonalorder,\n",
    "                                  trend='c')#,exog=trainMinmax_x \n"
   ]
  },
  {
   "cell_type": "code",
   "execution_count": 431,
   "id": "e3c92f49",
   "metadata": {},
   "outputs": [
    {
     "name": "stderr",
     "output_type": "stream",
     "text": [
      "c:\\users\\sachin\\appdata\\local\\programs\\python\\python39\\lib\\site-packages\\statsmodels\\tsa\\statespace\\sarimax.py:997: UserWarning: Non-stationary starting seasonal autoregressive Using zeros as starting parameters.\n",
      "  warn('Non-stationary starting seasonal autoregressive'\n"
     ]
    }
   ],
   "source": [
    "#Training the model\n",
    "model_fit = model.fit() \n",
    "\n",
    "# In case you want to add exgogenous variables\n",
    "#exogNormal = normalizer.transform(testing.values)\n",
    "#exogMinmax = min_max_scaler.transform(exogNormal)\n",
    "#exogMinmax_x,exogMinmax_y = exogMinmax[:,:-1],exogMinmax[:,-1]\n",
    "\n",
    "#Predicting\n",
    "totat_preds = len(testing)#len(exogMinmax_y)\n",
    "sarimaPred = model_fit.predict(start=1, end=totat_preds)#exog=exogMinmax_x"
   ]
  },
  {
   "cell_type": "code",
   "execution_count": 432,
   "id": "894c835e",
   "metadata": {},
   "outputs": [],
   "source": [
    "def plot_results(actual_y,predicted_y,method,date):\n",
    "    mse = mean_squared_error(actual_y,predicted_y)\n",
    "    \n",
    "    plt.figure(figsize=(16,4))\n",
    "    plt.plot(date,actual_y)\n",
    "    plt.plot(date,predicted_y)\n",
    "    plt.legend(['Actual','Predicted'])\n",
    "    plt.title(f'{method} (MSE: {mse})')        \n",
    "    plt.show()"
   ]
  },
  {
   "cell_type": "code",
   "execution_count": 433,
   "id": "47a787d2",
   "metadata": {},
   "outputs": [
    {
     "data": {
      "image/png": "[encoded data removed]",
      "text/plain": [
       "<Figure size 1152x288 with 1 Axes>"
      ]
     },
     "metadata": {
      "needs_background": "light"
     },
     "output_type": "display_data"
    },
    {
     "data": {
      "image/png": "[encoded data removed]",
      "text/plain": [
       "<Figure size 1152x288 with 1 Axes>"
      ]
     },
     "metadata": {
      "needs_background": "light"
     },
     "output_type": "display_data"
    }
   ],
   "source": [
    "plot_results(valMinmax_y,sarimaPred[:len(valMinmax_y)],'SARIMA Validation',range(len(valMinmax_y)))\n",
    "plot_results(outSampleMinmax_y,sarimaPred[len(valMinmax_y):],'SARIMA Testing',range(len(outSampleMinmax_y)))"
   ]
  },
  {
   "cell_type": "markdown",
   "id": "7fc6fe05",
   "metadata": {},
   "source": [
    "# preserve the temporal structure of the data"
   ]
  },
  {
   "cell_type": "code",
   "execution_count": 434,
   "id": "2896cf0b",
   "metadata": {},
   "outputs": [],
   "source": [
    "from numpy import array\n",
    "\n",
    "#split a multivariate sequence into samples that preserve the temporal structure of the data\n",
    "#SOURCE:https://machinelearningmastery.com/how-to-develop-lstm-models-for-time-series-forecasting/\n",
    "def split_sequences(sequences, n_steps_in, n_steps_out):\n",
    "    X, y = list(), list()\n",
    "    for i in range(len(sequences)):\n",
    "        # find the end of this pattern\n",
    "        end_ix = i + n_steps_in\n",
    "        out_end_ix = end_ix + n_steps_out-1\n",
    "        # check if we are beyond the dataset\n",
    "        if out_end_ix > len(sequences):\n",
    "            break\n",
    "        # gather input and output parts of the pattern\n",
    "        seq_x, seq_y = sequences[i:end_ix, :-1], sequences[end_ix-1:out_end_ix, -1]\n",
    "        X.append(seq_x)\n",
    "        y.append(seq_y)\n",
    "    return array(X), array(y)"
   ]
  },
  {
   "cell_type": "code",
   "execution_count": 435,
   "id": "d983fa67",
   "metadata": {},
   "outputs": [],
   "source": [
    "n_steps_in =30 #number of observations from the past that we assume to be relevant across time for forecasting\n",
    "n_steps_out = 15 #number of units ahead that we want to forecast into the future\n",
    "\n",
    "#training sequence\n",
    "trainSeq_x, trainSeq_y = split_sequences(trainMinmax, n_steps_in,n_steps_out)\n",
    "\n",
    "#out of sample sequence\n",
    "validationSeq_x, validationSeq_y= split_sequences(valMinmax, n_steps_in,n_steps_out)\n",
    "\n",
    "#out of sample sequence\n",
    "outSampleSeq_x, outSampleSeq_y= split_sequences(outSampleMinmax, n_steps_in,n_steps_out)"
   ]
  },
  {
   "cell_type": "code",
   "execution_count": 447,
   "id": "f6baa3c4",
   "metadata": {},
   "outputs": [
    {
     "data": {
      "text/plain": [
       "(450, 66)"
      ]
     },
     "execution_count": 447,
     "metadata": {},
     "output_type": "execute_result"
    }
   ],
   "source": [
    "trainMinmax.shape #Output: (rows,columns)"
   ]
  },
  {
   "cell_type": "code",
   "execution_count": 448,
   "id": "828e2757",
   "metadata": {},
   "outputs": [
    {
     "data": {
      "text/plain": [
       "array([], dtype=float64)"
      ]
     },
     "execution_count": 448,
     "metadata": {},
     "output_type": "execute_result"
    }
   ],
   "source": [
    "validationSeq_x"
   ]
  },
  {
   "cell_type": "code",
   "execution_count": null,
   "id": "59320be0",
   "metadata": {},
   "outputs": [],
   "source": []
  },
  {
   "cell_type": "code",
   "execution_count": 437,
   "id": "e73155e4",
   "metadata": {},
   "outputs": [
    {
     "data": {
      "text/plain": [
       "(407, 30, 65)"
      ]
     },
     "execution_count": 437,
     "metadata": {},
     "output_type": "execute_result"
    }
   ],
   "source": [
    "trainSeq_x.shape #Output: (number of samples,size of 'window' /timesteps,number of independent variables)"
   ]
  },
  {
   "cell_type": "markdown",
   "id": "79fa3ee4",
   "metadata": {},
   "source": [
    "# Convolutional Neural Network"
   ]
  },
  {
   "cell_type": "code",
   "execution_count": 438,
   "id": "fda474a4",
   "metadata": {},
   "outputs": [],
   "source": [
    "# Implementing a neural network in Keras\n",
    "from keras.models import Sequential\n",
    "from keras.layers import Dense, Flatten, Dropout, AveragePooling1D,MaxPooling1D\n",
    "from keras.layers import Conv1D,AveragePooling1D,MaxPooling1D\n",
    "from keras.callbacks import EarlyStopping\n",
    "from tensorflow.keras.optimizers import Adam\n",
    "from tensorflow.keras.optimizers import SGD\n",
    "from tensorflow.keras.optimizers import Nadam\n",
    "from tensorflow.keras.layers import BatchNormalization\n",
    "from keras.regularizers import l1,l2,l1_l2"
   ]
  },
  {
   "cell_type": "code",
   "execution_count": 439,
   "id": "b4fa994a",
   "metadata": {},
   "outputs": [],
   "source": [
    "############################# For Replicability : Always run this as one cell ##########################################\n",
    "#SOURCE :\n",
    "# The below is necessary for starting Numpy generated random numbers\n",
    "# in a well-defined initial state.\n",
    "np.random.seed(42)\n",
    "\n",
    "# The below is necessary for starting core Python generated random numbers\n",
    "# in a well-defined state.\n",
    "\n",
    "rn.seed(12345)\n",
    "# Force TensorFlow to use single thread.\n",
    "# Multiple threads are a potential source of non-reproducible results.\n",
    "# For further details, see: https://stackoverflow.com/questions/42022950/\n",
    "\n",
    "session_conf = tf.compat.v1.ConfigProto(intra_op_parallelism_threads=1,\n",
    "                              inter_op_parallelism_threads=1)\n",
    "# The below tf.set_random_seed() will make random number generation\n",
    "# in the TensorFlow backend have a well-defined initial state.\n",
    "# For further details, see:\n",
    "# https://www.tensorflow.org/api_docs/python/tf/set_random_seed\n",
    "\n",
    "#tf.random.set_random_seed(1234)\n",
    "tf.random.set_seed(1234)"
   ]
  },
  {
   "cell_type": "code",
   "execution_count": null,
   "id": "7e74088f",
   "metadata": {},
   "outputs": [],
   "source": []
  },
  {
   "cell_type": "code",
   "execution_count": 440,
   "id": "bca7d74a",
   "metadata": {},
   "outputs": [
    {
     "name": "stdout",
     "output_type": "stream",
     "text": [
      "Epoch 1/100\n"
     ]
    },
    {
     "name": "stderr",
     "output_type": "stream",
     "text": [
      "c:\\users\\sachin\\appdata\\local\\programs\\python\\python39\\lib\\site-packages\\keras\\optimizer_v2\\gradient_descent.py:102: UserWarning: The `lr` argument is deprecated, use `learning_rate` instead.\n",
      "  super(SGD, self).__init__(name, **kwargs)\n",
      "c:\\users\\sachin\\appdata\\local\\programs\\python\\python39\\lib\\site-packages\\tensorflow\\python\\data\\ops\\structured_function.py:264: UserWarning: Even though the `tf.config.experimental_run_functions_eagerly` option is set, this option does not apply to tf.data functions. To force eager execution of tf.data functions, please use `tf.data.experimental.enable_debug_mode()`.\n",
      "  warnings.warn(\n"
     ]
    },
    {
     "name": "stdout",
     "output_type": "stream",
     "text": [
      "5/5 - 0s - loss: nan - accuracy: 0.0000e+00 - 222ms/epoch - 44ms/step\n",
      "Epoch 2/100\n",
      "5/5 - 0s - loss: nan - accuracy: 0.0000e+00 - 164ms/epoch - 33ms/step\n",
      "Epoch 3/100\n",
      "5/5 - 0s - loss: nan - accuracy: 0.0000e+00 - 165ms/epoch - 33ms/step\n",
      "Epoch 4/100\n",
      "5/5 - 0s - loss: nan - accuracy: 0.0000e+00 - 166ms/epoch - 33ms/step\n",
      "Epoch 5/100\n",
      "5/5 - 0s - loss: nan - accuracy: 0.0000e+00 - 165ms/epoch - 33ms/step\n",
      "Epoch 6/100\n",
      "5/5 - 0s - loss: nan - accuracy: 0.0000e+00 - 167ms/epoch - 33ms/step\n",
      "Epoch 7/100\n",
      "5/5 - 0s - loss: nan - accuracy: 0.0000e+00 - 168ms/epoch - 34ms/step\n",
      "Epoch 8/100\n",
      "5/5 - 0s - loss: nan - accuracy: 0.0000e+00 - 165ms/epoch - 33ms/step\n",
      "Epoch 9/100\n",
      "5/5 - 0s - loss: nan - accuracy: 0.0000e+00 - 163ms/epoch - 33ms/step\n",
      "Epoch 10/100\n",
      "5/5 - 0s - loss: nan - accuracy: 0.0000e+00 - 163ms/epoch - 33ms/step\n",
      "Model: \"sequential_22\"\n",
      "_________________________________________________________________\n",
      " Layer (type)                Output Shape              Param #   \n",
      "=================================================================\n",
      " conv1d_17 (Conv1D)          (None, 15, 5)             655       \n",
      "                                                                 \n",
      " max_pooling1d_17 (MaxPoolin  (None, 15, 5)            0         \n",
      " g1D)                                                            \n",
      "                                                                 \n",
      " dropout_17 (Dropout)        (None, 15, 5)             0         \n",
      "                                                                 \n",
      " flatten_17 (Flatten)        (None, 75)                0         \n",
      "                                                                 \n",
      " dense_32 (Dense)            (None, 1)                 76        \n",
      "                                                                 \n",
      "=================================================================\n",
      "Total params: 731\n",
      "Trainable params: 731\n",
      "Non-trainable params: 0\n",
      "_________________________________________________________________\n"
     ]
    }
   ],
   "source": [
    "#from keras import backend as K\n",
    "sess = tf.compat.v1.Session(graph=tf.compat.v1.get_default_graph(), config=session_conf)\n",
    "tf.compat.v1.keras.backend.set_session(sess)\n",
    "###########################################################################################################################\n",
    "\n",
    "#While training the neural network, it is important that we use the MSE error of the validation set to decide when to \n",
    "#stop training our network. If we use the MSE of the training set, we will not get good predictions in the test set due \n",
    "#to over fitting. However, unlike the error in the training set, the error in the validation set does not reduce with \n",
    "#every passing epoch. Sometimes, it increases for a while before it starts declining. The patience argument in Earlystop allows us \n",
    "#to decide how many times we want the validation error to keep increasing before we stop training the neural network.\n",
    "\n",
    "#EarlyStop = EarlyStopping(monitor='loss', patience=10, verbose=0, mode='auto',restore_best_weights=True)\n",
    "EarlyStop = tf.keras.callbacks.EarlyStopping(\n",
    "    monitor=\"loss\",\n",
    "    min_delta=0,\n",
    "    patience=10,\n",
    "    verbose=0,\n",
    "    mode=\"auto\",\n",
    "    baseline=None,\n",
    "    restore_best_weights=False,\n",
    ")\n",
    "\n",
    "epochs = 100 #number of times the feed forward mechanism and back propagation are repeated \n",
    "\n",
    "bs = 100 #batch size for SGD :show what happens when batch size very small\n",
    "lr =0 #learning rate: the degree to which the weights are updated by each batch of SGD\n",
    "\n",
    "sgd = SGD(lr=lr) #type of optimizer - Alternative: ADAM, NADAM\n",
    "\n",
    "X, y = split_sequences(trainMinmax, n_steps_in,n_steps_out)\n",
    "n_features = X.shape[2]\n",
    "\n",
    "np.random.seed(0)\n",
    "\n",
    "model = Sequential() #initializing keras Sequential model\n",
    "\n",
    "#convolutional layer starts\n",
    "model.add(Conv1D(filters=5,#number of filters\n",
    "                 kernel_size=2,#size of the filte racross time\n",
    "                 strides=2, #number of rows that the filter moves ahead by\n",
    "                 activation='linear',#transformation\n",
    "                 input_shape=(n_steps_in, n_features))) #shape of 1 sample : preserves temporal structure\n",
    "                #kernel_regularizer=l2(0.009),, bias_regularizer=l2(0.01)\n",
    "#convolutional layer ends\n",
    "\n",
    "model.add(MaxPooling1D(pool_size=1)) #sub-sampling layer - Alternative: AveragePooling1D\n",
    "\n",
    "#model.add(BatchNormalization())\n",
    "model.add(Dropout(0.1)) #reduces overfitting by dropping some weights randomly\n",
    "\n",
    "#regression layer begins\n",
    "model.add(Flatten())\n",
    "model.add(Dense(1,#number of outputs\n",
    "                activation='tanh',#transformation:other options include - ReLU,Linear,Sigmoid\n",
    "                kernel_regularizer=l2(0.01))) \n",
    "\n",
    "#model.compile(loss='mean_squared_error', optimizer='sgd') #specifies which optimizer and loss funtion to useto use \n",
    "model.compile(optimizer=\"adam\",loss=\"mean_squared_error\",metrics=['accuracy'],run_eagerly=True)\n",
    "#training the model\n",
    "model.fit(trainSeq_x, trainSeq_y,\n",
    "          batch_size=bs,\n",
    "          epochs=epochs, \n",
    "          callbacks= [EarlyStop],\n",
    "          verbose=2, \n",
    "          shuffle=False,#always set to false for time series data\n",
    "          validation_data =(validationSeq_x, validationSeq_y))\n",
    "\n",
    "                         \n",
    "    \n",
    "    \n",
    "model.summary()\n",
    "\n"
   ]
  },
  {
   "cell_type": "code",
   "execution_count": 441,
   "id": "824abc31",
   "metadata": {
    "scrolled": true
   },
   "outputs": [],
   "source": [
    "# validation metrics \n",
    "#cnnValPred = model.predict(validationSeq_x)\n",
    "\n",
    "#testing prediction\n",
    "#cnnOutSamplePred = model.predict(outSampleSeq_x)\n",
    "    \n",
    "#plot_results(validationSeq_y ,cnnValPred  ,'CNN Validation',range(len(validationSeq_y)))\n",
    "#plot_results(outSampleSeq_y ,cnnOutSamplePred  ,'CNN Testing',range(len(outSampleSeq_y)))"
   ]
  },
  {
   "cell_type": "code",
   "execution_count": null,
   "id": "894a5193",
   "metadata": {},
   "outputs": [],
   "source": []
  },
  {
   "cell_type": "code",
   "execution_count": null,
   "id": "827e8a75",
   "metadata": {},
   "outputs": [],
   "source": []
  },
  {
   "cell_type": "code",
   "execution_count": null,
   "id": "51b87a48",
   "metadata": {},
   "outputs": [],
   "source": []
  }
 ],
 "metadata": {
  "kernelspec": {
   "display_name": "Python 3 (ipykernel)",
   "language": "python",
   "name": "python3"
  },
  "language_info": {
   "codemirror_mode": {
    "name": "ipython",
    "version": 3
   },
   "file_extension": ".py",
   "mimetype": "text/x-python",
   "name": "python",
   "nbconvert_exporter": "python",
   "pygments_lexer": "ipython3",
   "version": "3.9.6"
  }
 },
 "nbformat": 4,
 "nbformat_minor": 5
}
