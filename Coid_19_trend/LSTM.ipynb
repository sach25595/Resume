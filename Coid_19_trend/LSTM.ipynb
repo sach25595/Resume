{
 "cells": [
  {
   "cell_type": "code",
   "execution_count": 2,
   "id": "da287699",
   "metadata": {},
   "outputs": [],
   "source": [
    "import numpy\n",
    "import matplotlib.pyplot as plt\n",
    "import pandas\n",
    "import math\n",
    "from keras.models import Sequential\n",
    "from keras.layers import Dense\n",
    "from keras.layers import LSTM\n",
    "from sklearn.preprocessing import MinMaxScaler\n",
    "from sklearn.metrics import mean_squared_error"
   ]
  },
  {
   "cell_type": "code",
   "execution_count": 3,
   "id": "da23b9ef",
   "metadata": {},
   "outputs": [],
   "source": [
    "# fix random seed for reproducibility\n",
    "numpy.random.seed(7)"
   ]
  },
  {
   "cell_type": "code",
   "execution_count": 4,
   "id": "80a4b3cf",
   "metadata": {},
   "outputs": [],
   "source": [
    "# load the dataset\n",
    "dataframe = pandas.read_excel('Golbal_combined2.xlsx', usecols=[1])\n",
    "dataset = dataframe.values\n",
    "dataset = dataset.astype('float32')"
   ]
  },
  {
   "cell_type": "code",
   "execution_count": 5,
   "id": "325f4918",
   "metadata": {},
   "outputs": [],
   "source": [
    "# normalize the dataset\n",
    "scaler = MinMaxScaler(feature_range=(0, 1))\n",
    "dataset = scaler.fit_transform(dataset)"
   ]
  },
  {
   "cell_type": "code",
   "execution_count": 6,
   "id": "f9d46808",
   "metadata": {},
   "outputs": [
    {
     "name": "stdout",
     "output_type": "stream",
     "text": [
      "335 165\n"
     ]
    }
   ],
   "source": [
    "# split into train and test sets\n",
    "train_size = int(len(dataset) * 0.67)\n",
    "test_size = len(dataset) - train_size\n",
    "train, test = dataset[0:train_size,:], dataset[train_size:len(dataset),:]\n",
    "print(len(train), len(test))"
   ]
  },
  {
   "cell_type": "code",
   "execution_count": 7,
   "id": "1ab87bb1",
   "metadata": {},
   "outputs": [],
   "source": [
    "# convert an array of values into a dataset matrix\n",
    "def create_dataset(dataset, look_back=1):\n",
    "\tdataX, dataY = [], []\n",
    "\tfor i in range(len(dataset)-look_back-1):\n",
    "\t\ta = dataset[i:(i+look_back), 0]\n",
    "\t\tdataX.append(a)\n",
    "\t\tdataY.append(dataset[i + look_back, 0])\n",
    "\treturn numpy.array(dataX), numpy.array(dataY)"
   ]
  },
  {
   "cell_type": "code",
   "execution_count": 8,
   "id": "a7696e27",
   "metadata": {},
   "outputs": [],
   "source": [
    "# reshape into X=t and Y=t+1\n",
    "look_back = 5\n",
    "trainX, trainY = create_dataset(train, look_back)\n",
    "testX, testY = create_dataset(test, look_back)"
   ]
  },
  {
   "cell_type": "code",
   "execution_count": 9,
   "id": "b068e1d8",
   "metadata": {},
   "outputs": [],
   "source": [
    "# reshape input to be [samples, time steps, features]\n",
    "trainX = numpy.reshape(trainX, (trainX.shape[0], 1, trainX.shape[1]))\n",
    "testX = numpy.reshape(testX, (testX.shape[0], 1, testX.shape[1]))"
   ]
  },
  {
   "cell_type": "code",
   "execution_count": 10,
   "id": "376a9219",
   "metadata": {},
   "outputs": [
    {
     "name": "stdout",
     "output_type": "stream",
     "text": [
      "Epoch 1/100\n",
      "329/329 - 9s - loss: 0.0060 - 9s/epoch - 29ms/step\n",
      "Epoch 2/100\n",
      "329/329 - 2s - loss: 0.0037 - 2s/epoch - 6ms/step\n",
      "Epoch 3/100\n",
      "329/329 - 2s - loss: 0.0033 - 2s/epoch - 6ms/step\n",
      "Epoch 4/100\n",
      "329/329 - 2s - loss: 0.0033 - 2s/epoch - 6ms/step\n",
      "Epoch 5/100\n",
      "329/329 - 2s - loss: 0.0031 - 2s/epoch - 5ms/step\n",
      "Epoch 6/100\n",
      "329/329 - 2s - loss: 0.0030 - 2s/epoch - 6ms/step\n",
      "Epoch 7/100\n",
      "329/329 - 2s - loss: 0.0029 - 2s/epoch - 6ms/step\n",
      "Epoch 8/100\n",
      "329/329 - 2s - loss: 0.0028 - 2s/epoch - 6ms/step\n",
      "Epoch 9/100\n",
      "329/329 - 2s - loss: 0.0027 - 2s/epoch - 6ms/step\n",
      "Epoch 10/100\n",
      "329/329 - 2s - loss: 0.0027 - 2s/epoch - 6ms/step\n",
      "Epoch 11/100\n",
      "329/329 - 3s - loss: 0.0027 - 3s/epoch - 9ms/step\n",
      "Epoch 12/100\n",
      "329/329 - 2s - loss: 0.0025 - 2s/epoch - 6ms/step\n",
      "Epoch 13/100\n",
      "329/329 - 2s - loss: 0.0025 - 2s/epoch - 6ms/step\n",
      "Epoch 14/100\n",
      "329/329 - 2s - loss: 0.0025 - 2s/epoch - 6ms/step\n",
      "Epoch 15/100\n",
      "329/329 - 2s - loss: 0.0024 - 2s/epoch - 7ms/step\n",
      "Epoch 16/100\n",
      "329/329 - 2s - loss: 0.0025 - 2s/epoch - 6ms/step\n",
      "Epoch 17/100\n",
      "329/329 - 2s - loss: 0.0024 - 2s/epoch - 7ms/step\n",
      "Epoch 18/100\n",
      "329/329 - 3s - loss: 0.0024 - 3s/epoch - 8ms/step\n",
      "Epoch 19/100\n",
      "329/329 - 2s - loss: 0.0024 - 2s/epoch - 7ms/step\n",
      "Epoch 20/100\n",
      "329/329 - 2s - loss: 0.0023 - 2s/epoch - 6ms/step\n",
      "Epoch 21/100\n",
      "329/329 - 2s - loss: 0.0023 - 2s/epoch - 6ms/step\n",
      "Epoch 22/100\n",
      "329/329 - 2s - loss: 0.0023 - 2s/epoch - 6ms/step\n",
      "Epoch 23/100\n",
      "329/329 - 2s - loss: 0.0023 - 2s/epoch - 5ms/step\n",
      "Epoch 24/100\n",
      "329/329 - 2s - loss: 0.0022 - 2s/epoch - 5ms/step\n",
      "Epoch 25/100\n",
      "329/329 - 2s - loss: 0.0023 - 2s/epoch - 6ms/step\n",
      "Epoch 26/100\n",
      "329/329 - 2s - loss: 0.0022 - 2s/epoch - 5ms/step\n",
      "Epoch 27/100\n",
      "329/329 - 2s - loss: 0.0022 - 2s/epoch - 5ms/step\n",
      "Epoch 28/100\n",
      "329/329 - 2s - loss: 0.0022 - 2s/epoch - 5ms/step\n",
      "Epoch 29/100\n",
      "329/329 - 2s - loss: 0.0022 - 2s/epoch - 6ms/step\n",
      "Epoch 30/100\n",
      "329/329 - 2s - loss: 0.0022 - 2s/epoch - 7ms/step\n",
      "Epoch 31/100\n",
      "329/329 - 2s - loss: 0.0021 - 2s/epoch - 6ms/step\n",
      "Epoch 32/100\n",
      "329/329 - 2s - loss: 0.0021 - 2s/epoch - 5ms/step\n",
      "Epoch 33/100\n",
      "329/329 - 2s - loss: 0.0022 - 2s/epoch - 6ms/step\n",
      "Epoch 34/100\n",
      "329/329 - 2s - loss: 0.0021 - 2s/epoch - 5ms/step\n",
      "Epoch 35/100\n",
      "329/329 - 2s - loss: 0.0021 - 2s/epoch - 6ms/step\n",
      "Epoch 36/100\n",
      "329/329 - 2s - loss: 0.0021 - 2s/epoch - 7ms/step\n",
      "Epoch 37/100\n",
      "329/329 - 2s - loss: 0.0021 - 2s/epoch - 7ms/step\n",
      "Epoch 38/100\n",
      "329/329 - 2s - loss: 0.0021 - 2s/epoch - 6ms/step\n",
      "Epoch 39/100\n",
      "329/329 - 2s - loss: 0.0021 - 2s/epoch - 6ms/step\n",
      "Epoch 40/100\n",
      "329/329 - 2s - loss: 0.0021 - 2s/epoch - 6ms/step\n",
      "Epoch 41/100\n",
      "329/329 - 2s - loss: 0.0021 - 2s/epoch - 5ms/step\n",
      "Epoch 42/100\n",
      "329/329 - 2s - loss: 0.0021 - 2s/epoch - 5ms/step\n",
      "Epoch 43/100\n",
      "329/329 - 2s - loss: 0.0021 - 2s/epoch - 5ms/step\n",
      "Epoch 44/100\n",
      "329/329 - 2s - loss: 0.0021 - 2s/epoch - 6ms/step\n",
      "Epoch 45/100\n",
      "329/329 - 2s - loss: 0.0021 - 2s/epoch - 7ms/step\n",
      "Epoch 46/100\n",
      "329/329 - 2s - loss: 0.0020 - 2s/epoch - 6ms/step\n",
      "Epoch 47/100\n",
      "329/329 - 2s - loss: 0.0021 - 2s/epoch - 6ms/step\n",
      "Epoch 48/100\n",
      "329/329 - 2s - loss: 0.0021 - 2s/epoch - 6ms/step\n",
      "Epoch 49/100\n",
      "329/329 - 2s - loss: 0.0021 - 2s/epoch - 5ms/step\n",
      "Epoch 50/100\n",
      "329/329 - 2s - loss: 0.0020 - 2s/epoch - 6ms/step\n",
      "Epoch 51/100\n",
      "329/329 - 2s - loss: 0.0020 - 2s/epoch - 6ms/step\n",
      "Epoch 52/100\n",
      "329/329 - 2s - loss: 0.0020 - 2s/epoch - 5ms/step\n",
      "Epoch 53/100\n",
      "329/329 - 2s - loss: 0.0020 - 2s/epoch - 6ms/step\n",
      "Epoch 54/100\n",
      "329/329 - 2s - loss: 0.0021 - 2s/epoch - 6ms/step\n",
      "Epoch 55/100\n",
      "329/329 - 2s - loss: 0.0020 - 2s/epoch - 7ms/step\n",
      "Epoch 56/100\n",
      "329/329 - 2s - loss: 0.0020 - 2s/epoch - 7ms/step\n",
      "Epoch 57/100\n",
      "329/329 - 2s - loss: 0.0021 - 2s/epoch - 6ms/step\n",
      "Epoch 58/100\n",
      "329/329 - 2s - loss: 0.0020 - 2s/epoch - 6ms/step\n",
      "Epoch 59/100\n",
      "329/329 - 2s - loss: 0.0020 - 2s/epoch - 5ms/step\n",
      "Epoch 60/100\n",
      "329/329 - 2s - loss: 0.0020 - 2s/epoch - 5ms/step\n",
      "Epoch 61/100\n",
      "329/329 - 2s - loss: 0.0020 - 2s/epoch - 5ms/step\n",
      "Epoch 62/100\n",
      "329/329 - 2s - loss: 0.0020 - 2s/epoch - 5ms/step\n",
      "Epoch 63/100\n",
      "329/329 - 2s - loss: 0.0020 - 2s/epoch - 6ms/step\n",
      "Epoch 64/100\n",
      "329/329 - 3s - loss: 0.0020 - 3s/epoch - 10ms/step\n",
      "Epoch 65/100\n",
      "329/329 - 3s - loss: 0.0020 - 3s/epoch - 8ms/step\n",
      "Epoch 66/100\n",
      "329/329 - 3s - loss: 0.0020 - 3s/epoch - 9ms/step\n",
      "Epoch 67/100\n",
      "329/329 - 3s - loss: 0.0019 - 3s/epoch - 8ms/step\n",
      "Epoch 68/100\n",
      "329/329 - 3s - loss: 0.0021 - 3s/epoch - 9ms/step\n",
      "Epoch 69/100\n",
      "329/329 - 3s - loss: 0.0020 - 3s/epoch - 8ms/step\n",
      "Epoch 70/100\n",
      "329/329 - 3s - loss: 0.0020 - 3s/epoch - 9ms/step\n",
      "Epoch 71/100\n",
      "329/329 - 2s - loss: 0.0020 - 2s/epoch - 6ms/step\n",
      "Epoch 72/100\n",
      "329/329 - 2s - loss: 0.0020 - 2s/epoch - 7ms/step\n",
      "Epoch 73/100\n",
      "329/329 - 2s - loss: 0.0020 - 2s/epoch - 6ms/step\n",
      "Epoch 74/100\n",
      "329/329 - 2s - loss: 0.0020 - 2s/epoch - 6ms/step\n",
      "Epoch 75/100\n",
      "329/329 - 2s - loss: 0.0020 - 2s/epoch - 6ms/step\n",
      "Epoch 76/100\n",
      "329/329 - 2s - loss: 0.0020 - 2s/epoch - 5ms/step\n",
      "Epoch 77/100\n",
      "329/329 - 2s - loss: 0.0020 - 2s/epoch - 5ms/step\n",
      "Epoch 78/100\n",
      "329/329 - 2s - loss: 0.0020 - 2s/epoch - 5ms/step\n",
      "Epoch 79/100\n",
      "329/329 - 2s - loss: 0.0020 - 2s/epoch - 6ms/step\n",
      "Epoch 80/100\n",
      "329/329 - 2s - loss: 0.0020 - 2s/epoch - 6ms/step\n",
      "Epoch 81/100\n",
      "329/329 - 2s - loss: 0.0020 - 2s/epoch - 5ms/step\n",
      "Epoch 82/100\n",
      "329/329 - 2s - loss: 0.0020 - 2s/epoch - 5ms/step\n",
      "Epoch 83/100\n",
      "329/329 - 3s - loss: 0.0020 - 3s/epoch - 8ms/step\n",
      "Epoch 84/100\n",
      "329/329 - 2s - loss: 0.0020 - 2s/epoch - 6ms/step\n",
      "Epoch 85/100\n",
      "329/329 - 2s - loss: 0.0020 - 2s/epoch - 7ms/step\n",
      "Epoch 86/100\n",
      "329/329 - 2s - loss: 0.0020 - 2s/epoch - 6ms/step\n",
      "Epoch 87/100\n",
      "329/329 - 3s - loss: 0.0020 - 3s/epoch - 8ms/step\n",
      "Epoch 88/100\n",
      "329/329 - 2s - loss: 0.0020 - 2s/epoch - 6ms/step\n",
      "Epoch 89/100\n",
      "329/329 - 2s - loss: 0.0020 - 2s/epoch - 5ms/step\n",
      "Epoch 90/100\n",
      "329/329 - 2s - loss: 0.0019 - 2s/epoch - 5ms/step\n",
      "Epoch 91/100\n",
      "329/329 - 2s - loss: 0.0020 - 2s/epoch - 5ms/step\n",
      "Epoch 92/100\n",
      "329/329 - 2s - loss: 0.0019 - 2s/epoch - 6ms/step\n",
      "Epoch 93/100\n",
      "329/329 - 2s - loss: 0.0019 - 2s/epoch - 5ms/step\n",
      "Epoch 94/100\n",
      "329/329 - 2s - loss: 0.0019 - 2s/epoch - 7ms/step\n",
      "Epoch 95/100\n",
      "329/329 - 2s - loss: 0.0019 - 2s/epoch - 7ms/step\n",
      "Epoch 96/100\n",
      "329/329 - 2s - loss: 0.0019 - 2s/epoch - 7ms/step\n",
      "Epoch 97/100\n",
      "329/329 - 2s - loss: 0.0020 - 2s/epoch - 7ms/step\n",
      "Epoch 98/100\n",
      "329/329 - 2s - loss: 0.0019 - 2s/epoch - 6ms/step\n",
      "Epoch 99/100\n",
      "329/329 - 2s - loss: 0.0020 - 2s/epoch - 6ms/step\n",
      "Epoch 100/100\n",
      "329/329 - 2s - loss: 0.0019 - 2s/epoch - 6ms/step\n"
     ]
    },
    {
     "data": {
      "text/plain": [
       "<keras.callbacks.History at 0x29bda43acd0>"
      ]
     },
     "execution_count": 10,
     "metadata": {},
     "output_type": "execute_result"
    }
   ],
   "source": [
    "# create and fit the LSTM network\n",
    "model = Sequential()\n",
    "model.add(LSTM(2, input_shape=(1, look_back)))\n",
    "model.add(Dense(1))\n",
    "model.compile(loss='mean_squared_error', optimizer='adam')\n",
    "model.fit(trainX, trainY, epochs=100, batch_size=1, verbose=2)"
   ]
  },
  {
   "cell_type": "code",
   "execution_count": 11,
   "id": "21f9752f",
   "metadata": {},
   "outputs": [
    {
     "name": "stdout",
     "output_type": "stream",
     "text": [
      "Train Score: 64086.16 RMSE\n",
      "Test Score: 79304.81 RMSE\n"
     ]
    }
   ],
   "source": [
    "# make predictions\n",
    "trainPredict = model.predict(trainX)\n",
    "testPredict = model.predict(testX)\n",
    "# invert predictions\n",
    "trainPredict = scaler.inverse_transform(trainPredict)\n",
    "trainY = scaler.inverse_transform([trainY])\n",
    "testPredict = scaler.inverse_transform(testPredict)\n",
    "testY = scaler.inverse_transform([testY])\n",
    "# calculate root mean squared error\n",
    "trainScore = math.sqrt(mean_squared_error(trainY[0], trainPredict[:,0]))\n",
    "print('Train Score: %.2f RMSE' % (trainScore))\n",
    "testScore = math.sqrt(mean_squared_error(testY[0], testPredict[:,0]))\n",
    "print('Test Score: %.2f RMSE' % (testScore))"
   ]
  },
  {
   "cell_type": "code",
   "execution_count": 19,
   "id": "05af676d",
   "metadata": {},
   "outputs": [
    {
     "name": "stdout",
     "output_type": "stream",
     "text": [
      " r2_score 0.7667368481124832\n",
      "Mean Square Error 6289252626.674711\n",
      "Mean Absolute Error 58100.973738778805\n",
      "Mean Absolute percentage Error 0.11034868641945525\n"
     ]
    }
   ],
   "source": [
    "from sklearn.metrics import explained_variance_score, r2_score, mean_squared_error, mean_absolute_percentage_error,mean_absolute_error\n",
    "print(' r2_score',r2_score(testY[0], testPredict[:,0]))\n",
    "print('Mean Square Error',mean_squared_error(testY[0], testPredict[:,0]))\n",
    "print('Mean Absolute Error',mean_absolute_error(testY[0], testPredict[:,0]))\n",
    "print('Mean Absolute percentage Error',mean_absolute_percentage_error(testY[0], testPredict[:,0]))"
   ]
  },
  {
   "cell_type": "code",
   "execution_count": 12,
   "id": "0655d879",
   "metadata": {},
   "outputs": [
    {
     "data": {
      "text/plain": [
       "4107036081.9784436"
      ]
     },
     "execution_count": 12,
     "metadata": {},
     "output_type": "execute_result"
    }
   ],
   "source": [
    "mean_squared_error(trainY[0], trainPredict[:,0])"
   ]
  },
  {
   "cell_type": "code",
   "execution_count": 17,
   "id": "9f2a361f",
   "metadata": {},
   "outputs": [
    {
     "data": {
      "image/png": "[encoded data removed]",
      "text/plain": [
       "<Figure size 576x576 with 1 Axes>"
      ]
     },
     "metadata": {
      "needs_background": "light"
     },
     "output_type": "display_data"
    },
    {
     "data": {
      "text/plain": [
       "Text(0, 0.5, 'Confirmed cases daily')"
      ]
     },
     "execution_count": 17,
     "metadata": {},
     "output_type": "execute_result"
    },
    {
     "data": {
      "image/png": "[encoded data removed]",
      "text/plain": [
       "<Figure size 432x288 with 1 Axes>"
      ]
     },
     "metadata": {
      "needs_background": "light"
     },
     "output_type": "display_data"
    }
   ],
   "source": [
    "# shift train predictions for plotting\n",
    "trainPredictPlot = numpy.empty_like(dataset)\n",
    "trainPredictPlot[:, :] = numpy.nan\n",
    "trainPredictPlot[look_back:len(trainPredict)+look_back, :] = trainPredict\n",
    "# shift test predictions for plotting\n",
    "testPredictPlot = numpy.empty_like(dataset)\n",
    "testPredictPlot[:, :] = numpy.nan\n",
    "testPredictPlot[len(trainPredict)+(look_back*2)+1:len(dataset)-1, :] = testPredict\n",
    "# plot baseline and predictions\n",
    "plt.figure(figsize=(8,8))\n",
    "plt.plot(scaler.inverse_transform(dataset))\n",
    "plt.plot(trainPredictPlot,'g')\n",
    "plt.plot(testPredictPlot,'r')\n",
    "plt.show()\n",
    "plt.xlabel('No. of days from starting')\n",
    "plt.ylabel('Confirmed cases daily')\n"
   ]
  },
  {
   "cell_type": "code",
   "execution_count": null,
   "id": "dbcfb824",
   "metadata": {},
   "outputs": [],
   "source": []
  },
  {
   "cell_type": "code",
   "execution_count": null,
   "id": "6518303c",
   "metadata": {},
   "outputs": [],
   "source": []
  },
  {
   "cell_type": "code",
   "execution_count": null,
   "id": "f9f8267b",
   "metadata": {},
   "outputs": [],
   "source": []
  }
 ],
 "metadata": {
  "kernelspec": {
   "display_name": "Python 3 (ipykernel)",
   "language": "python",
   "name": "python3"
  },
  "language_info": {
   "codemirror_mode": {
    "name": "ipython",
    "version": 3
   },
   "file_extension": ".py",
   "mimetype": "text/x-python",
   "name": "python",
   "nbconvert_exporter": "python",
   "pygments_lexer": "ipython3",
   "version": "3.9.6"
  }
 },
 "nbformat": 4,
 "nbformat_minor": 5
}
